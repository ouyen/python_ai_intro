{
 "cells": [
  {
   "cell_type": "markdown",
   "metadata": {},
   "source": [
    "# Homework_2021_03_23\n",
    "截止日期：03.29 \n",
    "\n",
    "## 第一部分：XML解析 "
   ]
  },
  {
   "cell_type": "markdown",
   "metadata": {},
   "source": [
    "### 1.1 读取并解析tang300.xml文件，首先请按行打印出来文件的内容，10行即可。\n",
    "关于xml解析的相关代码，可以参看https://www.runoob.com/python/python-xml.html"
   ]
  },
  {
   "cell_type": "code",
   "execution_count": null,
   "metadata": {},
   "outputs": [],
   "source": [
    "with open('tang300.xml','r') as f:\n",
    "    for i in range(10):\n",
    "        print(f.readline().strip())"
   ]
  },
  {
   "cell_type": "markdown",
   "metadata": {},
   "source": [
    "### 1.2 各保存20首李白、杜甫、白居易、王維（維是繁体）的诗（题目以及内容）。要求为每首诗歌生成独立的数据对象，包括 标题、作者、诗内容（按行）的元组（tuple）"
   ]
  },
  {
   "cell_type": "code",
   "execution_count": null,
   "metadata": {},
   "outputs": [],
   "source": [
    "# import xml.dom.minidom\n",
    "# import xml.sax\n",
    "import re\n",
    "'''\n",
    "使用minidom解析器打开 XML 文档，当然使用sax也行。或者也可以尝试自己写解析算法，比如正则表达式。\n",
    "不同的方法实现得好都有机会被作为作业样本并获得加分\n",
    "'''\n",
    "# DOMTree = xml.dom.minidom.parse(\"tang300.xml\")\n",
    "# collection = DOMTree.documentElement\n",
    " \n",
    "# # 在集合中获取所有诗句\n",
    "# poems = collection.getElementsByTagName(\"作业用唐诗\")\n",
    "with open('tang300.xml','r') as f:\n",
    "    poem_xml=f.read()\n",
    "\n",
    "poet_re=lambda name:re.compile('<作业用唐诗>\\n<ID>\\d+</ID>\\n<Poem_id>\\d+</Poem_id>\\n<line_number>-100</line_number>\\n<contance>##(.+)</contance>\\n</作业用唐诗>\\n<作业用唐诗>\\n<ID>\\d+</ID>\\n<Poem_id>\\d+</Poem_id>\\n<line_number>-1</line_number>\\n<contance>\\$\\$(%s)</contance>\\n</作业用唐诗>\\n<作业用唐诗>\\n<ID>\\d+</ID>\\n<Poem_id>\\d+</Poem_id>\\n<line_number>1</line_number>\\n<contance>(.+)</contance>\\n</作业用唐诗>\\n<作业用唐诗>\\n<ID>\\d+</ID>\\n<Poem_id>\\d+</Poem_id>\\n<line_number>2</line_number>\\n<contance>(.+)</contance>\\n</作业用唐诗>\\n<作业用唐诗>\\n<ID>\\d+</ID>\\n<Poem_id>\\d+</Poem_id>\\n<line_number>3</line_number>\\n<contance>(.+)</contance>\\n</作业用唐诗>\\n<作业用唐诗>\\n<ID>\\d+</ID>\\n<Poem_id>\\d+</Poem_id>\\n<line_number>4</line_number>\\n<contance>(.+)</contance>\\n</作业用唐诗>\\n'%name)\n",
    "\n",
    "poems=dict()\n",
    "for i in '李白、杜甫、白居易、王維'.split('、'):\n",
    "    poems[i]=poet_re(i).findall(poem_xml)[:20]\n",
    "## 请在这里打印出保存的任意一位诗人的诗的数据对象\n",
    "poems['李白']"
   ]
  },
  {
   "cell_type": "markdown",
   "metadata": {},
   "source": [
    "### 1.3 实现search_poem函数，该函数打印你保存的指定作者的诗歌的标题，并返回一个list。"
   ]
  },
  {
   "cell_type": "code",
   "execution_count": null,
   "metadata": {},
   "outputs": [],
   "source": [
    "def search_poem(author):\n",
    "    '''\n",
    "    可以通过循环或列表生成式实现\n",
    "    '''\n",
    "    title_list=[poems[author][i][0] for i in range(20)]\n",
    "    return title_list\n",
    "search_poem(\"李白\")"
   ]
  },
  {
   "cell_type": "markdown",
   "metadata": {},
   "source": [
    "## 第二部分 发布者-订阅者模式\n",
    "\n",
    "实现 设计模式中的观察者模式，本部分将以第一部分中提取的诗歌信息作为主题。\n",
    "\n",
    "观察者模式也被称为发布-订阅（Publish/Subscribe）模式。当这个主题对象状态变化时，会通知所有观察者对象并作出相应处理逻辑。\n",
    "\n",
    "在本问题中，可以形象地理解成，Publisher为诗歌发布中心，Reader为订阅相应诗人的诗歌的人。需要实现订阅，退订，Publisher可以发布新增、删除诗歌的消息以及当前各位诗人的诗歌的总数。当Publisher发布消息时，它需要把需要推送给所有订阅的Reader。\n",
    "\n",
    "\n",
    "**Publisher（发布者）**\n",
    "\n",
    "    - 保存订阅的读者\n",
    "    - 记录四位诗人各自诗歌的总数\n",
    "    - 发布四位诗人新诗的消息，每次只需要发布一首\n",
    "    - 发布新消息时，发布给所有已订阅的读者   \n",
    "   只有一位发布者Publisher\n",
    "   \n",
    "**Reader（订阅者）**\n",
    "\n",
    "    - 订阅/取消订阅 发布者（注意同一个发布者不要重复订阅）\n",
    "    - 保存发布者发来的诗歌\n",
    "关于保存消息，读者分为**两种类型**：\n",
    "- Type1：保存所有消息，这意味着这类读者需要将四位诗人的诗歌分类。\n",
    "- Type2：只保存最新的消息（也就是说只需要保存一首诗）。 \n",
    "\n",
    "要求实例化三个Reader: Alice, Bob, Carol，其中Alice为Type1，Bob&Carol为Type2.\n",
    "\n",
    "要求Reader实现printStatistics方法来打印保存的诗歌。\n",
    "\n",
    "要求实现Publisher的__str__方法，输出自己现有的Reader和发出的诗歌数目。\n",
    "\n",
    "下面给出的代码作为参考，可以不按照下面的参考实现。\n",
    "\n",
    "#### 参考资料\n",
    "\n",
    "[1. Observer pattern Wiki](https://en.wikipedia.org/wiki/Observer_pattern)   \n",
    "[2. 设计模式之观察者模式（c++）](https://www.cnblogs.com/carsonzhu/p/5770253.html)"
   ]
  },
  {
   "cell_type": "markdown",
   "metadata": {},
   "source": [
    "### 2.1 完成上述Publisher & Reader的代码，先不需要考虑多进程"
   ]
  },
  {
   "cell_type": "code",
   "execution_count": null,
   "metadata": {},
   "outputs": [],
   "source": [
    "class BasePublisher(object):\n",
    "    def __init__(self,name):\n",
    "        self.name=name\n",
    "        self.reader=[]\n",
    "        self.published=0\n",
    "        self.poems={'李白':0,'杜甫':0,'白居易':0,'王維':0}\n",
    "\n",
    "    def subscribeReader(self, reader):\n",
    "        self.reader.append(reader)\n",
    "\n",
    "    def unsubscribeReader(self, reader):\n",
    "        self.reader.remove(reader)\n",
    "\n",
    "    def notifyReader(self,author, poem):\n",
    "        raise NotImplementedError\n",
    "            \n",
    "    def __str__(self):\n",
    "        return '现有的Reader: '+','.join([i.name for i in self.reader])+'\\n发出的诗歌数目'+str(self.poems)\n",
    "\n",
    "\n",
    "class Publisher(BasePublisher):\n",
    "    def notifyReader(self,author, poem):\n",
    "        self.poems[author]+=1\n",
    "        for i in self.reader:\n",
    "            i.receivePoem(self.name,poem,author)"
   ]
  },
  {
   "cell_type": "code",
   "execution_count": null,
   "metadata": {},
   "outputs": [],
   "source": [
    "import threading\n",
    "class BaseReader(object):\n",
    "\n",
    "    def __init__(self):\n",
    "        raise NotImplementedError\n",
    "        \n",
    "    def subscribeToPublisher(self, publisher:Publisher):\n",
    "        publisher.subscribeReader(self)\n",
    " \n",
    "    def unsubscribeToPublisher(self, publisher:Publisher):\n",
    "        publisher.unsubscribeReader(self)\n",
    " \n",
    "    def __str__(self):\n",
    "        raise NotImplementedError\n",
    "        \n",
    "    def receivePoem(self, publisher, poem , author):\n",
    "        raise NotImplementedError\n",
    "\n",
    "    def printStatistics(self):\n",
    "        raise NotImplementedError"
   ]
  },
  {
   "cell_type": "code",
   "execution_count": null,
   "metadata": {},
   "outputs": [],
   "source": [
    "# 第一种读者\n",
    "class ReaderType1(BaseReader):\n",
    "\n",
    "    def __init__(self, _name):\n",
    "        self.poems={'李白':[],'杜甫':[],'白居易':[],'王維':[]}\n",
    "        self.name=_name\n",
    "\n",
    "    def receivePoem(self, publisher, poem, author):\n",
    "        print('thread id :{}'.format(threading.current_thread().name)) \n",
    "        self.poems[author].append(poem)\n",
    "        \n",
    "    def printStatistics(self):\n",
    "        print(self.poems)\n",
    "\n",
    "    def __str__(self):\n",
    "        return self.name+'接收的诗'+str(self.poems)\n",
    "        \n",
    "\n",
    "# 第二种读者\n",
    "class ReaderType2(BaseReader):\n",
    "\n",
    "    def __init__(self, _name):\n",
    "        self.poem=None\n",
    "        self.name=_name\n",
    "\n",
    "    def receivePoem(self, publisher, poem , author):\n",
    "        print('thread id :{}'.format(threading.current_thread().name)) \n",
    "        self.poem=(author,poem)\n",
    "        \n",
    "\n",
    "    def printStatistics(self):\n",
    "        print(self.poem)\n",
    "\n",
    "    def __str__(self):\n",
    "        return self.name+'接收的诗'+str(self.poem)"
   ]
  },
  {
   "cell_type": "code",
   "execution_count": null,
   "metadata": {},
   "outputs": [],
   "source": [
    "Publisher = Publisher(\"Publisher\")\n",
    "Alice=ReaderType1('Alice')\n",
    "Bob=ReaderType2('Bob')\n",
    "Carol=ReaderType2('Carol')"
   ]
  },
  {
   "cell_type": "code",
   "execution_count": null,
   "metadata": {},
   "outputs": [],
   "source": [
    "Alice.subscribeToPublisher(Publisher)\n",
    "Bob.subscribeToPublisher(Publisher)\n",
    "## 请在这里利用Publisher任意发出几首诗来测试你的代码\n",
    "Publisher.notifyReader('李白','贈汪倫  白遊涇縣桃花潭. 村人汪倫常醞美酒以待白')\n",
    "Publisher.notifyReader('白居易',search_poem('白居易')[2])\n",
    "Publisher.notifyReader('杜甫',search_poem('杜甫')[3])"
   ]
  },
  {
   "cell_type": "code",
   "execution_count": null,
   "metadata": {},
   "outputs": [],
   "source": [
    "Alice.printStatistics()\n",
    "Bob.printStatistics()\n",
    "Carol.printStatistics()\n",
    "print(Publisher)"
   ]
  },
  {
   "cell_type": "code",
   "execution_count": null,
   "metadata": {},
   "outputs": [],
   "source": [
    "Carol.subscribeToPublisher(Publisher)\n",
    "Bob.unsubscribeToPublisher(Publisher)\n",
    "##再任意发出几首诗进行测试\n",
    "Publisher.notifyReader('白居易',search_poem('白居易')[4])\n",
    "Publisher.notifyReader('杜甫',search_poem('杜甫')[0])\n",
    "Publisher.notifyReader('白居易',search_poem('白居易')[0])\n",
    "Publisher.notifyReader('杜甫',search_poem('杜甫')[8])"
   ]
  },
  {
   "cell_type": "code",
   "execution_count": null,
   "metadata": {},
   "outputs": [],
   "source": [
    "Alice.printStatistics()\n",
    "Bob.printStatistics()\n",
    "Carol.printStatistics()\n",
    "print(Publisher)"
   ]
  },
  {
   "cell_type": "markdown",
   "metadata": {},
   "source": [
    "### 2.2 修改Publisher部分代码，用多线程（或者多进程）的方式发送消息。本部分为选做部分。"
   ]
  },
  {
   "cell_type": "code",
   "execution_count": null,
   "metadata": {},
   "outputs": [],
   "source": [
    "class MultiThreadPublisher(BasePublisher):\n",
    "    \n",
    "    def notifyReader(self,author, poem):\n",
    "        self.poems[author]+=1\n",
    "        def single_notify(receiver):\n",
    "            receiver.receivePoem(self.name,poem,author)\n",
    "        thread_list=[]\n",
    "        for i in self.reader:\n",
    "            thread_list.append(threading.Thread(target=single_notify,args=(i,)))\n",
    "        for i in thread_list:\n",
    "            i.start()\n",
    "        for i in thread_list:\n",
    "            i.join()"
   ]
  },
  {
   "cell_type": "code",
   "execution_count": null,
   "metadata": {},
   "outputs": [],
   "source": [
    "MultiThreadPublisher = MultiThreadPublisher(\"MultiPublisher\")\n",
    "Alice.subscribeToPublisher(MultiThreadPublisher)\n",
    "Bob.subscribeToPublisher(MultiThreadPublisher)\n",
    "Carol.subscribeToPublisher(MultiThreadPublisher)\n",
    "print(Alice)"
   ]
  },
  {
   "cell_type": "code",
   "execution_count": null,
   "metadata": {},
   "outputs": [],
   "source": [
    "##请发出几首诗测试\n",
    "MultiThreadPublisher.notifyReader('王維',search_poem('王維')[2])\n",
    "MultiThreadPublisher.notifyReader('王維',search_poem('王維')[3])\n",
    "MultiThreadPublisher.notifyReader('白居易',search_poem('白居易')[4])"
   ]
  },
  {
   "cell_type": "code",
   "execution_count": null,
   "metadata": {},
   "outputs": [],
   "source": [
    "Alice.printStatistics()\n",
    "Bob.printStatistics()\n",
    "Carol.printStatistics()"
   ]
  },
  {
   "cell_type": "code",
   "execution_count": null,
   "metadata": {},
   "outputs": [],
   "source": []
  }
 ],
 "metadata": {
  "kernelspec": {
   "name": "python3",
   "display_name": "Python 3",
   "language": "python"
  },
  "language_info": {
   "codemirror_mode": {
    "name": "ipython",
    "version": 3
   },
   "file_extension": ".py",
   "mimetype": "text/x-python",
   "name": "python",
   "nbconvert_exporter": "python",
   "pygments_lexer": "ipython3",
   "version": "3.8.5-final"
  }
 },
 "nbformat": 4,
 "nbformat_minor": 2
}