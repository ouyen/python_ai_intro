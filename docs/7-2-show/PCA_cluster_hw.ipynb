{
 "cells": [
  {
   "cell_type": "markdown",
   "id": "ec8a4739",
   "metadata": {},
   "source": [
    "# PCA Homework\n",
    "\n",
    "2021.4.13\n",
    "\n",
    "**本次作业将在MNIST手写数字数据集上实现PCA降维及聚类** \n",
    "  \n",
    "\n",
    "\n",
    "⭐ **train_X.csv**: 存放了mnist数据集的data结果，若下载太慢可直接导入\n",
    "\n",
    "\n",
    "⭐ **train_y.csv**: 存放了mnist数据集的target结果，若下载太慢可直接导入\n"
   ]
  },
  {
   "cell_type": "markdown",
   "id": "9589c69f",
   "metadata": {},
   "source": [
    "### 1.通过**sklearn**库下载mnist数据集\n",
    "\n",
    "可以通过`conda install scikit-learn`安装该库"
   ]
  },
  {
   "cell_type": "code",
   "execution_count": null,
   "id": "f173b760",
   "metadata": {},
   "outputs": [],
   "source": [
    "import sklearn\n",
    "from sklearn.datasets import fetch_openml\n",
    "import numpy as np\n",
    "import pandas as pd\n",
    "\n",
    "# mnist=fetch_openml('mnist_784',version=1,cache=True)\n",
    "X = pd.read_csv('./train_X.csv')\n",
    "y = pd.read_csv('./train_y.csv')\n",
    "\n",
    "X = np.array(X)\n",
    "y = np.array(y)\n",
    "\n",
    "X = X[:6000, :] # 取前6000个样本\n",
    "y = y[:6000]\n",
    "y = np.squeeze(y)\n",
    "\n",
    "(X.shape, y.shape)"
   ]
  },
  {
   "cell_type": "markdown",
   "id": "d80bbdd9",
   "metadata": {},
   "source": [
    "((6000, 784), (6000,))"
   ]
  },
  {
   "cell_type": "markdown",
   "id": "15adc126",
   "metadata": {},
   "source": [
    "### 2.对mnist数据集进行PCA降维\n",
    "可以通过调用`sklearn`库的函数实现，也可以自己实现PCA操作"
   ]
  },
  {
   "cell_type": "code",
   "execution_count": null,
   "id": "afbaf084",
   "metadata": {},
   "outputs": [],
   "source": [
    "## TODO\n",
    "from sklearn.decomposition import PCA\n",
    "from sklearn.preprocessing import StandardScaler\n",
    "from sklearn import preprocessing\n",
    "X=preprocessing.scale(X)\n",
    "pca=PCA()\n",
    "pca.fit(X)\n",
    "X_pca=pca.transform(X)\n"
   ]
  },
  {
   "cell_type": "code",
   "execution_count": null,
   "metadata": {},
   "outputs": [],
   "source": [
    "X_pca.shape"
   ]
  },
  {
   "cell_type": "markdown",
   "id": "0c1a1a9e",
   "metadata": {},
   "source": [
    "(6000, 784)"
   ]
  },
  {
   "cell_type": "markdown",
   "id": "6ab890ec",
   "metadata": {},
   "source": [
    "### 3.画出前12个特征向量所对应的(28, 28)维度的特征图像。\n",
    "*（提示：将PCA降维后的特征向量转回原始图像的shape来显示）*"
   ]
  },
  {
   "cell_type": "code",
   "execution_count": null,
   "id": "9c3d55c2",
   "metadata": {},
   "outputs": [],
   "source": [
    "## TODO\n",
    "import matplotlib.pyplot as plt\n",
    "from matplotlib.colors import Colormap\n",
    "eigenvalues=pca.components_\n",
    "plt.figure(figsize=(12,10))\n",
    "for i in range(12):\n",
    "    plt.subplot(3,4,i+1)\n",
    "    plt.imshow(eigenvalues[i].reshape(28,28),cmap='jet')\n",
    "    plt.title('Eigenvalue '+str(i+1))\n",
    "    plt.xticks(())\n",
    "    plt.yticks(())\n",
    "plt.show()"
   ]
  },
  {
   "cell_type": "markdown",
   "id": "239d44fa",
   "metadata": {},
   "source": [
    "![](3.png)"
   ]
  },
  {
   "cell_type": "markdown",
   "id": "8c3b0d86",
   "metadata": {},
   "source": [
    "### 4.使用PCA降维到2维，绘制散点图，颜色是它们相应的真实label\n",
    "散点图和序号标记可以参考[blog](https://blog.csdn.net/weixin_40198632/article/details/78455886)，可以考虑同类别数据点每50个标记一次，不用每个都标记"
   ]
  },
  {
   "cell_type": "code",
   "execution_count": null,
   "metadata": {},
   "outputs": [],
   "source": [
    "## TODO\n",
    "X_2d=X_pca[:,:2]\n",
    "fig,ax=plt.subplots()\n",
    "ax.scatter(X_2d[:,0],X_2d[:,1],c=y,cmap='jet')\n",
    "y_count=dict((i,0) for i in range(10))\n",
    "for i in range(6000):\n",
    "    y_count[y[i]]+=1\n",
    "    if(y_count[y[i]]%50==0):\n",
    "        ax.annotate(y[i],X_2d[i])"
   ]
  },
  {
   "cell_type": "markdown",
   "id": "7db06ed5",
   "metadata": {},
   "source": [
    "![](4.png)"
   ]
  },
  {
   "cell_type": "markdown",
   "id": "cc90bff8",
   "metadata": {},
   "source": [
    "### 5.将数据通过PCA方法降到2维，使用kmeans方法对其进行聚类，绘制聚类后的分类图\n",
    "聚类为3类，绘制分类图观察结果并计算[ARI](https://sklearn.org/modules/generated/sklearn.metrics.adjusted_rand_score.html#sklearn.metrics.adjusted_rand_score)（调整兰德指数），使用`sklearn.metrics.adjusted_rand_score()`函数可计算该指数"
   ]
  },
  {
   "cell_type": "code",
   "execution_count": null,
   "metadata": {},
   "outputs": [],
   "source": [
    "## TODO\n",
    "from sklearn.cluster import KMeans\n",
    "X_2d_K3=KMeans(n_clusters=3,init='k-means++').fit(X_2d)\n",
    "fig,ax=plt.subplots()\n",
    "ax.scatter(X_2d[:,0],X_2d[:,1],c=X_2d_K3.labels_,cmap='jet')\n",
    "plt.show()\n",
    "from sklearn.metrics import adjusted_rand_score\n",
    "adjusted_rand_score(y,X_2d_K3.labels_)"
   ]
  },
  {
   "cell_type": "markdown",
   "id": "d850d946",
   "metadata": {},
   "source": [
    "![](5.png)"
   ]
  },
  {
   "cell_type": "markdown",
   "id": "702d2442",
   "metadata": {},
   "source": [
    "取类别数从3至20（可以自行扩展），根据ARI找到最佳的聚类结果，并绘制分类图"
   ]
  },
  {
   "cell_type": "code",
   "execution_count": null,
   "metadata": {},
   "outputs": [],
   "source": [
    "## TODO\n",
    "Kmeans_3_20=[KMeans(n_clusters=i,init='k-means++').fit(X_2d) for i in range(3,23)]\n",
    "ARI_3_20=[adjusted_rand_score(y,Kmeans_3_20[i-3].labels_) for i in range(3,23)]\n",
    "plt.figure(figsize=(20,20))\n",
    "for i in range(20):\n",
    "    plt.subplot(4,5,i+1)\n",
    "    plt.scatter(X_2d[:,0],X_2d[:,1],c=Kmeans_3_20[i].labels_,cmap='jet')\n",
    "    plt.title(\"categories: \"+str(i+3)+\"\\nARI: %.3f\"%ARI_3_20[i])\n",
    "plt.show()"
   ]
  },
  {
   "cell_type": "markdown",
   "id": "e9e29da3",
   "metadata": {},
   "source": [
    "![](6.png)"
   ]
  }
 ],
 "metadata": {
  "kernelspec": {
   "display_name": "Python 3.8.5 64-bit",
   "name": "python385jvsc74a57bd0e7370f93d1d0cde622a1f8e1c04877d8463912d04d973331ad4851f04de6915a"
  },
  "language_info": {
   "codemirror_mode": {
    "name": "ipython",
    "version": 3
   },
   "file_extension": ".py",
   "mimetype": "text/x-python",
   "name": "python",
   "nbconvert_exporter": "python",
   "pygments_lexer": "ipython3",
   "version": "3.8.5"
  },
  "metadata": {
   "interpreter": {
    "hash": "e7370f93d1d0cde622a1f8e1c04877d8463912d04d973331ad4851f04de6915a"
   }
  }
 },
 "nbformat": 4,
 "nbformat_minor": 5
}
