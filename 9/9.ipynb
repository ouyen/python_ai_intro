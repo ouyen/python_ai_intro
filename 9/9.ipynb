{
 "cells": [
  {
   "cell_type": "markdown",
   "id": "7aeffd6a",
   "metadata": {},
   "source": [
    "## 1.1 对poem.xlsx中的诗歌进行向前最大匹配分词，词表在wordlist.xlsx中已经给出"
   ]
  },
  {
   "cell_type": "markdown",
   "id": "af97e4b0",
   "metadata": {},
   "source": [
    "注意：有些字符可能不在词表中（out-of-vocabulary），可以保留这些字符，也可以直接去掉"
   ]
  },
  {
   "cell_type": "code",
   "execution_count": 2,
   "id": "989419dc",
   "metadata": {},
   "outputs": [],
   "source": [
    "# 读取文件，如有报错，可根据报错信息安装xlrd或者openpyxl\n",
    "import pandas as pd\n",
    "table = pd.read_excel('poem.xlsx')\n",
    "word_list_df = pd.read_excel('wordlist.xlsx')"
   ]
  },
  {
   "cell_type": "code",
   "execution_count": 3,
   "id": "49ab4236",
   "metadata": {},
   "outputs": [
    {
     "output_type": "stream",
     "name": "stdout",
     "text": [
      "3\n"
     ]
    }
   ],
   "source": [
    "# 计算wordlist中词语的最大长度max_length\n",
    "# TODO\n",
    "max_length=0\n",
    "for i in range(len(word_list_df)):\n",
    "    max_length=max(max_length,len(word_list_df.word.iloc[i]))\n",
    "print(max_length)"
   ]
  },
  {
   "cell_type": "code",
   "execution_count": 4,
   "id": "7fe7bc2d",
   "metadata": {},
   "outputs": [],
   "source": [
    "# 实现前向最大匹配分词算法\n",
    "# string: 待分词的串\n",
    "# word_list: 词表\n",
    "# max_length: 词表中词语的最大长度\n",
    "def cut(string, word_list, max_length):\n",
    "    # TODO\n",
    "    rlt=[]\n",
    "    end_pos=min(max_length,len(string))\n",
    "    start_pos=0\n",
    "    while 1:\n",
    "        if(start_pos==end_pos):\n",
    "            start_pos+=1\n",
    "            end_pos=min(start_pos+max_length,len(string))\n",
    "        if(string[start_pos:end_pos] in word_list):\n",
    "            rlt.append(string[start_pos:end_pos])\n",
    "            start_pos=end_pos\n",
    "            end_pos=min(start_pos+max_length,len(string))\n",
    "        else:\n",
    "            end_pos-=1\n",
    "        if(start_pos==len(string)):\n",
    "            break\n",
    "    return rlt"
   ]
  },
  {
   "cell_type": "code",
   "execution_count": 5,
   "metadata": {},
   "outputs": [],
   "source": [
    "word_list=set(word_list_df.word)"
   ]
  },
  {
   "cell_type": "code",
   "execution_count": 6,
   "id": "8ab8f985",
   "metadata": {},
   "outputs": [
    {
     "output_type": "execute_result",
     "data": {
      "text/plain": [
       "          ID  Poem_id  line_number             content                  words\n",
       "0          1     4371         -100  ##餞唐永昌( 一作餞唐郎中洛陽令)  餞 唐 永昌 一作 餞 唐 郎中 洛陽 令\n",
       "1          2     4371           -1               $$沈佺期                    沈 期\n",
       "2          3     4371            1      洛陽舊有( 一作出) 神明宰        洛陽 舊有 一作 出 神明 宰\n",
       "3          4     4371            2             輦轂由來天地中             輦轂 由來 天地 中\n",
       "4          5     4371            3             餘邑政成何足貴            餘 邑 政成 何足 貴\n",
       "...      ...      ...          ...                 ...                    ...\n",
       "46272  46273    39205           -1               $$李舜弦                   李 舜弦\n",
       "46273  46274    39205            1             飲筵中散酒微醒          飲 筵 中 散 酒 微 醒\n",
       "46274  46275    39205            2             濛濛雨草瑤階溼            濛濛 雨 草 瑤階 溼\n",
       "46275  46276    39205            3             鐘曉愁吟獨倚屏            鐘 曉 愁吟 獨倚 屏\n",
       "46276  46277    39205            4             盡日池邊釣錦鱗             盡日 池邊 釣 錦鱗\n",
       "\n",
       "[46277 rows x 5 columns]"
      ],
      "text/html": "<div>\n<style scoped>\n    .dataframe tbody tr th:only-of-type {\n        vertical-align: middle;\n    }\n\n    .dataframe tbody tr th {\n        vertical-align: top;\n    }\n\n    .dataframe thead th {\n        text-align: right;\n    }\n</style>\n<table border=\"1\" class=\"dataframe\">\n  <thead>\n    <tr style=\"text-align: right;\">\n      <th></th>\n      <th>ID</th>\n      <th>Poem_id</th>\n      <th>line_number</th>\n      <th>content</th>\n      <th>words</th>\n    </tr>\n  </thead>\n  <tbody>\n    <tr>\n      <th>0</th>\n      <td>1</td>\n      <td>4371</td>\n      <td>-100</td>\n      <td>##餞唐永昌( 一作餞唐郎中洛陽令)</td>\n      <td>餞 唐 永昌 一作 餞 唐 郎中 洛陽 令</td>\n    </tr>\n    <tr>\n      <th>1</th>\n      <td>2</td>\n      <td>4371</td>\n      <td>-1</td>\n      <td>$$沈佺期</td>\n      <td>沈 期</td>\n    </tr>\n    <tr>\n      <th>2</th>\n      <td>3</td>\n      <td>4371</td>\n      <td>1</td>\n      <td>洛陽舊有( 一作出) 神明宰</td>\n      <td>洛陽 舊有 一作 出 神明 宰</td>\n    </tr>\n    <tr>\n      <th>3</th>\n      <td>4</td>\n      <td>4371</td>\n      <td>2</td>\n      <td>輦轂由來天地中</td>\n      <td>輦轂 由來 天地 中</td>\n    </tr>\n    <tr>\n      <th>4</th>\n      <td>5</td>\n      <td>4371</td>\n      <td>3</td>\n      <td>餘邑政成何足貴</td>\n      <td>餘 邑 政成 何足 貴</td>\n    </tr>\n    <tr>\n      <th>...</th>\n      <td>...</td>\n      <td>...</td>\n      <td>...</td>\n      <td>...</td>\n      <td>...</td>\n    </tr>\n    <tr>\n      <th>46272</th>\n      <td>46273</td>\n      <td>39205</td>\n      <td>-1</td>\n      <td>$$李舜弦</td>\n      <td>李 舜弦</td>\n    </tr>\n    <tr>\n      <th>46273</th>\n      <td>46274</td>\n      <td>39205</td>\n      <td>1</td>\n      <td>飲筵中散酒微醒</td>\n      <td>飲 筵 中 散 酒 微 醒</td>\n    </tr>\n    <tr>\n      <th>46274</th>\n      <td>46275</td>\n      <td>39205</td>\n      <td>2</td>\n      <td>濛濛雨草瑤階溼</td>\n      <td>濛濛 雨 草 瑤階 溼</td>\n    </tr>\n    <tr>\n      <th>46275</th>\n      <td>46276</td>\n      <td>39205</td>\n      <td>3</td>\n      <td>鐘曉愁吟獨倚屏</td>\n      <td>鐘 曉 愁吟 獨倚 屏</td>\n    </tr>\n    <tr>\n      <th>46276</th>\n      <td>46277</td>\n      <td>39205</td>\n      <td>4</td>\n      <td>盡日池邊釣錦鱗</td>\n      <td>盡日 池邊 釣 錦鱗</td>\n    </tr>\n  </tbody>\n</table>\n<p>46277 rows × 5 columns</p>\n</div>"
     },
     "metadata": {},
     "execution_count": 6
    }
   ],
   "source": [
    "# 执行分词（可能需要等待几分钟）\n",
    "table['words'] = table['content'].apply(lambda x: ' '.join(cut(x, word_list, max_length)))\n",
    "table"
   ]
  },
  {
   "cell_type": "markdown",
   "id": "6f82eab0",
   "metadata": {},
   "source": [
    "## 1.2 统计每个词的TF-IDF值"
   ]
  },
  {
   "cell_type": "markdown",
   "id": "bc0465c6",
   "metadata": {},
   "source": [
    "注意：本次作业实现最基础版本的TF-IDF计算即可，不必实现其他变种"
   ]
  },
  {
   "cell_type": "code",
   "execution_count": 7,
   "id": "29654018",
   "metadata": {},
   "outputs": [
    {
     "output_type": "execute_result",
     "data": {
      "text/plain": [
       "        Poem_id  level_0  level_1 word\n",
       "0          4371        0        0    餞\n",
       "1          4371        0        1    唐\n",
       "2          4371        0        2   永昌\n",
       "3          4371        0        3   一作\n",
       "4          4371        0        4    餞\n",
       "...         ...      ...      ...  ...\n",
       "198498    39205    46275        4    屏\n",
       "198499    39205    46276        0   盡日\n",
       "198500    39205    46276        1   池邊\n",
       "198501    39205    46276        2    釣\n",
       "198502    39205    46276        3   錦鱗\n",
       "\n",
       "[198503 rows x 4 columns]"
      ],
      "text/html": "<div>\n<style scoped>\n    .dataframe tbody tr th:only-of-type {\n        vertical-align: middle;\n    }\n\n    .dataframe tbody tr th {\n        vertical-align: top;\n    }\n\n    .dataframe thead th {\n        text-align: right;\n    }\n</style>\n<table border=\"1\" class=\"dataframe\">\n  <thead>\n    <tr style=\"text-align: right;\">\n      <th></th>\n      <th>Poem_id</th>\n      <th>level_0</th>\n      <th>level_1</th>\n      <th>word</th>\n    </tr>\n  </thead>\n  <tbody>\n    <tr>\n      <th>0</th>\n      <td>4371</td>\n      <td>0</td>\n      <td>0</td>\n      <td>餞</td>\n    </tr>\n    <tr>\n      <th>1</th>\n      <td>4371</td>\n      <td>0</td>\n      <td>1</td>\n      <td>唐</td>\n    </tr>\n    <tr>\n      <th>2</th>\n      <td>4371</td>\n      <td>0</td>\n      <td>2</td>\n      <td>永昌</td>\n    </tr>\n    <tr>\n      <th>3</th>\n      <td>4371</td>\n      <td>0</td>\n      <td>3</td>\n      <td>一作</td>\n    </tr>\n    <tr>\n      <th>4</th>\n      <td>4371</td>\n      <td>0</td>\n      <td>4</td>\n      <td>餞</td>\n    </tr>\n    <tr>\n      <th>...</th>\n      <td>...</td>\n      <td>...</td>\n      <td>...</td>\n      <td>...</td>\n    </tr>\n    <tr>\n      <th>198498</th>\n      <td>39205</td>\n      <td>46275</td>\n      <td>4</td>\n      <td>屏</td>\n    </tr>\n    <tr>\n      <th>198499</th>\n      <td>39205</td>\n      <td>46276</td>\n      <td>0</td>\n      <td>盡日</td>\n    </tr>\n    <tr>\n      <th>198500</th>\n      <td>39205</td>\n      <td>46276</td>\n      <td>1</td>\n      <td>池邊</td>\n    </tr>\n    <tr>\n      <th>198501</th>\n      <td>39205</td>\n      <td>46276</td>\n      <td>2</td>\n      <td>釣</td>\n    </tr>\n    <tr>\n      <th>198502</th>\n      <td>39205</td>\n      <td>46276</td>\n      <td>3</td>\n      <td>錦鱗</td>\n    </tr>\n  </tbody>\n</table>\n<p>198503 rows × 4 columns</p>\n</div>"
     },
     "metadata": {},
     "execution_count": 7
    }
   ],
   "source": [
    "# 按照空格分开，stack\n",
    "split_words = table['words'].str.split(' ', expand=True).stack().rename('word').reset_index()\n",
    "new_data = pd.merge(table['Poem_id'], split_words, left_index=True, right_on='level_0')\n",
    "new_data"
   ]
  },
  {
   "cell_type": "code",
   "execution_count": 8,
   "id": "6864306c",
   "metadata": {},
   "outputs": [
    {
     "output_type": "execute_result",
     "data": {
      "text/plain": [
       "      TF-IDF\n",
       "餞   0.000241\n",
       "唐   0.001558\n",
       "永昌  0.000052\n",
       "一作  0.008180\n",
       "郎中  0.000595\n",
       "..       ...\n",
       "髣佛  0.000020\n",
       "竹錫  0.000020\n",
       "青城  0.000020\n",
       "物象  0.000020\n",
       "禁花  0.000020\n",
       "\n",
       "[19987 rows x 1 columns]"
      ],
      "text/html": "<div>\n<style scoped>\n    .dataframe tbody tr th:only-of-type {\n        vertical-align: middle;\n    }\n\n    .dataframe tbody tr th {\n        vertical-align: top;\n    }\n\n    .dataframe thead th {\n        text-align: right;\n    }\n</style>\n<table border=\"1\" class=\"dataframe\">\n  <thead>\n    <tr style=\"text-align: right;\">\n      <th></th>\n      <th>TF-IDF</th>\n    </tr>\n  </thead>\n  <tbody>\n    <tr>\n      <th>餞</th>\n      <td>0.000241</td>\n    </tr>\n    <tr>\n      <th>唐</th>\n      <td>0.001558</td>\n    </tr>\n    <tr>\n      <th>永昌</th>\n      <td>0.000052</td>\n    </tr>\n    <tr>\n      <th>一作</th>\n      <td>0.008180</td>\n    </tr>\n    <tr>\n      <th>郎中</th>\n      <td>0.000595</td>\n    </tr>\n    <tr>\n      <th>...</th>\n      <td>...</td>\n    </tr>\n    <tr>\n      <th>髣佛</th>\n      <td>0.000020</td>\n    </tr>\n    <tr>\n      <th>竹錫</th>\n      <td>0.000020</td>\n    </tr>\n    <tr>\n      <th>青城</th>\n      <td>0.000020</td>\n    </tr>\n    <tr>\n      <th>物象</th>\n      <td>0.000020</td>\n    </tr>\n    <tr>\n      <th>禁花</th>\n      <td>0.000020</td>\n    </tr>\n  </tbody>\n</table>\n<p>19987 rows × 1 columns</p>\n</div>"
     },
     "metadata": {},
     "execution_count": 8
    }
   ],
   "source": [
    "# 计算TF-IDF值\n",
    "# TODO\n",
    "import numpy as np\n",
    "word_count=new_data.word.value_counts()\n",
    "word_document_frequency={i:set() for i in new_data.dropna().word}\n",
    "for i in range(new_data.shape[0]):\n",
    "    if(not pd.isna(new_data.word[i])):\n",
    "        word_document_frequency[new_data.word[i]].add(new_data.Poem_id[i])\n",
    "poem_num=len(set(new_data.Poem_id))\n",
    "tf_idf={i:(word_count[i]/len(new_data))*(np.log10(poem_num/len(word_document_frequency[i]))) for i in new_data.dropna().word}\n",
    "tf_idf_df=pd.DataFrame.from_dict(tf_idf,orient='index',columns=['TF-IDF'])\n",
    "tf_idf_df"
   ]
  },
  {
   "cell_type": "code",
   "execution_count": 9,
   "metadata": {},
   "outputs": [],
   "source": [
    "# "
   ]
  }
 ],
 "metadata": {
  "kernelspec": {
   "display_name": "Python 3",
   "language": "python",
   "name": "python3"
  },
  "language_info": {
   "codemirror_mode": {
    "name": "ipython",
    "version": 3
   },
   "file_extension": ".py",
   "mimetype": "text/x-python",
   "name": "python",
   "nbconvert_exporter": "python",
   "pygments_lexer": "ipython3",
   "version": "3.8.5"
  }
 },
 "nbformat": 4,
 "nbformat_minor": 5
}