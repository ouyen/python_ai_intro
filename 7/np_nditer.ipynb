{
 "cells": [
  {
   "cell_type": "markdown",
   "id": "cae30313",
   "metadata": {},
   "source": [
    "# Numpy进阶 Homework\n",
    "\n",
    "2021.4.13\n",
    "\n",
    "**本次作业将完成numpy迭代器和ufunc的基本操作** "
   ]
  },
  {
   "cell_type": "markdown",
   "id": "93ae6f40",
   "metadata": {},
   "source": [
    "### 1.单维迭代器\n",
    "分别以C,F以及默认顺序遍历a矩阵，观察输出结果（*提示：`np.nditer()`函数包含参数 `order`*）"
   ]
  },
  {
   "cell_type": "code",
   "execution_count": 1,
   "id": "915f5025",
   "metadata": {},
   "outputs": [
    {
     "output_type": "stream",
     "name": "stdout",
     "text": [
      "0,1,2,3,4,5,\n0,1,2,3,4,5,\n0,3,1,4,2,5,"
     ]
    }
   ],
   "source": [
    "import numpy as np\n",
    "a = np.arange(6).reshape(2, 3)\n",
    "\n",
    "## TODO\n",
    "for x in np.nditer(a):\n",
    "    print(x,end=',')\n",
    "print()\n",
    "for x in np.nditer(a,order='C'):\n",
    "    print(x,end=',')\n",
    "print()\n",
    "for x in np.nditer(a,order='F'):\n",
    "    print(x,end=',')"
   ]
  },
  {
   "cell_type": "markdown",
   "id": "c288f02a",
   "metadata": {},
   "source": [
    "**用两种方法实现：**利用迭代器遍历矩阵a，要求返回值顺序为`0,3,1,4,2,5`"
   ]
  },
  {
   "cell_type": "code",
   "execution_count": 2,
   "id": "1689811d",
   "metadata": {},
   "outputs": [
    {
     "output_type": "stream",
     "name": "stdout",
     "text": [
      "0,3,1,4,2,5,\n0,3,1,4,2,5,"
     ]
    }
   ],
   "source": [
    "## TODO\n",
    "for x in np.nditer(a,order='F'):\n",
    "    print(x,end=',')\n",
    "print()\n",
    "for x in np.nditer(a.T,order='C'):\n",
    "    print(x,end=',')"
   ]
  },
  {
   "cell_type": "markdown",
   "id": "c8d64432",
   "metadata": {},
   "source": [
    "### 2.外部循环\n",
    "在使用外部循环`external_loop`模式的基础上，**用两种方法实现：**将a矩阵各元素扩大为原来2倍*（提示：C，F及默认顺序任选其二）*"
   ]
  },
  {
   "cell_type": "code",
   "execution_count": 3,
   "id": "68192b3a",
   "metadata": {},
   "outputs": [
    {
     "output_type": "execute_result",
     "data": {
      "text/plain": [
       "array([[ 0,  2,  4,  6],\n",
       "       [ 8, 10, 12, 14]])"
      ]
     },
     "metadata": {},
     "execution_count": 3
    }
   ],
   "source": [
    "a = np.arange(8).reshape(2, 4)\n",
    "\n",
    "## TODO\n",
    "for x in np.nditer(a,flags=['external_loop'],op_flags=[\"readwrite\"]):\n",
    "    x[...]=x*2\n",
    "a"
   ]
  },
  {
   "cell_type": "code",
   "execution_count": 4,
   "metadata": {},
   "outputs": [
    {
     "output_type": "execute_result",
     "data": {
      "text/plain": [
       "array([[ 0,  2,  4,  6],\n",
       "       [ 8, 10, 12, 14]])"
      ]
     },
     "metadata": {},
     "execution_count": 4
    }
   ],
   "source": [
    "a = np.arange(8).reshape(2, 4)\n",
    "\n",
    "## TODO\n",
    "for x in np.nditer(a,flags=['external_loop'],order='C',op_flags=[\"readwrite\"]):\n",
    "    x[...]=x*2\n",
    "a"
   ]
  },
  {
   "cell_type": "markdown",
   "id": "f475b23b",
   "metadata": {},
   "source": [
    "定义矩阵$A^{m*1}, B^{1*n}$，令$C^{m*n} = AB$，则C为秩一矩阵，要求利用numpy迭代器的`multi_index`模式，实现求C的过程"
   ]
  },
  {
   "cell_type": "code",
   "execution_count": 5,
   "id": "7e62bc34",
   "metadata": {},
   "outputs": [
    {
     "output_type": "execute_result",
     "data": {
      "text/plain": [
       "array([[ 1.,  2.,  3.],\n",
       "       [ 2.,  4.,  6.],\n",
       "       [ 3.,  6.,  9.],\n",
       "       [ 4.,  8., 12.],\n",
       "       [ 5., 10., 15.]])"
      ]
     },
     "metadata": {},
     "execution_count": 5
    }
   ],
   "source": [
    "A = np.arange(5).reshape(5,1) + 1\n",
    "B = np.arange(3).reshape(1,3) + 1\n",
    "\n",
    "## TODO\n",
    "C=np.empty((5,3))\n",
    "it=np.nditer([A,B],flags=['multi_index'])\n",
    "while not it.finished:\n",
    "    C[it.multi_index]=it[0]*it[1]\n",
    "    it.iternext()\n",
    "C"
   ]
  },
  {
   "cell_type": "markdown",
   "id": "5c0ae69a",
   "metadata": {},
   "source": [
    "### 3.U_function\n",
    "自定义一个numpy的ufunc函数，实现`z = 2*x*x+12*y*y`的计算任务，并与利用`numpy`函数实现该任务比较计算时长"
   ]
  },
  {
   "cell_type": "code",
   "execution_count": 6,
   "id": "733c3d4d",
   "metadata": {},
   "outputs": [
    {
     "output_type": "stream",
     "name": "stdout",
     "text": [
      "0.008962392807006836 0.0043680667877197266\n"
     ]
    }
   ],
   "source": [
    "x = list(range(10000))\n",
    "y = list(range(10000))\n",
    "\n",
    "## TODO\n",
    "import time\n",
    "def my_cal(x,y):\n",
    "    return 2*x*x+12*y*y\n",
    "start=time.time()\n",
    "z1=np.frompyfunc(my_cal,2,1)(x,y)\n",
    "end1=time.time()\n",
    "z2=np.add(np.square(x)*2,12*np.square(y))\n",
    "end2=time.time()\n",
    "print(end1-start,end2-end1)"
   ]
  },
  {
   "cell_type": "code",
   "execution_count": null,
   "metadata": {},
   "outputs": [],
   "source": []
  }
 ],
 "metadata": {
  "kernelspec": {
   "display_name": "Python 3",
   "language": "python",
   "name": "python3"
  },
  "language_info": {
   "codemirror_mode": {
    "name": "ipython",
    "version": 3
   },
   "file_extension": ".py",
   "mimetype": "text/x-python",
   "name": "python",
   "nbconvert_exporter": "python",
   "pygments_lexer": "ipython3",
   "version": "3.8.5"
  }
 },
 "nbformat": 4,
 "nbformat_minor": 5
}