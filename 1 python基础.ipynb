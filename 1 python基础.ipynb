{
 "cells": [
  {
   "cell_type": "markdown",
   "metadata": {},
   "source": [
    "## Homework_2020_10_16\n",
    "\n",
    "### 第一部分：基础练习\n",
    "\n",
    "#### 1.1 基本数据类型，表达式，简单输入输出\n",
    "    输入三角形的三边长，计算三角形的面积。如果输入不合法，请输出'Whoops!'\n",
    "    例如：输入：2     输出：1.7320508075688772\n",
    "                2\n",
    "                2"
   ]
  },
  {
   "cell_type": "code",
   "execution_count": null,
   "metadata": {},
   "outputs": [],
   "source": [
    "#a, b, c是三角形的三条边长\n",
    "a = float(input())\n",
    "b = float(input())\n",
    "c = float(input())\n",
    "## 请补充判定三角形是否合法的条件\n",
    "if (a+b)>c and a+c>b and b+c>a:\n",
    "    s=(a+b+c)/2\n",
    "    S=pow(s*(s-a)*(s-b)*(s-c),0.5)\n",
    "    print(S)\n",
    "else:\n",
    "    print('Whoops!')"
   ]
  },
  {
   "cell_type": "markdown",
   "metadata": {},
   "source": [
    "#### 1.2 字符串基本操作\n",
    "    找出字符串中小写字母a第二次出现的位置\n",
    "    例如：输入：'An apple a day keeps the doctor away'\n",
    "          输出：9"
   ]
  },
  {
   "cell_type": "code",
   "execution_count": null,
   "metadata": {},
   "outputs": [],
   "source": [
    "s = 'An apple a day keeps the doctor away'\n",
    "##请补充完整代码\n",
    "first=s.find('a')\n",
    "second=s[first+1:].find('a')+first+1\n",
    "print(second)"
   ]
  },
  {
   "cell_type": "markdown",
   "metadata": {},
   "source": [
    "#### 1.3 条件表达式、分支流程\n",
    "    输出和成绩对应的等级：85分以上为A，60-84为B，60以下为C\n",
    "    例如：输入：84    输出：B"
   ]
  },
  {
   "cell_type": "code",
   "execution_count": null,
   "metadata": {},
   "outputs": [],
   "source": [
    "score = int(input())\n",
    "##请补充判定输出结果\n",
    "if score>=85:\n",
    "    print('A')\n",
    "elif 60<=score<85:\n",
    "    print('B')\n",
    "else:\n",
    "    print('C')"
   ]
  },
  {
   "cell_type": "markdown",
   "metadata": {},
   "source": [
    "#### 1.4 List、Tuple、Dict类型基本操作\n",
    "    新学期的选课抽签已经结束，可怜的小明只选上了这些课：['编译', '毛概', '操统']\n",
    "    （1）请在小明的课表中增加一门课程 'Python'，并删除课程 '毛概'\n",
    "    （2）这是小明想补选的通选课清单：{'A': ['音数'], 'C': ['三宝'], 'E': ['西音', '西美']}\n",
    "        请修改清单中不正确的通选课分类"
   ]
  },
  {
   "cell_type": "code",
   "execution_count": null,
   "metadata": {},
   "outputs": [],
   "source": [
    "course = ['编译', '毛概', '操统']\n",
    "elective = {'A':['音数'], 'C':['三宝'], 'E':['西音','西美']}\n",
    "##请将代码补充完整\n",
    "course.pop(1)\n",
    "course.append('Python')\n",
    "elective['A'].append(elective['C'].pop())\n",
    "elective.pop('C')\n",
    "elective['E'].append('音数')\n",
    "elective['D']=['西美']"
   ]
  },
  {
   "cell_type": "markdown",
   "metadata": {},
   "source": [
    "### 第二部分：进阶练习\n",
    "\n",
    "#### 2.1 循环语句、表达式\n",
    "    计算数列前10项和\n",
    "$$ a_n=a_{n-1}+\\frac{1}{a_{n-1}}, a_1=1 $$"
   ]
  },
  {
   "cell_type": "code",
   "execution_count": null,
   "metadata": {},
   "outputs": [],
   "source": [
    "a = 1\n",
    "s = 0\n",
    "##请将代码补充完整\n",
    "s+=a\n",
    "for i in range(9):\n",
    "    a=a+1/a\n",
    "    s+=a\n",
    "print(a)"
   ]
  },
  {
   "cell_type": "markdown",
   "metadata": {},
   "source": [
    "#### 2.2 循环表达式与列表\n",
    "    找出列表中只出现过一次的数字，并保持原次序输出\n",
    "    例如： 输入：2,6,1,3,7,2,7    输出：6,1,3"
   ]
  },
  {
   "cell_type": "code",
   "execution_count": null,
   "metadata": {},
   "outputs": [],
   "source": [
    "s = '2,6,1,3,7,2,7'\n",
    "nums = s.split(',')\n",
    "##请将代码补充完整\n",
    "from collections import Counter\n",
    "judge=Counter(nums)\n",
    "result_list=[]\n",
    "for i in nums:\n",
    "    if judge[i]==1:\n",
    "        result_list.append(i)\n",
    "print(','.join(result_list))"
   ]
  },
  {
   "cell_type": "markdown",
   "metadata": {},
   "source": [
    "#### 2.3 将以 ':' 和 '|' 为分隔符的字符串处理成 python 字典\n",
    "    例如： 输入：'k:1|k1:2|k2:3|k3:4'    输出：{'k': '1', 'k1': '2', 'k2': '3', 'k3': '4'}"
   ]
  },
  {
   "cell_type": "code",
   "execution_count": null,
   "metadata": {},
   "outputs": [],
   "source": [
    "s = 'k:1|k1:2|k2:3|k3:4'\n",
    "result = dict()\n",
    "##请将代码补充完整\n",
    "temp_list=s.split('|')\n",
    "for i in temp_list:\n",
    "    key_and_value=i.split(':')\n",
    "    result[key_and_value[0]]=key_and_value[1]\n",
    "print(result)"
   ]
  },
  {
   "cell_type": "markdown",
   "metadata": {},
   "source": [
    "#### 2.4. 猜数字游戏：系统得到一个随机目标数字，用户输入数字，输出提示大或者小，直到猜对\n",
    "    一次过程例如： \n",
    "    30\n",
    "    大了！\n",
    "    20\n",
    "    小了！\n",
    "    25\n",
    "    大了！\n",
    "    24\n",
    "    恭喜你猜对了！"
   ]
  },
  {
   "cell_type": "code",
   "execution_count": null,
   "metadata": {},
   "outputs": [],
   "source": [
    "##请将代码补充完整\n",
    "from random import randint\n",
    "true_num=randint(1,114514)\n",
    "while 1:\n",
    "    guess=int(input())\n",
    "    if guess==true_num:\n",
    "        print('恭喜你猜对了！')\n",
    "        break\n",
    "    elif guess>true_num:\n",
    "        print('大了!')\n",
    "    else:\n",
    "        print('小了!')"
   ]
  },
  {
   "cell_type": "markdown",
   "metadata": {},
   "source": [
    "#### 2.5. 利用filter函数，找出1~100之间的所有素数"
   ]
  },
  {
   "cell_type": "code",
   "execution_count": null,
   "metadata": {},
   "outputs": [],
   "source": [
    "##请将代码补充完整\n",
    "def judge(x):\n",
    "    if x%3==0 or x%5==0 or x%7==0:\n",
    "        return False\n",
    "    else:\n",
    "        return True\n",
    "result=[2,3,5,7]+list(filter(judge,range(9,100,2)))\n",
    "print(result)"
   ]
  },
  {
   "cell_type": "markdown",
   "metadata": {},
   "source": [
    "#### 2.6. 英文词频统计\n",
    "    输入为以下一段英文，不区分大小写，不计标点符号。\n",
    "    'There is no doubt that happiness is the most precious thing in the world. Without it, life will be empty and meaningless. If you wish to know how to get happiness, you must pay attention to the following two points.'"
   ]
  },
  {
   "cell_type": "code",
   "execution_count": null,
   "metadata": {},
   "outputs": [],
   "source": [
    "s = 'There is no doubt that happiness is the most precious thing in the world. Without it, life will be empty and meaningless. If you wish to know how to get happiness, you must pay attention to the following two points.'\n",
    "##请将代码补充完整\n",
    "from collections import Counter\n",
    "s=s.lower().replace('.','').replace(',','')\n",
    "result=Counter(s.split(' '))\n",
    "print(result)"
   ]
  }
 ],
 "metadata": {
  "kernelspec": {
   "display_name": "Python 3.8.1 64-bit",
   "metadata": {
    "interpreter": {
     "hash": "90400b75281c0ea2071e421bbe76daae2f946ebf40294607a882011ba408eb8f"
    }
   },
   "name": "python3"
  },
  "language_info": {
   "codemirror_mode": {
    "name": "ipython",
    "version": 3
   },
   "file_extension": ".py",
   "mimetype": "text/x-python",
   "name": "python",
   "nbconvert_exporter": "python",
   "pygments_lexer": "ipython3",
   "version": "3.8.1"
  }
 },
 "nbformat": 4,
 "nbformat_minor": 4
}
