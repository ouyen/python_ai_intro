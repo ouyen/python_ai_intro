{
 "cells": [
  {
   "cell_type": "markdown",
   "metadata": {},
   "source": [
    "# 1. async/await\n",
    "\n",
    "使用async、await完成如下程序： \n",
    "\n",
    "主例程等待两个例程结束，其中例程一读取文件 **IBM_2006-01-01_to_2018-01-01.csv** 的单数行，例程二将读取结果写入文件 **new.csv**"
   ]
  },
  {
   "cell_type": "code",
   "execution_count": 1,
   "metadata": {},
   "outputs": [
    {
     "output_type": "stream",
     "name": "stdout",
     "text": [
      "Overwriting co-rountine.py\n"
     ]
    }
   ],
   "source": [
    "%%writefile co-rountine.py\n",
    "\n",
    "import asyncio\n",
    "import time\n",
    "import csv\n",
    "\n",
    "async def readfile(file='IBM_2006-01-01_to_2018-01-01.csv'):\n",
    "    # TODO\n",
    "    odd_lines=[]\n",
    "    with open(file,'r') as f:\n",
    "        i=0\n",
    "        for line in f:\n",
    "            i+=1\n",
    "            if i%2:\n",
    "                odd_lines.append(line)\n",
    "    return odd_lines\n",
    "            \n",
    "\n",
    "async def writefile(lines,file='new.csv'):\n",
    "    # TODO\n",
    "    with open(file,'w') as f:\n",
    "        f.writelines(lines)\n",
    "\n",
    "async def main():\n",
    "    print(f\"start at {time.strftime('%X')}\")\n",
    "    # TODO\n",
    "    odd_lines=await readfile()\n",
    "    await writefile(odd_lines)\n",
    "    print(f\"finish at {time.strftime('%X')}\")\n",
    "          \n",
    "asyncio.run(main())\n",
    "          "
   ]
  },
  {
   "cell_type": "markdown",
   "metadata": {},
   "source": [
    "## 选做\n",
    "\n",
    "将 **AMZN_2006-01-01_to_2018-01-01.csv** 和 **IBM_2006-01-01_to_2018-01-01.csv** 合并成一个文件 **combine.csv**，推荐通过并发技术提高效率（不限协程）。"
   ]
  },
  {
   "cell_type": "code",
   "execution_count": 2,
   "metadata": {},
   "outputs": [
    {
     "output_type": "stream",
     "name": "stdout",
     "text": [
      "Overwriting co-rountine2.py\n"
     ]
    }
   ],
   "source": [
    "%%writefile co-rountine2.py\n",
    "import asyncio\n",
    "import time\n",
    "import csv\n",
    "\n",
    "async def readfile(file):\n",
    "    with open(file,'r') as f:\n",
    "        lines=f.readlines()\n",
    "    return lines\n",
    "            \n",
    "\n",
    "async def writefile(lines,file='combine.csv'):\n",
    "    with open(file,'a') as f:\n",
    "        f.writelines(lines)\n",
    "\n",
    "async def main():\n",
    "    print(f\"start at {time.strftime('%X')}\")\n",
    "    lines_IBM=await readfile('IBM_2006-01-01_to_2018-01-01.csv')\n",
    "    lines_AMZN=await readfile('AMZN_2006-01-01_to_2018-01-01.csv')\n",
    "    await writefile(lines_IBM+lines_AMZN)\n",
    "    print(f\"finish at {time.strftime('%X')}\")\n",
    "          \n",
    "asyncio.run(main())"
   ]
  },
  {
   "cell_type": "markdown",
   "metadata": {},
   "source": [
    "# 2. Yield\n",
    "\n",
    "使用yield 完成如下程序：\n",
    "按块读取文件 IBM_2006-01-01_to_2018-01-01.csv，每次返回 BLOKSIZE 行内容"
   ]
  },
  {
   "cell_type": "code",
   "execution_count": 3,
   "metadata": {},
   "outputs": [],
   "source": [
    "def readfile_block():\n",
    "    BLOCK_SIZE = 1024\n",
    "    # TODO\n",
    "    i=0\n",
    "    lines=''\n",
    "    with open(\"IBM_2006-01-01_to_2018-01-01.csv\",'r') as f:\n",
    "        for line in f:\n",
    "            i+=1\n",
    "            lines+=line\n",
    "            if i>=BLOCK_SIZE:\n",
    "                yield lines\n",
    "                i=0\n",
    "                lines=''\n",
    "    if i>0:\n",
    "        yield lines"
   ]
  },
  {
   "cell_type": "code",
   "execution_count": 4,
   "metadata": {
    "tags": []
   },
   "outputs": [
    {
     "output_type": "stream",
     "name": "stdout",
     "text": [
      "Date,Open,High,Low,Close,Volume,Name\n2006-01-03,82.45,82.55,80.81,82.06,11715200,IBM\n2006-01-04,82.2 \nend\n2010-01-27,125.82,126.96,125.04,126.33,8719447,IBM\n2010-01-28,127.03,127.04,123.05,123.75,9622829,IB \nend\n2014-02-21,184.25,185.71,182.62,182.79,5699331,IBM\n2014-02-24,182.82,185.16,182.82,183.45,4595312,IB \nend\n"
     ]
    }
   ],
   "source": [
    "for i in readfile_block():\n",
    "    print(i[:100],'\\nend')"
   ]
  },
  {
   "cell_type": "code",
   "execution_count": null,
   "metadata": {},
   "outputs": [],
   "source": []
  }
 ],
 "metadata": {
  "kernelspec": {
   "display_name": "Python 3",
   "language": "python",
   "name": "python3"
  },
  "language_info": {
   "codemirror_mode": {
    "name": "ipython",
    "version": 3
   },
   "file_extension": ".py",
   "mimetype": "text/x-python",
   "name": "python",
   "nbconvert_exporter": "python",
   "pygments_lexer": "ipython3",
   "version": "3.8.5"
  },
  "latex_envs": {
   "LaTeX_envs_menu_present": true,
   "autoclose": false,
   "autocomplete": true,
   "bibliofile": "biblio.bib",
   "cite_by": "apalike",
   "current_citInitial": 1,
   "eqLabelWithNumbers": true,
   "eqNumInitial": 1,
   "hotkeys": {
    "equation": "Ctrl-E",
    "itemize": "Ctrl-I"
   },
   "labels_anchors": false,
   "latex_user_defs": false,
   "report_style_numbering": false,
   "user_envs_cfg": false
  }
 },
 "nbformat": 4,
 "nbformat_minor": 2
}