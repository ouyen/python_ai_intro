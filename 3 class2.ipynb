{
 "cells": [
  {
   "cell_type": "markdown",
   "metadata": {},
   "source": [
    "## Homework_2021_03_18\n",
    "   <font color=ff0000> 截止日期：03.22(周一)中午12:00 </font>\n",
    "\n",
    "### 第一部分：基础练习"
   ]
  },
  {
   "cell_type": "markdown",
   "metadata": {},
   "source": [
    "#### 1.1 创建一个名为PkuClass 的类， 其方法__init__( ) 设置两个属性：student_num 和teacher_num 。创建一个名为describe_class( ) 的方法， 能够返回student_num 和teacher_num。创建一个quit_class()方法，能够减去相应的退课学生数。"
   ]
  },
  {
   "cell_type": "code",
   "execution_count": null,
   "metadata": {},
   "outputs": [],
   "source": [
    "class PkuClass:\n",
    "    def __init__(self, s_n, t_n):\n",
    "        # TODO\n",
    "        self.student_num=s_n\n",
    "        self.teacher_num=t_n\n",
    "    def describe_class(self):\n",
    "        return (self.student_num,self.teacher_num)\n",
    "    def quit(self,q_n):\n",
    "        self.student_num-=q_n\n",
    "        \n",
    "pkuclass = PkuClass(100,1)  \n",
    "pkuclass.quit(10)\n",
    "assert pkuclass.describe_class() == (90,1)\n",
    "print('Test passed!')"
   ]
  },
  {
   "cell_type": "markdown",
   "metadata": {},
   "source": [
    "#### 1.2 继承1.1的PkuClass类实现一个PythonClass，修改相应默认函数，使得直接print该类的对象就能在屏幕中打出该课程的学生人数和教师人数 (输出格式为：该课共有学生x人,老师y人)"
   ]
  },
  {
   "cell_type": "code",
   "execution_count": null,
   "metadata": {},
   "outputs": [],
   "source": [
    "class PythonClass(PkuClass):\n",
    "    def __str__(self):\n",
    "        return '该课共有学生%d人,老师%d人'%(self.student_num,self.teacher_num)\n",
    "print(PythonClass(100,1))"
   ]
  },
  {
   "cell_type": "markdown",
   "metadata": {},
   "source": [
    "#### 1.3 请实现一个自定义队列类并完成模板中相应的函数"
   ]
  },
  {
   "cell_type": "code",
   "execution_count": null,
   "metadata": {},
   "outputs": [],
   "source": [
    "class Queue():\n",
    "    # 初始化队列\n",
    "    def __init__(self, *arg):\n",
    "        # TODO\n",
    "        self.list=list(arg)\n",
    "        self.pop_count=0\n",
    "        self.push_count=0\n",
    "\n",
    "    # 队列末尾增加一个元素\n",
    "    def push(self,item):\n",
    "        # TODO\n",
    "        self.list.append(item)\n",
    "        self.push_count+=1\n",
    "\n",
    "    # 弹出队列第一个元素\n",
    "    def pop(self):\n",
    "        # TODO   \n",
    "        self.pop_count+=1\n",
    "        return self.list.pop(0)\n",
    "\n",
    "    # 输出队列中元素总数\n",
    "    def length(self):\n",
    "        # TODO\n",
    "        return len(self.list)\n",
    "    \n",
    "    # 返回该队列自创建以来执行的压入操作数和弹出的操作数\n",
    "    def count(self):\n",
    "        # TODO\n",
    "        return (self.pop_count,self.push_count)\n",
    "    \n",
    "    # 判断两个队列是否相等，这里的相等定义为队列内逐元素相等\n",
    "    def __eq__(self, y):\n",
    "        # TODO\n",
    "        return self.list==y.list\n",
    "\n",
    "queue = Queue(1, 2, 3, 4)\n",
    "assert queue.length() == 4\n",
    "queue.push(3)\n",
    "queue.pop()\n",
    "queue.push(4)\n",
    "assert queue.count() == (1,2)\n",
    "testqueue = Queue(2, 3, 4, 3, 4)\n",
    "assert queue == testqueue\n",
    "print('Test passed!')"
   ]
  },
  {
   "cell_type": "markdown",
   "metadata": {},
   "source": [
    "### 第二部分：进阶练习\n",
    "\n",
    "#### 2.1 根据给出的二叉树类的定义，补全代码（建树代码也已给出）：\n",
    "- (1) 实现BinaryTree类的height函数，返回二叉树的高度\n",
    "- (2) 实现BinayTree类的items函数，返回二叉树的中序遍历序列（用list表示）\n",
    "- (3) （选做，完成的同学有一定额外加分）通过重写\\_\\_iter\\_\\_函数，编写一个可迭代的二叉树类，使得可以用for循环输出中序遍历序列"
   ]
  },
  {
   "cell_type": "code",
   "execution_count": 1,
   "metadata": {},
   "outputs": [],
   "source": [
    "class BinaryTree(object):\n",
    "    def __init__(self, rootObj):\n",
    "        self.key = rootObj\n",
    "        self.leftChild = None\n",
    "        self.rightChild = None\n",
    "\n",
    "    def insertLeft(self, newNode):\n",
    "        if self.leftChild == None:\n",
    "            self.leftChild = BinaryTree(newNode)\n",
    "        else:\n",
    "            t = BinaryTree(newNode)\n",
    "            t.leftChild = self.leftChild\n",
    "            self.leftChild = t\n",
    "\n",
    "    def insertRight(self, newNode):\n",
    "        if self.rightChild == None:\n",
    "            self.rightChild = BinaryTree(newNode)\n",
    "        else:\n",
    "            t = BinaryTree(newNode)\n",
    "            t.rightChild = self.rightChild\n",
    "            self.rightChild = t\n",
    "\n",
    "    def getRightChild(self):\n",
    "        return self.rightChild\n",
    "\n",
    "    def getLeftChild(self):\n",
    "        return self.leftChild\n",
    "\n",
    "    def setRootVal(self, obj):\n",
    "        self.key = obj\n",
    "\n",
    "    def getRootVal(self):\n",
    "        return self.key\n",
    "    \n",
    "    def height(self): \n",
    "        # TODO\n",
    "        return 1+max(self.getLeftChild().height() if self.getLeftChild()!=None else -1,self.rightChild.height() if self.getRightChild()!=None else -1)\n",
    "        \n",
    "    def items(self):\n",
    "        # TODO\n",
    "        return (self.getLeftChild().items() if self.getLeftChild() else [])+[self.key]+(self.getRightChild().items() if self.getRightChild() else [])\n",
    "\n",
    "    def __iter__(self):\n",
    "        if self.getLeftChild():\n",
    "            yield from self.getLeftChild()\n",
    "        yield self.key\n",
    "        if self.getRightChild():\n",
    "            yield from self.getRightChild()"
   ]
  },
  {
   "cell_type": "code",
   "execution_count": 2,
   "metadata": {},
   "outputs": [
    {
     "name": "stdout",
     "output_type": "stream",
     "text": [
      "3\n",
      "[1, 3, 4, 6, 7, 8, 10, 13, 14]\n"
     ]
    }
   ],
   "source": [
    "# 建树\n",
    "rt=BinaryTree(8)\n",
    "rt.insertLeft(1)\n",
    "rt.insertLeft(3)\n",
    "rt.getLeftChild().insertRight(6)\n",
    "t=rt.getLeftChild().getRightChild()\n",
    "t.insertLeft(4)\n",
    "t.insertRight(7)\n",
    "rt.insertRight(14)\n",
    "rt.insertRight(10)\n",
    "t=rt.getRightChild().getRightChild()\n",
    "t.insertLeft(13)\n",
    "\n",
    "print(rt.height())\n",
    "print(rt.items())"
   ]
  },
  {
   "cell_type": "markdown",
   "metadata": {},
   "source": [
    "####  2.2 设计一个基于类实现的decorator，它可作用于任何函数上，并打印该函数的执行时间"
   ]
  },
  {
   "cell_type": "code",
   "execution_count": 1,
   "metadata": {},
   "outputs": [],
   "source": [
    "import time\n",
    "class Time():\n",
    "    def __init__(self):\n",
    "        pass\n",
    "    def __call__(self,func):\n",
    "        def func_time(*argv,**argd):\n",
    "            start=time.time()\n",
    "            func_result=func(*argv,**argd)\n",
    "            end=time.time()\n",
    "            print('函数执行耗时'+str(end-start)+'s')\n",
    "            return func_result\n",
    "        return func_time"
   ]
  },
  {
   "cell_type": "code",
   "execution_count": 2,
   "metadata": {},
   "outputs": [
    {
     "name": "stdout",
     "output_type": "stream",
     "text": [
      "3\n",
      "函数执行耗时0.0006792545318603516s\n"
     ]
    },
    {
     "data": {
      "text/plain": [
       "-2"
      ]
     },
     "execution_count": 2,
     "metadata": {},
     "output_type": "execute_result"
    }
   ],
   "source": [
    "@Time()\n",
    "def add_(a,b):\n",
    "    print(a+b)\n",
    "    return a+b\n",
    "\n",
    "add_(1,2)-5"
   ]
  }
 ],
 "metadata": {
  "file_extension": ".py",
  "kernelspec": {
   "display_name": "Python 3",
   "language": "python",
   "name": "python3"
  },
  "language_info": {
   "codemirror_mode": {
    "name": "ipython",
    "version": 3
   },
   "file_extension": ".py",
   "mimetype": "text/x-python",
   "name": "python",
   "nbconvert_exporter": "python",
   "pygments_lexer": "ipython3",
   "version": "3.8.10"
  },
  "mimetype": "text/x-python",
  "name": "python",
  "npconvert_exporter": "python",
  "pygments_lexer": "ipython3",
  "version": 3
 },
 "nbformat": 4,
 "nbformat_minor": 2
}
