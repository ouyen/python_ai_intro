{
 "cells": [
  {
   "cell_type": "markdown",
   "metadata": {},
   "source": [
    "## Homework_2021_04_15\n"
   ]
  },
  {
   "cell_type": "markdown",
   "metadata": {},
   "source": [
    "### Exercise 1 Pandas基础练习"
   ]
  },
  {
   "cell_type": "code",
   "execution_count": 1,
   "metadata": {},
   "outputs": [],
   "source": [
    "import pandas as pd\n",
    "import numpy as np\n",
    "from matplotlib import pyplot as plt\n",
    "\n",
    "data = {\n",
    "    'age': [24, 53, 23, 24, 33, 42, 57, 57, 36, 29, 53, 39],\n",
    "    'gender': ['M', 'F', 'M', 'M', 'F', 'M', 'M', 'M', 'M', 'M', 'M', 'F'],\n",
    "    'occupation': ['technician', 'other', 'writer', 'technician', 'technician', 'executive', 'administrator', 'administrator', 'administrator', 'student', 'lawyer', 'other'],\n",
    "    'zip_code': ['85711', '94043', '32067', '43537', '15213', '98101', '91344', '91344', '05201', '01002', '90703', '30329']\n",
    "}"
   ]
  },
  {
   "cell_type": "markdown",
   "metadata": {},
   "source": [
    "创建一组从1开始递增的id，作为行索引，由data生成一个DataFrame："
   ]
  },
  {
   "cell_type": "code",
   "execution_count": 2,
   "metadata": {},
   "outputs": [
    {
     "output_type": "execute_result",
     "data": {
      "text/plain": [
       "    age gender     occupation zip_code\n",
       "1    24      M     technician    85711\n",
       "2    53      F          other    94043\n",
       "3    23      M         writer    32067\n",
       "4    24      M     technician    43537\n",
       "5    33      F     technician    15213\n",
       "6    42      M      executive    98101\n",
       "7    57      M  administrator    91344\n",
       "8    57      M  administrator    91344\n",
       "9    36      M  administrator    05201\n",
       "10   29      M        student    01002\n",
       "11   53      M         lawyer    90703\n",
       "12   39      F          other    30329"
      ],
      "text/html": "<div>\n<style scoped>\n    .dataframe tbody tr th:only-of-type {\n        vertical-align: middle;\n    }\n\n    .dataframe tbody tr th {\n        vertical-align: top;\n    }\n\n    .dataframe thead th {\n        text-align: right;\n    }\n</style>\n<table border=\"1\" class=\"dataframe\">\n  <thead>\n    <tr style=\"text-align: right;\">\n      <th></th>\n      <th>age</th>\n      <th>gender</th>\n      <th>occupation</th>\n      <th>zip_code</th>\n    </tr>\n  </thead>\n  <tbody>\n    <tr>\n      <th>1</th>\n      <td>24</td>\n      <td>M</td>\n      <td>technician</td>\n      <td>85711</td>\n    </tr>\n    <tr>\n      <th>2</th>\n      <td>53</td>\n      <td>F</td>\n      <td>other</td>\n      <td>94043</td>\n    </tr>\n    <tr>\n      <th>3</th>\n      <td>23</td>\n      <td>M</td>\n      <td>writer</td>\n      <td>32067</td>\n    </tr>\n    <tr>\n      <th>4</th>\n      <td>24</td>\n      <td>M</td>\n      <td>technician</td>\n      <td>43537</td>\n    </tr>\n    <tr>\n      <th>5</th>\n      <td>33</td>\n      <td>F</td>\n      <td>technician</td>\n      <td>15213</td>\n    </tr>\n    <tr>\n      <th>6</th>\n      <td>42</td>\n      <td>M</td>\n      <td>executive</td>\n      <td>98101</td>\n    </tr>\n    <tr>\n      <th>7</th>\n      <td>57</td>\n      <td>M</td>\n      <td>administrator</td>\n      <td>91344</td>\n    </tr>\n    <tr>\n      <th>8</th>\n      <td>57</td>\n      <td>M</td>\n      <td>administrator</td>\n      <td>91344</td>\n    </tr>\n    <tr>\n      <th>9</th>\n      <td>36</td>\n      <td>M</td>\n      <td>administrator</td>\n      <td>05201</td>\n    </tr>\n    <tr>\n      <th>10</th>\n      <td>29</td>\n      <td>M</td>\n      <td>student</td>\n      <td>01002</td>\n    </tr>\n    <tr>\n      <th>11</th>\n      <td>53</td>\n      <td>M</td>\n      <td>lawyer</td>\n      <td>90703</td>\n    </tr>\n    <tr>\n      <th>12</th>\n      <td>39</td>\n      <td>F</td>\n      <td>other</td>\n      <td>30329</td>\n    </tr>\n  </tbody>\n</table>\n</div>"
     },
     "metadata": {},
     "execution_count": 2
    }
   ],
   "source": [
    "# TODO\n",
    "data_df=pd.DataFrame(data,index=range(1,13))\n",
    "data_df"
   ]
  },
  {
   "cell_type": "markdown",
   "metadata": {},
   "source": [
    "删除DataFrame中重复的行（保留一行），再删除所有occupation为\"other\"的行"
   ]
  },
  {
   "cell_type": "code",
   "execution_count": 3,
   "metadata": {},
   "outputs": [],
   "source": [
    "# TODO\n",
    "data_df.drop_duplicates(inplace=True)"
   ]
  },
  {
   "cell_type": "code",
   "execution_count": 4,
   "metadata": {},
   "outputs": [
    {
     "output_type": "execute_result",
     "data": {
      "text/plain": [
       "    age gender     occupation zip_code\n",
       "1    24      M     technician    85711\n",
       "3    23      M         writer    32067\n",
       "4    24      M     technician    43537\n",
       "5    33      F     technician    15213\n",
       "6    42      M      executive    98101\n",
       "7    57      M  administrator    91344\n",
       "9    36      M  administrator    05201\n",
       "10   29      M        student    01002\n",
       "11   53      M         lawyer    90703"
      ],
      "text/html": "<div>\n<style scoped>\n    .dataframe tbody tr th:only-of-type {\n        vertical-align: middle;\n    }\n\n    .dataframe tbody tr th {\n        vertical-align: top;\n    }\n\n    .dataframe thead th {\n        text-align: right;\n    }\n</style>\n<table border=\"1\" class=\"dataframe\">\n  <thead>\n    <tr style=\"text-align: right;\">\n      <th></th>\n      <th>age</th>\n      <th>gender</th>\n      <th>occupation</th>\n      <th>zip_code</th>\n    </tr>\n  </thead>\n  <tbody>\n    <tr>\n      <th>1</th>\n      <td>24</td>\n      <td>M</td>\n      <td>technician</td>\n      <td>85711</td>\n    </tr>\n    <tr>\n      <th>3</th>\n      <td>23</td>\n      <td>M</td>\n      <td>writer</td>\n      <td>32067</td>\n    </tr>\n    <tr>\n      <th>4</th>\n      <td>24</td>\n      <td>M</td>\n      <td>technician</td>\n      <td>43537</td>\n    </tr>\n    <tr>\n      <th>5</th>\n      <td>33</td>\n      <td>F</td>\n      <td>technician</td>\n      <td>15213</td>\n    </tr>\n    <tr>\n      <th>6</th>\n      <td>42</td>\n      <td>M</td>\n      <td>executive</td>\n      <td>98101</td>\n    </tr>\n    <tr>\n      <th>7</th>\n      <td>57</td>\n      <td>M</td>\n      <td>administrator</td>\n      <td>91344</td>\n    </tr>\n    <tr>\n      <th>9</th>\n      <td>36</td>\n      <td>M</td>\n      <td>administrator</td>\n      <td>05201</td>\n    </tr>\n    <tr>\n      <th>10</th>\n      <td>29</td>\n      <td>M</td>\n      <td>student</td>\n      <td>01002</td>\n    </tr>\n    <tr>\n      <th>11</th>\n      <td>53</td>\n      <td>M</td>\n      <td>lawyer</td>\n      <td>90703</td>\n    </tr>\n  </tbody>\n</table>\n</div>"
     },
     "metadata": {},
     "execution_count": 4
    }
   ],
   "source": [
    "data_df.drop(data_df[data_df['occupation']=='other'].index,inplace=True)\n",
    "data_df"
   ]
  },
  {
   "cell_type": "markdown",
   "metadata": {},
   "source": [
    "以两种方式访问DataFrame的第一行："
   ]
  },
  {
   "cell_type": "code",
   "execution_count": 5,
   "metadata": {},
   "outputs": [
    {
     "output_type": "execute_result",
     "data": {
      "text/plain": [
       "   age gender  occupation zip_code\n",
       "1   24      M  technician    85711"
      ],
      "text/html": "<div>\n<style scoped>\n    .dataframe tbody tr th:only-of-type {\n        vertical-align: middle;\n    }\n\n    .dataframe tbody tr th {\n        vertical-align: top;\n    }\n\n    .dataframe thead th {\n        text-align: right;\n    }\n</style>\n<table border=\"1\" class=\"dataframe\">\n  <thead>\n    <tr style=\"text-align: right;\">\n      <th></th>\n      <th>age</th>\n      <th>gender</th>\n      <th>occupation</th>\n      <th>zip_code</th>\n    </tr>\n  </thead>\n  <tbody>\n    <tr>\n      <th>1</th>\n      <td>24</td>\n      <td>M</td>\n      <td>technician</td>\n      <td>85711</td>\n    </tr>\n  </tbody>\n</table>\n</div>"
     },
     "metadata": {},
     "execution_count": 5
    }
   ],
   "source": [
    "# TODO\n",
    "data_df[0:1]"
   ]
  },
  {
   "cell_type": "code",
   "execution_count": 6,
   "metadata": {},
   "outputs": [
    {
     "output_type": "execute_result",
     "data": {
      "text/plain": [
       "age                   24\n",
       "gender                 M\n",
       "occupation    technician\n",
       "zip_code           85711\n",
       "Name: 1, dtype: object"
      ]
     },
     "metadata": {},
     "execution_count": 6
    }
   ],
   "source": [
    "data_df.iloc[0]"
   ]
  },
  {
   "cell_type": "markdown",
   "metadata": {},
   "source": [
    "以两种方式访问DataFrame的\"occupation\"列："
   ]
  },
  {
   "cell_type": "code",
   "execution_count": 7,
   "metadata": {},
   "outputs": [
    {
     "output_type": "execute_result",
     "data": {
      "text/plain": [
       "1        technician\n",
       "3            writer\n",
       "4        technician\n",
       "5        technician\n",
       "6         executive\n",
       "7     administrator\n",
       "9     administrator\n",
       "10          student\n",
       "11           lawyer\n",
       "Name: occupation, dtype: object"
      ]
     },
     "metadata": {},
     "execution_count": 7
    }
   ],
   "source": [
    "# TODO\n",
    "data_df[\"occupation\"]"
   ]
  },
  {
   "cell_type": "code",
   "execution_count": 8,
   "metadata": {},
   "outputs": [
    {
     "output_type": "execute_result",
     "data": {
      "text/plain": [
       "1        technician\n",
       "3            writer\n",
       "4        technician\n",
       "5        technician\n",
       "6         executive\n",
       "7     administrator\n",
       "9     administrator\n",
       "10          student\n",
       "11           lawyer\n",
       "Name: occupation, dtype: object"
      ]
     },
     "metadata": {},
     "execution_count": 8
    }
   ],
   "source": [
    "data_df.occupation"
   ]
  },
  {
   "cell_type": "markdown",
   "metadata": {},
   "source": [
    "打印出DataFrame中出现次数最多的职业名称："
   ]
  },
  {
   "cell_type": "code",
   "execution_count": 9,
   "metadata": {},
   "outputs": [
    {
     "output_type": "execute_result",
     "data": {
      "text/plain": [
       "'technician'"
      ]
     },
     "metadata": {},
     "execution_count": 9
    }
   ],
   "source": [
    "# TODO\n",
    "data_df.occupation.value_counts().index[0]"
   ]
  },
  {
   "cell_type": "markdown",
   "metadata": {},
   "source": [
    "将data_2转换成DataFrame，与上一个DataFrame按照\"zip_code\"这一列合并，按两种合并方式：\n",
    "\n",
    "1.合并后结果保留两个DataFrame的并集；\n",
    "2.合并后只保留data_2的所有数据"
   ]
  },
  {
   "cell_type": "code",
   "execution_count": 10,
   "metadata": {},
   "outputs": [],
   "source": [
    "data_2 = {\n",
    "    'zip_code': ['85711', '94043', '15213', '98101', '30329'],\n",
    "    'name': ['Alan', 'Alice', 'Abigail', 'Bob', 'Dave']\n",
    "}\n",
    "df2 = pd.DataFrame(data_2)\n",
    "\n",
    "# TODO\n"
   ]
  },
  {
   "cell_type": "code",
   "execution_count": 11,
   "metadata": {},
   "outputs": [
    {
     "output_type": "execute_result",
     "data": {
      "text/plain": [
       "     age gender     occupation zip_code     name\n",
       "0   24.0      M     technician    85711     Alan\n",
       "1   23.0      M         writer    32067      NaN\n",
       "2   24.0      M     technician    43537      NaN\n",
       "3   33.0      F     technician    15213  Abigail\n",
       "4   42.0      M      executive    98101      Bob\n",
       "5   57.0      M  administrator    91344      NaN\n",
       "6   36.0      M  administrator    05201      NaN\n",
       "7   29.0      M        student    01002      NaN\n",
       "8   53.0      M         lawyer    90703      NaN\n",
       "9    NaN    NaN            NaN    94043    Alice\n",
       "10   NaN    NaN            NaN    30329     Dave"
      ],
      "text/html": "<div>\n<style scoped>\n    .dataframe tbody tr th:only-of-type {\n        vertical-align: middle;\n    }\n\n    .dataframe tbody tr th {\n        vertical-align: top;\n    }\n\n    .dataframe thead th {\n        text-align: right;\n    }\n</style>\n<table border=\"1\" class=\"dataframe\">\n  <thead>\n    <tr style=\"text-align: right;\">\n      <th></th>\n      <th>age</th>\n      <th>gender</th>\n      <th>occupation</th>\n      <th>zip_code</th>\n      <th>name</th>\n    </tr>\n  </thead>\n  <tbody>\n    <tr>\n      <th>0</th>\n      <td>24.0</td>\n      <td>M</td>\n      <td>technician</td>\n      <td>85711</td>\n      <td>Alan</td>\n    </tr>\n    <tr>\n      <th>1</th>\n      <td>23.0</td>\n      <td>M</td>\n      <td>writer</td>\n      <td>32067</td>\n      <td>NaN</td>\n    </tr>\n    <tr>\n      <th>2</th>\n      <td>24.0</td>\n      <td>M</td>\n      <td>technician</td>\n      <td>43537</td>\n      <td>NaN</td>\n    </tr>\n    <tr>\n      <th>3</th>\n      <td>33.0</td>\n      <td>F</td>\n      <td>technician</td>\n      <td>15213</td>\n      <td>Abigail</td>\n    </tr>\n    <tr>\n      <th>4</th>\n      <td>42.0</td>\n      <td>M</td>\n      <td>executive</td>\n      <td>98101</td>\n      <td>Bob</td>\n    </tr>\n    <tr>\n      <th>5</th>\n      <td>57.0</td>\n      <td>M</td>\n      <td>administrator</td>\n      <td>91344</td>\n      <td>NaN</td>\n    </tr>\n    <tr>\n      <th>6</th>\n      <td>36.0</td>\n      <td>M</td>\n      <td>administrator</td>\n      <td>05201</td>\n      <td>NaN</td>\n    </tr>\n    <tr>\n      <th>7</th>\n      <td>29.0</td>\n      <td>M</td>\n      <td>student</td>\n      <td>01002</td>\n      <td>NaN</td>\n    </tr>\n    <tr>\n      <th>8</th>\n      <td>53.0</td>\n      <td>M</td>\n      <td>lawyer</td>\n      <td>90703</td>\n      <td>NaN</td>\n    </tr>\n    <tr>\n      <th>9</th>\n      <td>NaN</td>\n      <td>NaN</td>\n      <td>NaN</td>\n      <td>94043</td>\n      <td>Alice</td>\n    </tr>\n    <tr>\n      <th>10</th>\n      <td>NaN</td>\n      <td>NaN</td>\n      <td>NaN</td>\n      <td>30329</td>\n      <td>Dave</td>\n    </tr>\n  </tbody>\n</table>\n</div>"
     },
     "metadata": {},
     "execution_count": 11
    }
   ],
   "source": [
    "pd.merge(data_df,df2,on=\"zip_code\",how='outer')"
   ]
  },
  {
   "cell_type": "code",
   "execution_count": 12,
   "metadata": {},
   "outputs": [
    {
     "output_type": "execute_result",
     "data": {
      "text/plain": [
       "    age gender  occupation zip_code     name\n",
       "0  24.0      M  technician    85711     Alan\n",
       "1   NaN    NaN         NaN    94043    Alice\n",
       "2  33.0      F  technician    15213  Abigail\n",
       "3  42.0      M   executive    98101      Bob\n",
       "4   NaN    NaN         NaN    30329     Dave"
      ],
      "text/html": "<div>\n<style scoped>\n    .dataframe tbody tr th:only-of-type {\n        vertical-align: middle;\n    }\n\n    .dataframe tbody tr th {\n        vertical-align: top;\n    }\n\n    .dataframe thead th {\n        text-align: right;\n    }\n</style>\n<table border=\"1\" class=\"dataframe\">\n  <thead>\n    <tr style=\"text-align: right;\">\n      <th></th>\n      <th>age</th>\n      <th>gender</th>\n      <th>occupation</th>\n      <th>zip_code</th>\n      <th>name</th>\n    </tr>\n  </thead>\n  <tbody>\n    <tr>\n      <th>0</th>\n      <td>24.0</td>\n      <td>M</td>\n      <td>technician</td>\n      <td>85711</td>\n      <td>Alan</td>\n    </tr>\n    <tr>\n      <th>1</th>\n      <td>NaN</td>\n      <td>NaN</td>\n      <td>NaN</td>\n      <td>94043</td>\n      <td>Alice</td>\n    </tr>\n    <tr>\n      <th>2</th>\n      <td>33.0</td>\n      <td>F</td>\n      <td>technician</td>\n      <td>15213</td>\n      <td>Abigail</td>\n    </tr>\n    <tr>\n      <th>3</th>\n      <td>42.0</td>\n      <td>M</td>\n      <td>executive</td>\n      <td>98101</td>\n      <td>Bob</td>\n    </tr>\n    <tr>\n      <th>4</th>\n      <td>NaN</td>\n      <td>NaN</td>\n      <td>NaN</td>\n      <td>30329</td>\n      <td>Dave</td>\n    </tr>\n  </tbody>\n</table>\n</div>"
     },
     "metadata": {},
     "execution_count": 12
    }
   ],
   "source": [
    "pd.merge(data_df,df2,on='zip_code',how='right')"
   ]
  },
  {
   "cell_type": "markdown",
   "metadata": {},
   "source": [
    "### Exercise 2 Pandas数据分析"
   ]
  },
  {
   "cell_type": "markdown",
   "metadata": {},
   "source": [
    "使用Pandas的read_csv函数读取 IBM_2006-01-01_to_2018-01-01.csv 中的数据，得到一个DataFrame，并打印该数据的前10行观察一下。"
   ]
  },
  {
   "cell_type": "code",
   "execution_count": 13,
   "metadata": {},
   "outputs": [],
   "source": [
    "import pandas as pd\n",
    "\n",
    "IBM_file = 'IBM_2006-01-01_to_2018-01-01.csv'\n",
    "# TODO\n",
    "IBM_data=pd.read_csv(IBM_file)"
   ]
  },
  {
   "cell_type": "code",
   "execution_count": 14,
   "metadata": {},
   "outputs": [
    {
     "output_type": "execute_result",
     "data": {
      "text/plain": [
       "         Date   Open   High    Low  Close    Volume Name\n",
       "0  2006-01-03  82.45  82.55  80.81  82.06  11715200  IBM\n",
       "1  2006-01-04  82.20  82.50  81.33  81.95   9840600  IBM\n",
       "2  2006-01-05  81.40  82.90  81.00  82.50   7213500  IBM\n",
       "3  2006-01-06  83.95  85.03  83.41  84.95   8197400  IBM\n",
       "4  2006-01-09  84.10  84.25  83.38  83.73   6858200  IBM\n",
       "5  2006-01-10  83.15  84.12  83.12  84.07   5701000  IBM\n",
       "6  2006-01-11  84.37  84.81  83.40  84.17   5776500  IBM\n",
       "7  2006-01-12  83.82  83.96  83.40  83.57   4926500  IBM\n",
       "8  2006-01-13  83.00  83.45  82.50  83.17   6921700  IBM\n",
       "9  2006-01-17  82.80  83.16  82.54  83.00   8761700  IBM"
      ],
      "text/html": "<div>\n<style scoped>\n    .dataframe tbody tr th:only-of-type {\n        vertical-align: middle;\n    }\n\n    .dataframe tbody tr th {\n        vertical-align: top;\n    }\n\n    .dataframe thead th {\n        text-align: right;\n    }\n</style>\n<table border=\"1\" class=\"dataframe\">\n  <thead>\n    <tr style=\"text-align: right;\">\n      <th></th>\n      <th>Date</th>\n      <th>Open</th>\n      <th>High</th>\n      <th>Low</th>\n      <th>Close</th>\n      <th>Volume</th>\n      <th>Name</th>\n    </tr>\n  </thead>\n  <tbody>\n    <tr>\n      <th>0</th>\n      <td>2006-01-03</td>\n      <td>82.45</td>\n      <td>82.55</td>\n      <td>80.81</td>\n      <td>82.06</td>\n      <td>11715200</td>\n      <td>IBM</td>\n    </tr>\n    <tr>\n      <th>1</th>\n      <td>2006-01-04</td>\n      <td>82.20</td>\n      <td>82.50</td>\n      <td>81.33</td>\n      <td>81.95</td>\n      <td>9840600</td>\n      <td>IBM</td>\n    </tr>\n    <tr>\n      <th>2</th>\n      <td>2006-01-05</td>\n      <td>81.40</td>\n      <td>82.90</td>\n      <td>81.00</td>\n      <td>82.50</td>\n      <td>7213500</td>\n      <td>IBM</td>\n    </tr>\n    <tr>\n      <th>3</th>\n      <td>2006-01-06</td>\n      <td>83.95</td>\n      <td>85.03</td>\n      <td>83.41</td>\n      <td>84.95</td>\n      <td>8197400</td>\n      <td>IBM</td>\n    </tr>\n    <tr>\n      <th>4</th>\n      <td>2006-01-09</td>\n      <td>84.10</td>\n      <td>84.25</td>\n      <td>83.38</td>\n      <td>83.73</td>\n      <td>6858200</td>\n      <td>IBM</td>\n    </tr>\n    <tr>\n      <th>5</th>\n      <td>2006-01-10</td>\n      <td>83.15</td>\n      <td>84.12</td>\n      <td>83.12</td>\n      <td>84.07</td>\n      <td>5701000</td>\n      <td>IBM</td>\n    </tr>\n    <tr>\n      <th>6</th>\n      <td>2006-01-11</td>\n      <td>84.37</td>\n      <td>84.81</td>\n      <td>83.40</td>\n      <td>84.17</td>\n      <td>5776500</td>\n      <td>IBM</td>\n    </tr>\n    <tr>\n      <th>7</th>\n      <td>2006-01-12</td>\n      <td>83.82</td>\n      <td>83.96</td>\n      <td>83.40</td>\n      <td>83.57</td>\n      <td>4926500</td>\n      <td>IBM</td>\n    </tr>\n    <tr>\n      <th>8</th>\n      <td>2006-01-13</td>\n      <td>83.00</td>\n      <td>83.45</td>\n      <td>82.50</td>\n      <td>83.17</td>\n      <td>6921700</td>\n      <td>IBM</td>\n    </tr>\n    <tr>\n      <th>9</th>\n      <td>2006-01-17</td>\n      <td>82.80</td>\n      <td>83.16</td>\n      <td>82.54</td>\n      <td>83.00</td>\n      <td>8761700</td>\n      <td>IBM</td>\n    </tr>\n  </tbody>\n</table>\n</div>"
     },
     "metadata": {},
     "execution_count": 14
    }
   ],
   "source": [
    "IBM_data.head(10)"
   ]
  },
  {
   "cell_type": "markdown",
   "metadata": {},
   "source": [
    "该数据列索引对应的分别是：日期，开盘价，最高价，最低价，收盘价，成交量，股票名称。\n",
    "通过shape和info()查看数据基本信息："
   ]
  },
  {
   "cell_type": "code",
   "execution_count": 15,
   "metadata": {},
   "outputs": [
    {
     "output_type": "stream",
     "name": "stdout",
     "text": [
      "(3020, 7)\n<class 'pandas.core.frame.DataFrame'>\nRangeIndex: 3020 entries, 0 to 3019\nData columns (total 7 columns):\n #   Column  Non-Null Count  Dtype  \n---  ------  --------------  -----  \n 0   Date    3020 non-null   object \n 1   Open    3019 non-null   float64\n 2   High    3020 non-null   float64\n 3   Low     3019 non-null   float64\n 4   Close   3020 non-null   float64\n 5   Volume  3020 non-null   int64  \n 6   Name    3020 non-null   object \ndtypes: float64(4), int64(1), object(2)\nmemory usage: 165.3+ KB\nNone\n"
     ]
    }
   ],
   "source": [
    "print(IBM_data.shape)\n",
    "print(IBM_data.info())"
   ]
  },
  {
   "cell_type": "markdown",
   "metadata": {},
   "source": [
    "观察到Open与Low这两列相比其他列都缺了一项，请删除DataFrame中所有不完整的数据："
   ]
  },
  {
   "cell_type": "code",
   "execution_count": 16,
   "metadata": {},
   "outputs": [],
   "source": [
    "# TODO\n",
    "IBM_data.dropna(inplace=True)"
   ]
  },
  {
   "cell_type": "markdown",
   "metadata": {},
   "source": [
    "除此之外还能观察到，由于股市周末和节假日不开盘，日期为2006-01-06的下一条数据就是2006-01-09，缺少了中间两天的数据。为了便于后续处理，请将所有缺少的数据按照以下规则补充：成交量（volume）填充为零，开盘价等价格与前一天（最近的有数据的一天）保持相同。\n",
    "\n",
    "提示：使用pandas.date_range生成时间序列"
   ]
  },
  {
   "cell_type": "code",
   "execution_count": 20,
   "metadata": {},
   "outputs": [],
   "source": [
    "IBM_data.Date=pd.to_datetime(IBM_data.Date)\n",
    "IBM_data_full=pd.merge(pd.DataFrame({\"Date\":pd.date_range(start='2006-01-03',end='2017-12-29')}),IBM_data,on='Date',how='left')\n",
    "IBM_data_full.Volume.fillna(0,inplace=True)\n",
    "IBM_data_full.fillna(method='ffill',inplace=True)"
   ]
  },
  {
   "cell_type": "code",
   "execution_count": 21,
   "metadata": {},
   "outputs": [
    {
     "output_type": "execute_result",
     "data": {
      "text/plain": [
       "           Date    Open    High     Low   Close      Volume Name\n",
       "0    2006-01-03   82.45   82.55   80.81   82.06  11715200.0  IBM\n",
       "1    2006-01-04   82.20   82.50   81.33   81.95   9840600.0  IBM\n",
       "2    2006-01-05   81.40   82.90   81.00   82.50   7213500.0  IBM\n",
       "3    2006-01-06   83.95   85.03   83.41   84.95   8197400.0  IBM\n",
       "4    2006-01-07   83.95   85.03   83.41   84.95         0.0  IBM\n",
       "...         ...     ...     ...     ...     ...         ...  ...\n",
       "4374 2017-12-25  151.82  153.00  151.50  152.50         0.0  IBM\n",
       "4375 2017-12-26  152.51  153.86  152.50  152.83   2479017.0  IBM\n",
       "4376 2017-12-27  152.95  153.18  152.61  153.13   2149257.0  IBM\n",
       "4377 2017-12-28  153.20  154.12  153.20  154.04   2687624.0  IBM\n",
       "4378 2017-12-29  154.17  154.72  153.42  153.42   3327087.0  IBM\n",
       "\n",
       "[4379 rows x 7 columns]"
      ],
      "text/html": "<div>\n<style scoped>\n    .dataframe tbody tr th:only-of-type {\n        vertical-align: middle;\n    }\n\n    .dataframe tbody tr th {\n        vertical-align: top;\n    }\n\n    .dataframe thead th {\n        text-align: right;\n    }\n</style>\n<table border=\"1\" class=\"dataframe\">\n  <thead>\n    <tr style=\"text-align: right;\">\n      <th></th>\n      <th>Date</th>\n      <th>Open</th>\n      <th>High</th>\n      <th>Low</th>\n      <th>Close</th>\n      <th>Volume</th>\n      <th>Name</th>\n    </tr>\n  </thead>\n  <tbody>\n    <tr>\n      <th>0</th>\n      <td>2006-01-03</td>\n      <td>82.45</td>\n      <td>82.55</td>\n      <td>80.81</td>\n      <td>82.06</td>\n      <td>11715200.0</td>\n      <td>IBM</td>\n    </tr>\n    <tr>\n      <th>1</th>\n      <td>2006-01-04</td>\n      <td>82.20</td>\n      <td>82.50</td>\n      <td>81.33</td>\n      <td>81.95</td>\n      <td>9840600.0</td>\n      <td>IBM</td>\n    </tr>\n    <tr>\n      <th>2</th>\n      <td>2006-01-05</td>\n      <td>81.40</td>\n      <td>82.90</td>\n      <td>81.00</td>\n      <td>82.50</td>\n      <td>7213500.0</td>\n      <td>IBM</td>\n    </tr>\n    <tr>\n      <th>3</th>\n      <td>2006-01-06</td>\n      <td>83.95</td>\n      <td>85.03</td>\n      <td>83.41</td>\n      <td>84.95</td>\n      <td>8197400.0</td>\n      <td>IBM</td>\n    </tr>\n    <tr>\n      <th>4</th>\n      <td>2006-01-07</td>\n      <td>83.95</td>\n      <td>85.03</td>\n      <td>83.41</td>\n      <td>84.95</td>\n      <td>0.0</td>\n      <td>IBM</td>\n    </tr>\n    <tr>\n      <th>...</th>\n      <td>...</td>\n      <td>...</td>\n      <td>...</td>\n      <td>...</td>\n      <td>...</td>\n      <td>...</td>\n      <td>...</td>\n    </tr>\n    <tr>\n      <th>4374</th>\n      <td>2017-12-25</td>\n      <td>151.82</td>\n      <td>153.00</td>\n      <td>151.50</td>\n      <td>152.50</td>\n      <td>0.0</td>\n      <td>IBM</td>\n    </tr>\n    <tr>\n      <th>4375</th>\n      <td>2017-12-26</td>\n      <td>152.51</td>\n      <td>153.86</td>\n      <td>152.50</td>\n      <td>152.83</td>\n      <td>2479017.0</td>\n      <td>IBM</td>\n    </tr>\n    <tr>\n      <th>4376</th>\n      <td>2017-12-27</td>\n      <td>152.95</td>\n      <td>153.18</td>\n      <td>152.61</td>\n      <td>153.13</td>\n      <td>2149257.0</td>\n      <td>IBM</td>\n    </tr>\n    <tr>\n      <th>4377</th>\n      <td>2017-12-28</td>\n      <td>153.20</td>\n      <td>154.12</td>\n      <td>153.20</td>\n      <td>154.04</td>\n      <td>2687624.0</td>\n      <td>IBM</td>\n    </tr>\n    <tr>\n      <th>4378</th>\n      <td>2017-12-29</td>\n      <td>154.17</td>\n      <td>154.72</td>\n      <td>153.42</td>\n      <td>153.42</td>\n      <td>3327087.0</td>\n      <td>IBM</td>\n    </tr>\n  </tbody>\n</table>\n<p>4379 rows × 7 columns</p>\n</div>"
     },
     "metadata": {},
     "execution_count": 21
    }
   ],
   "source": [
    "IBM_data_full"
   ]
  },
  {
   "cell_type": "markdown",
   "metadata": {},
   "source": [
    "在DataFrame中按月份聚合，计算一年当中每个月的成交量总和，以及每个月收盘价的次高值。\n",
    "提示：可以通过apply方法实现自定义的聚合函数。（有多个相同值的话，这里先简单地按照排完序取下标第二个就行了）"
   ]
  },
  {
   "cell_type": "code",
   "execution_count": 22,
   "metadata": {},
   "outputs": [],
   "source": [
    "IBM_data_full.set_index('Date',inplace=True)"
   ]
  },
  {
   "cell_type": "code",
   "execution_count": 23,
   "metadata": {},
   "outputs": [],
   "source": [
    "IBM_month_data=pd.DataFrame(columns=('Date',\"Max\",\"Second\",\"Volume\"))"
   ]
  },
  {
   "source": [
    "for i in pd.date_range(start='2006-01',end='2018-01',freq='M'):\n",
    "    i=str(i)[:7]\n",
    "    IBM_month_data=IBM_month_data.append({'Date':i,'Max':IBM_data_full[i].Close.nlargest(2)[0],'Second':IBM_data_full[i].Close.nlargest(2)[1],\"Volume\":IBM_data_full[i].Volume.sum()},ignore_index=True)"
   ],
   "cell_type": "code",
   "metadata": {},
   "execution_count": 24,
   "outputs": []
  },
  {
   "cell_type": "code",
   "execution_count": 25,
   "metadata": {},
   "outputs": [
    {
     "output_type": "execute_result",
     "data": {
      "text/plain": [
       "        Date     Max  Second       Volume\n",
       "0    2006-01   84.95   84.95  146611300.0\n",
       "1    2006-02   81.94   81.35  111061200.0\n",
       "2    2006-03   84.45   83.81  111811000.0\n",
       "3    2006-04   84.17   83.88  114030800.0\n",
       "4    2006-05   83.28   83.28  113238100.0\n",
       "..       ...     ...     ...          ...\n",
       "139  2017-08  145.30  145.16   80295410.0\n",
       "140  2017-09  146.56  145.99   78281970.0\n",
       "141  2017-10  162.07  162.07  121897687.0\n",
       "142  2017-11  154.03  153.97   89776130.0\n",
       "143  2017-12  156.74  156.46   88788538.0\n",
       "\n",
       "[144 rows x 4 columns]"
      ],
      "text/html": "<div>\n<style scoped>\n    .dataframe tbody tr th:only-of-type {\n        vertical-align: middle;\n    }\n\n    .dataframe tbody tr th {\n        vertical-align: top;\n    }\n\n    .dataframe thead th {\n        text-align: right;\n    }\n</style>\n<table border=\"1\" class=\"dataframe\">\n  <thead>\n    <tr style=\"text-align: right;\">\n      <th></th>\n      <th>Date</th>\n      <th>Max</th>\n      <th>Second</th>\n      <th>Volume</th>\n    </tr>\n  </thead>\n  <tbody>\n    <tr>\n      <th>0</th>\n      <td>2006-01</td>\n      <td>84.95</td>\n      <td>84.95</td>\n      <td>146611300.0</td>\n    </tr>\n    <tr>\n      <th>1</th>\n      <td>2006-02</td>\n      <td>81.94</td>\n      <td>81.35</td>\n      <td>111061200.0</td>\n    </tr>\n    <tr>\n      <th>2</th>\n      <td>2006-03</td>\n      <td>84.45</td>\n      <td>83.81</td>\n      <td>111811000.0</td>\n    </tr>\n    <tr>\n      <th>3</th>\n      <td>2006-04</td>\n      <td>84.17</td>\n      <td>83.88</td>\n      <td>114030800.0</td>\n    </tr>\n    <tr>\n      <th>4</th>\n      <td>2006-05</td>\n      <td>83.28</td>\n      <td>83.28</td>\n      <td>113238100.0</td>\n    </tr>\n    <tr>\n      <th>...</th>\n      <td>...</td>\n      <td>...</td>\n      <td>...</td>\n      <td>...</td>\n    </tr>\n    <tr>\n      <th>139</th>\n      <td>2017-08</td>\n      <td>145.30</td>\n      <td>145.16</td>\n      <td>80295410.0</td>\n    </tr>\n    <tr>\n      <th>140</th>\n      <td>2017-09</td>\n      <td>146.56</td>\n      <td>145.99</td>\n      <td>78281970.0</td>\n    </tr>\n    <tr>\n      <th>141</th>\n      <td>2017-10</td>\n      <td>162.07</td>\n      <td>162.07</td>\n      <td>121897687.0</td>\n    </tr>\n    <tr>\n      <th>142</th>\n      <td>2017-11</td>\n      <td>154.03</td>\n      <td>153.97</td>\n      <td>89776130.0</td>\n    </tr>\n    <tr>\n      <th>143</th>\n      <td>2017-12</td>\n      <td>156.74</td>\n      <td>156.46</td>\n      <td>88788538.0</td>\n    </tr>\n  </tbody>\n</table>\n<p>144 rows × 4 columns</p>\n</div>"
     },
     "metadata": {},
     "execution_count": 25
    }
   ],
   "source": [
    "IBM_month_data"
   ]
  },
  {
   "cell_type": "markdown",
   "metadata": {},
   "source": [
    "滑动平均值可以平滑曲线，反应股票价格长期的走势。请在DataFrame中添加一列'Avg_Close'，计算每天股票收盘价的滑动平均值（滑动窗口为过去的30天）。\n",
    "并在同一张图中绘制出2016年每天股票的收盘价和收盘价滑动平均值的变化曲线。"
   ]
  },
  {
   "cell_type": "code",
   "execution_count": 27,
   "metadata": {},
   "outputs": [],
   "source": [
    "Avg_list=[np.nan for i in range(30)]\n",
    "month_sum=IBM_data_full['Close'].iloc[:30].sum()\n",
    "for i in range(30,4379):\n",
    "    Avg_list.append(month_sum/30)\n",
    "    month_sum=month_sum+IBM_data_full.Close.iloc[i]-IBM_data_full.Close.iloc[i-30]\n",
    "IBM_data_full['Avg_Close']=Avg_list"
   ]
  },
  {
   "cell_type": "code",
   "execution_count": 28,
   "metadata": {},
   "outputs": [
    {
     "output_type": "execute_result",
     "data": {
      "text/plain": [
       "              Open    High     Low   Close      Volume Name   Avg_Close\n",
       "Date                                                                   \n",
       "2006-01-03   82.45   82.55   80.81   82.06  11715200.0  IBM         NaN\n",
       "2006-01-04   82.20   82.50   81.33   81.95   9840600.0  IBM         NaN\n",
       "2006-01-05   81.40   82.90   81.00   82.50   7213500.0  IBM         NaN\n",
       "2006-01-06   83.95   85.03   83.41   84.95   8197400.0  IBM         NaN\n",
       "2006-01-07   83.95   85.03   83.41   84.95         0.0  IBM         NaN\n",
       "...            ...     ...     ...     ...         ...  ...         ...\n",
       "2017-12-25  151.82  153.00  151.50  152.50         0.0  IBM  153.663667\n",
       "2017-12-26  152.51  153.86  152.50  152.83   2479017.0  IBM  153.685667\n",
       "2017-12-27  152.95  153.18  152.61  153.13   2149257.0  IBM  153.718667\n",
       "2017-12-28  153.20  154.12  153.20  154.04   2687624.0  IBM  153.757000\n",
       "2017-12-29  154.17  154.72  153.42  153.42   3327087.0  IBM  153.809333\n",
       "\n",
       "[4379 rows x 7 columns]"
      ],
      "text/html": "<div>\n<style scoped>\n    .dataframe tbody tr th:only-of-type {\n        vertical-align: middle;\n    }\n\n    .dataframe tbody tr th {\n        vertical-align: top;\n    }\n\n    .dataframe thead th {\n        text-align: right;\n    }\n</style>\n<table border=\"1\" class=\"dataframe\">\n  <thead>\n    <tr style=\"text-align: right;\">\n      <th></th>\n      <th>Open</th>\n      <th>High</th>\n      <th>Low</th>\n      <th>Close</th>\n      <th>Volume</th>\n      <th>Name</th>\n      <th>Avg_Close</th>\n    </tr>\n    <tr>\n      <th>Date</th>\n      <th></th>\n      <th></th>\n      <th></th>\n      <th></th>\n      <th></th>\n      <th></th>\n      <th></th>\n    </tr>\n  </thead>\n  <tbody>\n    <tr>\n      <th>2006-01-03</th>\n      <td>82.45</td>\n      <td>82.55</td>\n      <td>80.81</td>\n      <td>82.06</td>\n      <td>11715200.0</td>\n      <td>IBM</td>\n      <td>NaN</td>\n    </tr>\n    <tr>\n      <th>2006-01-04</th>\n      <td>82.20</td>\n      <td>82.50</td>\n      <td>81.33</td>\n      <td>81.95</td>\n      <td>9840600.0</td>\n      <td>IBM</td>\n      <td>NaN</td>\n    </tr>\n    <tr>\n      <th>2006-01-05</th>\n      <td>81.40</td>\n      <td>82.90</td>\n      <td>81.00</td>\n      <td>82.50</td>\n      <td>7213500.0</td>\n      <td>IBM</td>\n      <td>NaN</td>\n    </tr>\n    <tr>\n      <th>2006-01-06</th>\n      <td>83.95</td>\n      <td>85.03</td>\n      <td>83.41</td>\n      <td>84.95</td>\n      <td>8197400.0</td>\n      <td>IBM</td>\n      <td>NaN</td>\n    </tr>\n    <tr>\n      <th>2006-01-07</th>\n      <td>83.95</td>\n      <td>85.03</td>\n      <td>83.41</td>\n      <td>84.95</td>\n      <td>0.0</td>\n      <td>IBM</td>\n      <td>NaN</td>\n    </tr>\n    <tr>\n      <th>...</th>\n      <td>...</td>\n      <td>...</td>\n      <td>...</td>\n      <td>...</td>\n      <td>...</td>\n      <td>...</td>\n      <td>...</td>\n    </tr>\n    <tr>\n      <th>2017-12-25</th>\n      <td>151.82</td>\n      <td>153.00</td>\n      <td>151.50</td>\n      <td>152.50</td>\n      <td>0.0</td>\n      <td>IBM</td>\n      <td>153.663667</td>\n    </tr>\n    <tr>\n      <th>2017-12-26</th>\n      <td>152.51</td>\n      <td>153.86</td>\n      <td>152.50</td>\n      <td>152.83</td>\n      <td>2479017.0</td>\n      <td>IBM</td>\n      <td>153.685667</td>\n    </tr>\n    <tr>\n      <th>2017-12-27</th>\n      <td>152.95</td>\n      <td>153.18</td>\n      <td>152.61</td>\n      <td>153.13</td>\n      <td>2149257.0</td>\n      <td>IBM</td>\n      <td>153.718667</td>\n    </tr>\n    <tr>\n      <th>2017-12-28</th>\n      <td>153.20</td>\n      <td>154.12</td>\n      <td>153.20</td>\n      <td>154.04</td>\n      <td>2687624.0</td>\n      <td>IBM</td>\n      <td>153.757000</td>\n    </tr>\n    <tr>\n      <th>2017-12-29</th>\n      <td>154.17</td>\n      <td>154.72</td>\n      <td>153.42</td>\n      <td>153.42</td>\n      <td>3327087.0</td>\n      <td>IBM</td>\n      <td>153.809333</td>\n    </tr>\n  </tbody>\n</table>\n<p>4379 rows × 7 columns</p>\n</div>"
     },
     "metadata": {},
     "execution_count": 28
    }
   ],
   "source": [
    "IBM_data_full"
   ]
  },
  {
   "cell_type": "markdown",
   "metadata": {},
   "source": [
    "在股票数据的DataFrame中新增一列'Increase'，根据收盘价计算每天的股票涨跌幅，这里暂且定义为：\n",
    "$inc_t = (close_t - close_{t - 1}) / close_{t - 1}$\n"
   ]
  },
  {
   "cell_type": "code",
   "execution_count": 29,
   "metadata": {},
   "outputs": [
    {
     "output_type": "execute_result",
     "data": {
      "text/plain": [
       "              Open    High     Low   Close      Volume Name   Avg_Close  \\\n",
       "Date                                                                      \n",
       "2006-01-03   82.45   82.55   80.81   82.06  11715200.0  IBM         NaN   \n",
       "2006-01-04   82.20   82.50   81.33   81.95   9840600.0  IBM         NaN   \n",
       "2006-01-05   81.40   82.90   81.00   82.50   7213500.0  IBM         NaN   \n",
       "2006-01-06   83.95   85.03   83.41   84.95   8197400.0  IBM         NaN   \n",
       "2006-01-07   83.95   85.03   83.41   84.95         0.0  IBM         NaN   \n",
       "...            ...     ...     ...     ...         ...  ...         ...   \n",
       "2017-12-25  151.82  153.00  151.50  152.50         0.0  IBM  153.663667   \n",
       "2017-12-26  152.51  153.86  152.50  152.83   2479017.0  IBM  153.685667   \n",
       "2017-12-27  152.95  153.18  152.61  153.13   2149257.0  IBM  153.718667   \n",
       "2017-12-28  153.20  154.12  153.20  154.04   2687624.0  IBM  153.757000   \n",
       "2017-12-29  154.17  154.72  153.42  153.42   3327087.0  IBM  153.809333   \n",
       "\n",
       "            Increase  \n",
       "Date                  \n",
       "2006-01-03       NaN  \n",
       "2006-01-04 -0.001340  \n",
       "2006-01-05  0.006711  \n",
       "2006-01-06  0.029697  \n",
       "2006-01-07  0.000000  \n",
       "...              ...  \n",
       "2017-12-25  0.000000  \n",
       "2017-12-26  0.002164  \n",
       "2017-12-27  0.001963  \n",
       "2017-12-28  0.005943  \n",
       "2017-12-29 -0.004025  \n",
       "\n",
       "[4379 rows x 8 columns]"
      ],
      "text/html": "<div>\n<style scoped>\n    .dataframe tbody tr th:only-of-type {\n        vertical-align: middle;\n    }\n\n    .dataframe tbody tr th {\n        vertical-align: top;\n    }\n\n    .dataframe thead th {\n        text-align: right;\n    }\n</style>\n<table border=\"1\" class=\"dataframe\">\n  <thead>\n    <tr style=\"text-align: right;\">\n      <th></th>\n      <th>Open</th>\n      <th>High</th>\n      <th>Low</th>\n      <th>Close</th>\n      <th>Volume</th>\n      <th>Name</th>\n      <th>Avg_Close</th>\n      <th>Increase</th>\n    </tr>\n    <tr>\n      <th>Date</th>\n      <th></th>\n      <th></th>\n      <th></th>\n      <th></th>\n      <th></th>\n      <th></th>\n      <th></th>\n      <th></th>\n    </tr>\n  </thead>\n  <tbody>\n    <tr>\n      <th>2006-01-03</th>\n      <td>82.45</td>\n      <td>82.55</td>\n      <td>80.81</td>\n      <td>82.06</td>\n      <td>11715200.0</td>\n      <td>IBM</td>\n      <td>NaN</td>\n      <td>NaN</td>\n    </tr>\n    <tr>\n      <th>2006-01-04</th>\n      <td>82.20</td>\n      <td>82.50</td>\n      <td>81.33</td>\n      <td>81.95</td>\n      <td>9840600.0</td>\n      <td>IBM</td>\n      <td>NaN</td>\n      <td>-0.001340</td>\n    </tr>\n    <tr>\n      <th>2006-01-05</th>\n      <td>81.40</td>\n      <td>82.90</td>\n      <td>81.00</td>\n      <td>82.50</td>\n      <td>7213500.0</td>\n      <td>IBM</td>\n      <td>NaN</td>\n      <td>0.006711</td>\n    </tr>\n    <tr>\n      <th>2006-01-06</th>\n      <td>83.95</td>\n      <td>85.03</td>\n      <td>83.41</td>\n      <td>84.95</td>\n      <td>8197400.0</td>\n      <td>IBM</td>\n      <td>NaN</td>\n      <td>0.029697</td>\n    </tr>\n    <tr>\n      <th>2006-01-07</th>\n      <td>83.95</td>\n      <td>85.03</td>\n      <td>83.41</td>\n      <td>84.95</td>\n      <td>0.0</td>\n      <td>IBM</td>\n      <td>NaN</td>\n      <td>0.000000</td>\n    </tr>\n    <tr>\n      <th>...</th>\n      <td>...</td>\n      <td>...</td>\n      <td>...</td>\n      <td>...</td>\n      <td>...</td>\n      <td>...</td>\n      <td>...</td>\n      <td>...</td>\n    </tr>\n    <tr>\n      <th>2017-12-25</th>\n      <td>151.82</td>\n      <td>153.00</td>\n      <td>151.50</td>\n      <td>152.50</td>\n      <td>0.0</td>\n      <td>IBM</td>\n      <td>153.663667</td>\n      <td>0.000000</td>\n    </tr>\n    <tr>\n      <th>2017-12-26</th>\n      <td>152.51</td>\n      <td>153.86</td>\n      <td>152.50</td>\n      <td>152.83</td>\n      <td>2479017.0</td>\n      <td>IBM</td>\n      <td>153.685667</td>\n      <td>0.002164</td>\n    </tr>\n    <tr>\n      <th>2017-12-27</th>\n      <td>152.95</td>\n      <td>153.18</td>\n      <td>152.61</td>\n      <td>153.13</td>\n      <td>2149257.0</td>\n      <td>IBM</td>\n      <td>153.718667</td>\n      <td>0.001963</td>\n    </tr>\n    <tr>\n      <th>2017-12-28</th>\n      <td>153.20</td>\n      <td>154.12</td>\n      <td>153.20</td>\n      <td>154.04</td>\n      <td>2687624.0</td>\n      <td>IBM</td>\n      <td>153.757000</td>\n      <td>0.005943</td>\n    </tr>\n    <tr>\n      <th>2017-12-29</th>\n      <td>154.17</td>\n      <td>154.72</td>\n      <td>153.42</td>\n      <td>153.42</td>\n      <td>3327087.0</td>\n      <td>IBM</td>\n      <td>153.809333</td>\n      <td>-0.004025</td>\n    </tr>\n  </tbody>\n</table>\n<p>4379 rows × 8 columns</p>\n</div>"
     },
     "metadata": {},
     "execution_count": 29
    }
   ],
   "source": [
    "# TODO\n",
    "Increase_list=[np.nan]\n",
    "for i in range(1,4379):\n",
    "    Increase_list.append(IBM_data_full.Close.iloc[i]/IBM_data_full.Close.iloc[i-1]-1)\n",
    "IBM_data_full['Increase']=Increase_list\n",
    "IBM_data_full"
   ]
  },
  {
   "cell_type": "markdown",
   "metadata": {},
   "source": [
    "股市及期货市场中常用K线图反映大势的状况和价格信息，k线图的画法包含四个数据，即开盘价、最高价、最低价、收盘价，所有的k线都是围绕这四个数据展开，开盘价高于收盘价和开盘价低于收盘价这两种情况以不同的颜色体现。\n",
    "\n",
    "![jupyter](./candlestick.jpg)\n",
    "\n",
    "请以2016年1月初到3月底的数据，根据每日股票价格绘制出K线图。\n",
    "\n",
    "提示：可以借助mplfinance库，在调用plot时指定type='candle'，或者使用旧方法from mplfinance.original_flavor import candlestick_ohlc\n"
   ]
  },
  {
   "cell_type": "code",
   "execution_count": 30,
   "metadata": {},
   "outputs": [
    {
     "output_type": "display_data",
     "data": {
      "text/plain": "<Figure size 800x575 with 2 Axes>",
      "image/svg+xml": "<?xml version=\"1.0\" encoding=\"utf-8\" standalone=\"no\"?>\n<!DOCTYPE svg PUBLIC \"-//W3C//DTD SVG 1.1//EN\"\n  \"http://www.w3.org/Graphics/SVG/1.1/DTD/svg11.dtd\">\n<!-- Created with matplotlib (https://matplotlib.org/) -->\n<svg height=\"341.874471pt\" version=\"1.1\" viewBox=\"0 0 469.788375 341.874471\" width=\"469.788375pt\" xmlns=\"http://www.w3.org/2000/svg\" xmlns:xlink=\"http://www.w3.org/1999/xlink\">\n <metadata>\n  <rdf:RDF xmlns:cc=\"http://creativecommons.org/ns#\" xmlns:dc=\"http://purl.org/dc/elements/1.1/\" xmlns:rdf=\"http://www.w3.org/1999/02/22-rdf-syntax-ns#\">\n   <cc:Work>\n    <dc:type rdf:resource=\"http://purl.org/dc/dcmitype/StillImage\"/>\n    <dc:date>2021-04-17T19:37:58.347925</dc:date>\n    <dc:format>image/svg+xml</dc:format>\n    <dc:creator>\n     <cc:Agent>\n      <dc:title>Matplotlib v3.3.3, https://matplotlib.org/</dc:title>\n     </cc:Agent>\n    </dc:creator>\n   </cc:Work>\n  </rdf:RDF>\n </metadata>\n <defs>\n  <style type=\"text/css\">*{stroke-linecap:butt;stroke-linejoin:round;}</style>\n </defs>\n <g id=\"figure_1\">\n  <g id=\"patch_1\">\n   <path d=\"M 0 341.874471 \nL 469.788375 341.874471 \nL 469.788375 0 \nL 0 0 \nz\n\" style=\"fill:#ffffff;\"/>\n  </g>\n  <g id=\"axes_1\">\n   <g id=\"patch_2\">\n    <path d=\"M 47.868375 297 \nL 462.588375 297 \nL 462.588375 7.2 \nL 47.868375 7.2 \nz\n\" style=\"fill:#dce3ef;\"/>\n   </g>\n   <g id=\"matplotlib.axis_1\">\n    <g id=\"xtick_1\">\n     <g id=\"line2d_1\">\n      <path clip-path=\"url(#p19da3b1852)\" d=\"M 70.773243 297 \nL 70.773243 7.2 \n\" style=\"fill:none;stroke:#ffffff;stroke-linecap:round;stroke-width:0.8;\"/>\n     </g>\n     <g id=\"line2d_2\"/>\n     <g id=\"text_1\">\n      <!-- Jan 01 -->\n      <g style=\"fill:#262626;\" transform=\"translate(60.229618 332.048011)rotate(-45)scale(0.12 -0.12)\">\n       <defs>\n        <path d=\"M 2.875 20.3125 \nL 11.421875 21.484375 \nQ 11.765625 13.28125 14.5 10.25 \nQ 17.234375 7.234375 22.078125 7.234375 \nQ 25.640625 7.234375 28.21875 8.859375 \nQ 30.8125 10.5 31.78125 13.296875 \nQ 32.765625 16.109375 32.765625 22.265625 \nL 32.765625 71.578125 \nL 42.234375 71.578125 \nL 42.234375 22.796875 \nQ 42.234375 13.8125 40.0625 8.875 \nQ 37.890625 3.953125 33.171875 1.359375 \nQ 28.46875 -1.21875 22.125 -1.21875 \nQ 12.703125 -1.21875 7.6875 4.203125 \nQ 2.6875 9.625 2.875 20.3125 \nz\n\" id=\"ArialMT-74\"/>\n        <path d=\"M 40.4375 6.390625 \nQ 35.546875 2.25 31.03125 0.53125 \nQ 26.515625 -1.171875 21.34375 -1.171875 \nQ 12.796875 -1.171875 8.203125 3 \nQ 3.609375 7.171875 3.609375 13.671875 \nQ 3.609375 17.484375 5.34375 20.625 \nQ 7.078125 23.78125 9.890625 25.6875 \nQ 12.703125 27.59375 16.21875 28.5625 \nQ 18.796875 29.25 24.03125 29.890625 \nQ 34.671875 31.15625 39.703125 32.90625 \nQ 39.75 34.71875 39.75 35.203125 \nQ 39.75 40.578125 37.25 42.78125 \nQ 33.890625 45.75 27.25 45.75 \nQ 21.046875 45.75 18.09375 43.578125 \nQ 15.140625 41.40625 13.71875 35.890625 \nL 5.125 37.0625 \nQ 6.296875 42.578125 8.984375 45.96875 \nQ 11.671875 49.359375 16.75 51.1875 \nQ 21.828125 53.03125 28.515625 53.03125 \nQ 35.15625 53.03125 39.296875 51.46875 \nQ 43.453125 49.90625 45.40625 47.53125 \nQ 47.359375 45.171875 48.140625 41.546875 \nQ 48.578125 39.3125 48.578125 33.453125 \nL 48.578125 21.734375 \nQ 48.578125 9.46875 49.140625 6.21875 \nQ 49.703125 2.984375 51.375 0 \nL 42.1875 0 \nQ 40.828125 2.734375 40.4375 6.390625 \nz\nM 39.703125 26.03125 \nQ 34.90625 24.078125 25.34375 22.703125 \nQ 19.921875 21.921875 17.671875 20.9375 \nQ 15.4375 19.96875 14.203125 18.09375 \nQ 12.984375 16.21875 12.984375 13.921875 \nQ 12.984375 10.40625 15.640625 8.0625 \nQ 18.3125 5.71875 23.4375 5.71875 \nQ 28.515625 5.71875 32.46875 7.9375 \nQ 36.421875 10.15625 38.28125 14.015625 \nQ 39.703125 17 39.703125 22.796875 \nz\n\" id=\"ArialMT-97\"/>\n        <path d=\"M 6.59375 0 \nL 6.59375 51.859375 \nL 14.5 51.859375 \nL 14.5 44.484375 \nQ 20.21875 53.03125 31 53.03125 \nQ 35.6875 53.03125 39.625 51.34375 \nQ 43.5625 49.65625 45.515625 46.921875 \nQ 47.46875 44.1875 48.25 40.4375 \nQ 48.734375 37.984375 48.734375 31.890625 \nL 48.734375 0 \nL 39.9375 0 \nL 39.9375 31.546875 \nQ 39.9375 36.921875 38.90625 39.578125 \nQ 37.890625 42.234375 35.28125 43.8125 \nQ 32.671875 45.40625 29.15625 45.40625 \nQ 23.53125 45.40625 19.453125 41.84375 \nQ 15.375 38.28125 15.375 28.328125 \nL 15.375 0 \nz\n\" id=\"ArialMT-110\"/>\n        <path id=\"ArialMT-32\"/>\n        <path d=\"M 4.15625 35.296875 \nQ 4.15625 48 6.765625 55.734375 \nQ 9.375 63.484375 14.515625 67.671875 \nQ 19.671875 71.875 27.484375 71.875 \nQ 33.25 71.875 37.59375 69.546875 \nQ 41.9375 67.234375 44.765625 62.859375 \nQ 47.609375 58.5 49.21875 52.21875 \nQ 50.828125 45.953125 50.828125 35.296875 \nQ 50.828125 22.703125 48.234375 14.96875 \nQ 45.65625 7.234375 40.5 3 \nQ 35.359375 -1.21875 27.484375 -1.21875 \nQ 17.140625 -1.21875 11.234375 6.203125 \nQ 4.15625 15.140625 4.15625 35.296875 \nz\nM 13.1875 35.296875 \nQ 13.1875 17.671875 17.3125 11.828125 \nQ 21.4375 6 27.484375 6 \nQ 33.546875 6 37.671875 11.859375 \nQ 41.796875 17.71875 41.796875 35.296875 \nQ 41.796875 52.984375 37.671875 58.78125 \nQ 33.546875 64.59375 27.390625 64.59375 \nQ 21.34375 64.59375 17.71875 59.46875 \nQ 13.1875 52.9375 13.1875 35.296875 \nz\n\" id=\"ArialMT-48\"/>\n        <path d=\"M 37.25 0 \nL 28.46875 0 \nL 28.46875 56 \nQ 25.296875 52.984375 20.140625 49.953125 \nQ 14.984375 46.921875 10.890625 45.40625 \nL 10.890625 53.90625 \nQ 18.265625 57.375 23.78125 62.296875 \nQ 29.296875 67.234375 31.59375 71.875 \nL 37.25 71.875 \nz\n\" id=\"ArialMT-49\"/>\n       </defs>\n       <use xlink:href=\"#ArialMT-74\"/>\n       <use x=\"50\" xlink:href=\"#ArialMT-97\"/>\n       <use x=\"105.615234\" xlink:href=\"#ArialMT-110\"/>\n       <use x=\"161.230469\" xlink:href=\"#ArialMT-32\"/>\n       <use x=\"189.013672\" xlink:href=\"#ArialMT-48\"/>\n       <use x=\"244.628906\" xlink:href=\"#ArialMT-49\"/>\n      </g>\n     </g>\n    </g>\n    <g id=\"xtick_2\">\n     <g id=\"line2d_3\">\n      <path clip-path=\"url(#p19da3b1852)\" d=\"M 152.753302 297 \nL 152.753302 7.2 \n\" style=\"fill:none;stroke:#ffffff;stroke-linecap:round;stroke-width:0.8;\"/>\n     </g>\n     <g id=\"line2d_4\"/>\n     <g id=\"text_2\">\n      <!-- Jan 21 -->\n      <g style=\"fill:#262626;\" transform=\"translate(142.209677 332.048011)rotate(-45)scale(0.12 -0.12)\">\n       <defs>\n        <path d=\"M 50.34375 8.453125 \nL 50.34375 0 \nL 3.03125 0 \nQ 2.9375 3.171875 4.046875 6.109375 \nQ 5.859375 10.9375 9.828125 15.625 \nQ 13.8125 20.3125 21.34375 26.46875 \nQ 33.015625 36.03125 37.109375 41.625 \nQ 41.21875 47.21875 41.21875 52.203125 \nQ 41.21875 57.421875 37.46875 61 \nQ 33.734375 64.59375 27.734375 64.59375 \nQ 21.390625 64.59375 17.578125 60.78125 \nQ 13.765625 56.984375 13.71875 50.25 \nL 4.6875 51.171875 \nQ 5.609375 61.28125 11.65625 66.578125 \nQ 17.71875 71.875 27.9375 71.875 \nQ 38.234375 71.875 44.234375 66.15625 \nQ 50.25 60.453125 50.25 52 \nQ 50.25 47.703125 48.484375 43.546875 \nQ 46.734375 39.40625 42.65625 34.8125 \nQ 38.578125 30.21875 29.109375 22.21875 \nQ 21.1875 15.578125 18.9375 13.203125 \nQ 16.703125 10.84375 15.234375 8.453125 \nz\n\" id=\"ArialMT-50\"/>\n       </defs>\n       <use xlink:href=\"#ArialMT-74\"/>\n       <use x=\"50\" xlink:href=\"#ArialMT-97\"/>\n       <use x=\"105.615234\" xlink:href=\"#ArialMT-110\"/>\n       <use x=\"161.230469\" xlink:href=\"#ArialMT-32\"/>\n       <use x=\"189.013672\" xlink:href=\"#ArialMT-50\"/>\n       <use x=\"244.628906\" xlink:href=\"#ArialMT-49\"/>\n      </g>\n     </g>\n    </g>\n    <g id=\"xtick_3\">\n     <g id=\"line2d_5\">\n      <path clip-path=\"url(#p19da3b1852)\" d=\"M 234.73336 297 \nL 234.73336 7.2 \n\" style=\"fill:none;stroke:#ffffff;stroke-linecap:round;stroke-width:0.8;\"/>\n     </g>\n     <g id=\"line2d_6\"/>\n     <g id=\"text_3\">\n      <!-- Feb 10 -->\n      <g style=\"fill:#262626;\" transform=\"translate(223.71973 332.988021)rotate(-45)scale(0.12 -0.12)\">\n       <defs>\n        <path d=\"M 8.203125 0 \nL 8.203125 71.578125 \nL 56.5 71.578125 \nL 56.5 63.140625 \nL 17.671875 63.140625 \nL 17.671875 40.96875 \nL 51.265625 40.96875 \nL 51.265625 32.515625 \nL 17.671875 32.515625 \nL 17.671875 0 \nz\n\" id=\"ArialMT-70\"/>\n        <path d=\"M 42.09375 16.703125 \nL 51.171875 15.578125 \nQ 49.03125 7.625 43.21875 3.21875 \nQ 37.40625 -1.171875 28.375 -1.171875 \nQ 17 -1.171875 10.328125 5.828125 \nQ 3.65625 12.84375 3.65625 25.484375 \nQ 3.65625 38.578125 10.390625 45.796875 \nQ 17.140625 53.03125 27.875 53.03125 \nQ 38.28125 53.03125 44.875 45.953125 \nQ 51.46875 38.875 51.46875 26.03125 \nQ 51.46875 25.25 51.421875 23.6875 \nL 12.75 23.6875 \nQ 13.234375 15.140625 17.578125 10.59375 \nQ 21.921875 6.0625 28.421875 6.0625 \nQ 33.25 6.0625 36.671875 8.59375 \nQ 40.09375 11.140625 42.09375 16.703125 \nz\nM 13.234375 30.90625 \nL 42.1875 30.90625 \nQ 41.609375 37.453125 38.875 40.71875 \nQ 34.671875 45.796875 27.984375 45.796875 \nQ 21.921875 45.796875 17.796875 41.75 \nQ 13.671875 37.703125 13.234375 30.90625 \nz\n\" id=\"ArialMT-101\"/>\n        <path d=\"M 14.703125 0 \nL 6.546875 0 \nL 6.546875 71.578125 \nL 15.328125 71.578125 \nL 15.328125 46.046875 \nQ 20.90625 53.03125 29.546875 53.03125 \nQ 34.328125 53.03125 38.59375 51.09375 \nQ 42.875 49.171875 45.625 45.671875 \nQ 48.390625 42.1875 49.953125 37.25 \nQ 51.515625 32.328125 51.515625 26.703125 \nQ 51.515625 13.375 44.921875 6.09375 \nQ 38.328125 -1.171875 29.109375 -1.171875 \nQ 19.921875 -1.171875 14.703125 6.5 \nz\nM 14.59375 26.3125 \nQ 14.59375 17 17.140625 12.84375 \nQ 21.296875 6.0625 28.375 6.0625 \nQ 34.125 6.0625 38.328125 11.0625 \nQ 42.53125 16.0625 42.53125 25.984375 \nQ 42.53125 36.140625 38.5 40.96875 \nQ 34.46875 45.796875 28.765625 45.796875 \nQ 23 45.796875 18.796875 40.796875 \nQ 14.59375 35.796875 14.59375 26.3125 \nz\n\" id=\"ArialMT-98\"/>\n       </defs>\n       <use xlink:href=\"#ArialMT-70\"/>\n       <use x=\"61.083984\" xlink:href=\"#ArialMT-101\"/>\n       <use x=\"116.699219\" xlink:href=\"#ArialMT-98\"/>\n       <use x=\"172.314453\" xlink:href=\"#ArialMT-32\"/>\n       <use x=\"200.097656\" xlink:href=\"#ArialMT-49\"/>\n       <use x=\"255.712891\" xlink:href=\"#ArialMT-48\"/>\n      </g>\n     </g>\n    </g>\n    <g id=\"xtick_4\">\n     <g id=\"line2d_7\">\n      <path clip-path=\"url(#p19da3b1852)\" d=\"M 316.713419 297 \nL 316.713419 7.2 \n\" style=\"fill:none;stroke:#ffffff;stroke-linecap:round;stroke-width:0.8;\"/>\n     </g>\n     <g id=\"line2d_8\"/>\n     <g id=\"text_4\">\n      <!-- Mar 01 -->\n      <g style=\"fill:#262626;\" transform=\"translate(305.703766 332.980066)rotate(-45)scale(0.12 -0.12)\">\n       <defs>\n        <path d=\"M 7.421875 0 \nL 7.421875 71.578125 \nL 21.6875 71.578125 \nL 38.625 20.90625 \nQ 40.96875 13.8125 42.046875 10.296875 \nQ 43.265625 14.203125 45.84375 21.78125 \nL 62.984375 71.578125 \nL 75.734375 71.578125 \nL 75.734375 0 \nL 66.609375 0 \nL 66.609375 59.90625 \nL 45.796875 0 \nL 37.25 0 \nL 16.546875 60.9375 \nL 16.546875 0 \nz\n\" id=\"ArialMT-77\"/>\n        <path d=\"M 6.5 0 \nL 6.5 51.859375 \nL 14.40625 51.859375 \nL 14.40625 44 \nQ 17.4375 49.515625 20 51.265625 \nQ 22.5625 53.03125 25.640625 53.03125 \nQ 30.078125 53.03125 34.671875 50.203125 \nL 31.640625 42.046875 \nQ 28.421875 43.953125 25.203125 43.953125 \nQ 22.3125 43.953125 20.015625 42.21875 \nQ 17.71875 40.484375 16.75 37.40625 \nQ 15.28125 32.71875 15.28125 27.15625 \nL 15.28125 0 \nz\n\" id=\"ArialMT-114\"/>\n       </defs>\n       <use xlink:href=\"#ArialMT-77\"/>\n       <use x=\"83.300781\" xlink:href=\"#ArialMT-97\"/>\n       <use x=\"138.916016\" xlink:href=\"#ArialMT-114\"/>\n       <use x=\"172.216797\" xlink:href=\"#ArialMT-32\"/>\n       <use x=\"200\" xlink:href=\"#ArialMT-48\"/>\n       <use x=\"255.615234\" xlink:href=\"#ArialMT-49\"/>\n      </g>\n     </g>\n    </g>\n    <g id=\"xtick_5\">\n     <g id=\"line2d_9\">\n      <path clip-path=\"url(#p19da3b1852)\" d=\"M 398.693478 297 \nL 398.693478 7.2 \n\" style=\"fill:none;stroke:#ffffff;stroke-linecap:round;stroke-width:0.8;\"/>\n     </g>\n     <g id=\"line2d_10\"/>\n     <g id=\"text_5\">\n      <!-- Mar 21 -->\n      <g style=\"fill:#262626;\" transform=\"translate(387.683825 332.980066)rotate(-45)scale(0.12 -0.12)\">\n       <use xlink:href=\"#ArialMT-77\"/>\n       <use x=\"83.300781\" xlink:href=\"#ArialMT-97\"/>\n       <use x=\"138.916016\" xlink:href=\"#ArialMT-114\"/>\n       <use x=\"172.216797\" xlink:href=\"#ArialMT-32\"/>\n       <use x=\"200\" xlink:href=\"#ArialMT-50\"/>\n       <use x=\"255.615234\" xlink:href=\"#ArialMT-49\"/>\n      </g>\n     </g>\n    </g>\n   </g>\n   <g id=\"matplotlib.axis_2\">\n    <g id=\"ytick_1\">\n     <g id=\"line2d_11\">\n      <path clip-path=\"url(#p19da3b1852)\" d=\"M 47.868375 261.266248 \nL 462.588375 261.266248 \n\" style=\"fill:none;stroke:#ffffff;stroke-linecap:round;stroke-width:0.8;\"/>\n     </g>\n     <g id=\"line2d_12\"/>\n     <g id=\"text_6\">\n      <!-- 120 -->\n      <g style=\"fill:#262626;\" transform=\"translate(24.349 265.560936)scale(0.12 -0.12)\">\n       <use xlink:href=\"#ArialMT-49\"/>\n       <use x=\"55.615234\" xlink:href=\"#ArialMT-50\"/>\n       <use x=\"111.230469\" xlink:href=\"#ArialMT-48\"/>\n      </g>\n     </g>\n    </g>\n    <g id=\"ytick_2\">\n     <g id=\"line2d_13\">\n      <path clip-path=\"url(#p19da3b1852)\" d=\"M 47.868375 224.877499 \nL 462.588375 224.877499 \n\" style=\"fill:none;stroke:#ffffff;stroke-linecap:round;stroke-width:0.8;\"/>\n     </g>\n     <g id=\"line2d_14\"/>\n     <g id=\"text_7\">\n      <!-- 125 -->\n      <g style=\"fill:#262626;\" transform=\"translate(24.349 229.172186)scale(0.12 -0.12)\">\n       <defs>\n        <path d=\"M 4.15625 18.75 \nL 13.375 19.53125 \nQ 14.40625 12.796875 18.140625 9.390625 \nQ 21.875 6 27.15625 6 \nQ 33.5 6 37.890625 10.78125 \nQ 42.28125 15.578125 42.28125 23.484375 \nQ 42.28125 31 38.0625 35.34375 \nQ 33.84375 39.703125 27 39.703125 \nQ 22.75 39.703125 19.328125 37.765625 \nQ 15.921875 35.84375 13.96875 32.765625 \nL 5.71875 33.84375 \nL 12.640625 70.609375 \nL 48.25 70.609375 \nL 48.25 62.203125 \nL 19.671875 62.203125 \nL 15.828125 42.96875 \nQ 22.265625 47.46875 29.34375 47.46875 \nQ 38.71875 47.46875 45.15625 40.96875 \nQ 51.609375 34.46875 51.609375 24.265625 \nQ 51.609375 14.546875 45.953125 7.46875 \nQ 39.0625 -1.21875 27.15625 -1.21875 \nQ 17.390625 -1.21875 11.203125 4.25 \nQ 5.03125 9.71875 4.15625 18.75 \nz\n\" id=\"ArialMT-53\"/>\n       </defs>\n       <use xlink:href=\"#ArialMT-49\"/>\n       <use x=\"55.615234\" xlink:href=\"#ArialMT-50\"/>\n       <use x=\"111.230469\" xlink:href=\"#ArialMT-53\"/>\n      </g>\n     </g>\n    </g>\n    <g id=\"ytick_3\">\n     <g id=\"line2d_15\">\n      <path clip-path=\"url(#p19da3b1852)\" d=\"M 47.868375 188.488749 \nL 462.588375 188.488749 \n\" style=\"fill:none;stroke:#ffffff;stroke-linecap:round;stroke-width:0.8;\"/>\n     </g>\n     <g id=\"line2d_16\"/>\n     <g id=\"text_8\">\n      <!-- 130 -->\n      <g style=\"fill:#262626;\" transform=\"translate(24.349 192.783437)scale(0.12 -0.12)\">\n       <defs>\n        <path d=\"M 4.203125 18.890625 \nL 12.984375 20.0625 \nQ 14.5 12.59375 18.140625 9.296875 \nQ 21.78125 6 27 6 \nQ 33.203125 6 37.46875 10.296875 \nQ 41.75 14.59375 41.75 20.953125 \nQ 41.75 27 37.796875 30.921875 \nQ 33.84375 34.859375 27.734375 34.859375 \nQ 25.25 34.859375 21.53125 33.890625 \nL 22.515625 41.609375 \nQ 23.390625 41.5 23.921875 41.5 \nQ 29.546875 41.5 34.03125 44.421875 \nQ 38.53125 47.359375 38.53125 53.46875 \nQ 38.53125 58.296875 35.25 61.46875 \nQ 31.984375 64.65625 26.8125 64.65625 \nQ 21.6875 64.65625 18.265625 61.421875 \nQ 14.84375 58.203125 13.875 51.765625 \nL 5.078125 53.328125 \nQ 6.6875 62.15625 12.390625 67.015625 \nQ 18.109375 71.875 26.609375 71.875 \nQ 32.46875 71.875 37.390625 69.359375 \nQ 42.328125 66.84375 44.9375 62.5 \nQ 47.5625 58.15625 47.5625 53.265625 \nQ 47.5625 48.640625 45.0625 44.828125 \nQ 42.578125 41.015625 37.703125 38.765625 \nQ 44.046875 37.3125 47.5625 32.6875 \nQ 51.078125 28.078125 51.078125 21.140625 \nQ 51.078125 11.765625 44.234375 5.25 \nQ 37.40625 -1.265625 26.953125 -1.265625 \nQ 17.53125 -1.265625 11.296875 4.34375 \nQ 5.078125 9.96875 4.203125 18.890625 \nz\n\" id=\"ArialMT-51\"/>\n       </defs>\n       <use xlink:href=\"#ArialMT-49\"/>\n       <use x=\"55.615234\" xlink:href=\"#ArialMT-51\"/>\n       <use x=\"111.230469\" xlink:href=\"#ArialMT-48\"/>\n      </g>\n     </g>\n    </g>\n    <g id=\"ytick_4\">\n     <g id=\"line2d_17\">\n      <path clip-path=\"url(#p19da3b1852)\" d=\"M 47.868375 152.1 \nL 462.588375 152.1 \n\" style=\"fill:none;stroke:#ffffff;stroke-linecap:round;stroke-width:0.8;\"/>\n     </g>\n     <g id=\"line2d_18\"/>\n     <g id=\"text_9\">\n      <!-- 135 -->\n      <g style=\"fill:#262626;\" transform=\"translate(24.349 156.394688)scale(0.12 -0.12)\">\n       <use xlink:href=\"#ArialMT-49\"/>\n       <use x=\"55.615234\" xlink:href=\"#ArialMT-51\"/>\n       <use x=\"111.230469\" xlink:href=\"#ArialMT-53\"/>\n      </g>\n     </g>\n    </g>\n    <g id=\"ytick_5\">\n     <g id=\"line2d_19\">\n      <path clip-path=\"url(#p19da3b1852)\" d=\"M 47.868375 115.711251 \nL 462.588375 115.711251 \n\" style=\"fill:none;stroke:#ffffff;stroke-linecap:round;stroke-width:0.8;\"/>\n     </g>\n     <g id=\"line2d_20\"/>\n     <g id=\"text_10\">\n      <!-- 140 -->\n      <g style=\"fill:#262626;\" transform=\"translate(24.349 120.005938)scale(0.12 -0.12)\">\n       <defs>\n        <path d=\"M 32.328125 0 \nL 32.328125 17.140625 \nL 1.265625 17.140625 \nL 1.265625 25.203125 \nL 33.9375 71.578125 \nL 41.109375 71.578125 \nL 41.109375 25.203125 \nL 50.78125 25.203125 \nL 50.78125 17.140625 \nL 41.109375 17.140625 \nL 41.109375 0 \nz\nM 32.328125 25.203125 \nL 32.328125 57.46875 \nL 9.90625 25.203125 \nz\n\" id=\"ArialMT-52\"/>\n       </defs>\n       <use xlink:href=\"#ArialMT-49\"/>\n       <use x=\"55.615234\" xlink:href=\"#ArialMT-52\"/>\n       <use x=\"111.230469\" xlink:href=\"#ArialMT-48\"/>\n      </g>\n     </g>\n    </g>\n    <g id=\"ytick_6\">\n     <g id=\"line2d_21\">\n      <path clip-path=\"url(#p19da3b1852)\" d=\"M 47.868375 79.322501 \nL 462.588375 79.322501 \n\" style=\"fill:none;stroke:#ffffff;stroke-linecap:round;stroke-width:0.8;\"/>\n     </g>\n     <g id=\"line2d_22\"/>\n     <g id=\"text_11\">\n      <!-- 145 -->\n      <g style=\"fill:#262626;\" transform=\"translate(24.349 83.617189)scale(0.12 -0.12)\">\n       <use xlink:href=\"#ArialMT-49\"/>\n       <use x=\"55.615234\" xlink:href=\"#ArialMT-52\"/>\n       <use x=\"111.230469\" xlink:href=\"#ArialMT-53\"/>\n      </g>\n     </g>\n    </g>\n    <g id=\"ytick_7\">\n     <g id=\"line2d_23\">\n      <path clip-path=\"url(#p19da3b1852)\" d=\"M 47.868375 42.933752 \nL 462.588375 42.933752 \n\" style=\"fill:none;stroke:#ffffff;stroke-linecap:round;stroke-width:0.8;\"/>\n     </g>\n     <g id=\"line2d_24\"/>\n     <g id=\"text_12\">\n      <!-- 150 -->\n      <g style=\"fill:#262626;\" transform=\"translate(24.349 47.228439)scale(0.12 -0.12)\">\n       <use xlink:href=\"#ArialMT-49\"/>\n       <use x=\"55.615234\" xlink:href=\"#ArialMT-53\"/>\n       <use x=\"111.230469\" xlink:href=\"#ArialMT-48\"/>\n      </g>\n     </g>\n    </g>\n    <g id=\"text_13\">\n     <!-- Price -->\n     <g style=\"fill:#262626;\" transform=\"translate(17.50725 169.713)rotate(-90)scale(0.144 -0.144)\">\n      <defs>\n       <path d=\"M 7.28125 0 \nL 7.28125 71.578125 \nL 30.46875 71.578125 \nQ 43.65625 71.578125 47.65625 70.515625 \nQ 53.8125 68.890625 57.953125 63.5 \nQ 62.109375 58.109375 62.109375 49.5625 \nQ 62.109375 42.96875 59.71875 38.46875 \nQ 57.328125 33.984375 53.640625 31.421875 \nQ 49.953125 28.859375 46.140625 28.03125 \nQ 40.96875 27 31.15625 27 \nL 21.734375 27 \nL 21.734375 0 \nz\nM 21.734375 59.46875 \nL 21.734375 39.15625 \nL 29.640625 39.15625 \nQ 38.1875 39.15625 41.0625 40.28125 \nQ 43.953125 41.40625 45.578125 43.796875 \nQ 47.21875 46.1875 47.21875 49.359375 \nQ 47.21875 53.265625 44.921875 55.796875 \nQ 42.625 58.34375 39.109375 58.984375 \nQ 36.53125 59.46875 28.71875 59.46875 \nz\n\" id=\"Arial-BoldMT-80\"/>\n       <path d=\"M 20.3125 0 \nL 6.59375 0 \nL 6.59375 51.859375 \nL 19.34375 51.859375 \nL 19.34375 44.484375 \nQ 22.609375 49.703125 25.21875 51.359375 \nQ 27.828125 53.03125 31.15625 53.03125 \nQ 35.84375 53.03125 40.1875 50.4375 \nL 35.9375 38.484375 \nQ 32.46875 40.71875 29.5 40.71875 \nQ 26.609375 40.71875 24.609375 39.125 \nQ 22.609375 37.546875 21.453125 33.390625 \nQ 20.3125 29.25 20.3125 16.015625 \nz\n\" id=\"Arial-BoldMT-114\"/>\n       <path d=\"M 7.171875 58.890625 \nL 7.171875 71.578125 \nL 20.90625 71.578125 \nL 20.90625 58.890625 \nz\nM 7.171875 0 \nL 7.171875 51.859375 \nL 20.90625 51.859375 \nL 20.90625 0 \nz\n\" id=\"Arial-BoldMT-105\"/>\n       <path d=\"M 52.390625 36.53125 \nL 38.875 34.078125 \nQ 38.1875 38.140625 35.765625 40.1875 \nQ 33.34375 42.234375 29.5 42.234375 \nQ 24.359375 42.234375 21.3125 38.6875 \nQ 18.265625 35.15625 18.265625 26.859375 \nQ 18.265625 17.625 21.359375 13.8125 \nQ 24.46875 10.015625 29.6875 10.015625 \nQ 33.59375 10.015625 36.078125 12.234375 \nQ 38.578125 14.453125 39.59375 19.875 \nL 53.078125 17.578125 \nQ 50.984375 8.296875 45.015625 3.5625 \nQ 39.0625 -1.171875 29.046875 -1.171875 \nQ 17.671875 -1.171875 10.90625 6 \nQ 4.15625 13.1875 4.15625 25.875 \nQ 4.15625 38.71875 10.9375 45.875 \nQ 17.71875 53.03125 29.296875 53.03125 \nQ 38.765625 53.03125 44.359375 48.953125 \nQ 49.953125 44.875 52.390625 36.53125 \nz\n\" id=\"Arial-BoldMT-99\"/>\n       <path d=\"M 37.203125 16.5 \nL 50.875 14.203125 \nQ 48.25 6.6875 42.546875 2.75 \nQ 36.859375 -1.171875 28.328125 -1.171875 \nQ 14.796875 -1.171875 8.296875 7.671875 \nQ 3.171875 14.75 3.171875 25.53125 \nQ 3.171875 38.421875 9.90625 45.71875 \nQ 16.65625 53.03125 26.953125 53.03125 \nQ 38.53125 53.03125 45.21875 45.390625 \nQ 51.90625 37.75 51.609375 21.96875 \nL 17.234375 21.96875 \nQ 17.390625 15.875 20.5625 12.46875 \nQ 23.734375 9.078125 28.46875 9.078125 \nQ 31.6875 9.078125 33.875 10.828125 \nQ 36.078125 12.59375 37.203125 16.5 \nz\nM 37.984375 30.375 \nQ 37.84375 36.328125 34.90625 39.421875 \nQ 31.984375 42.53125 27.78125 42.53125 \nQ 23.296875 42.53125 20.359375 39.265625 \nQ 17.4375 35.984375 17.484375 30.375 \nz\n\" id=\"Arial-BoldMT-101\"/>\n      </defs>\n      <use xlink:href=\"#Arial-BoldMT-80\"/>\n      <use x=\"66.699219\" xlink:href=\"#Arial-BoldMT-114\"/>\n      <use x=\"105.615234\" xlink:href=\"#Arial-BoldMT-105\"/>\n      <use x=\"133.398438\" xlink:href=\"#Arial-BoldMT-99\"/>\n      <use x=\"189.013672\" xlink:href=\"#Arial-BoldMT-101\"/>\n     </g>\n    </g>\n   </g>\n   <g id=\"PolyCollection_1\">\n    <path clip-path=\"url(#p19da3b1852)\" d=\"M 69.75225 122.479558 \nL 69.75225 133.032295 \nL 71.794236 133.032295 \nL 71.794236 122.479558 \nz\n\" style=\"fill-opacity:0.9;stroke:#000000;stroke-width:0.745833;\"/>\n    <path clip-path=\"url(#p19da3b1852)\" d=\"M 73.851253 122.479558 \nL 73.851253 133.032295 \nL 75.893239 133.032295 \nL 75.893239 122.479558 \nz\n\" style=\"fill-opacity:0.9;stroke:#000000;stroke-width:0.745833;\"/>\n    <path clip-path=\"url(#p19da3b1852)\" d=\"M 77.950256 122.479558 \nL 77.950256 133.032295 \nL 79.992242 133.032295 \nL 79.992242 122.479558 \nz\n\" style=\"fill-opacity:0.9;stroke:#000000;stroke-width:0.745833;\"/>\n    <path clip-path=\"url(#p19da3b1852)\" d=\"M 82.049259 147.73335 \nL 82.049259 145.186138 \nL 84.091245 145.186138 \nL 84.091245 147.73335 \nz\n\" style=\"fill:#ffffff;fill-opacity:0.9;stroke:#000000;stroke-width:0.745833;\"/>\n    <path clip-path=\"url(#p19da3b1852)\" d=\"M 86.148261 139.29116 \nL 86.148261 145.913913 \nL 88.190248 145.913913 \nL 88.190248 139.29116 \nz\n\" style=\"fill-opacity:0.9;stroke:#000000;stroke-width:0.745833;\"/>\n    <path clip-path=\"url(#p19da3b1852)\" d=\"M 90.247264 156.612205 \nL 90.247264 150.862783 \nL 92.289251 150.862783 \nL 92.289251 156.612205 \nz\n\" style=\"fill:#ffffff;fill-opacity:0.9;stroke:#000000;stroke-width:0.745833;\"/>\n    <path clip-path=\"url(#p19da3b1852)\" d=\"M 94.346267 161.561075 \nL 94.346267 167.674385 \nL 96.388254 167.674385 \nL 96.388254 161.561075 \nz\n\" style=\"fill-opacity:0.9;stroke:#000000;stroke-width:0.745833;\"/>\n    <path clip-path=\"url(#p19da3b1852)\" d=\"M 98.44527 165.345505 \nL 98.44527 176.626017 \nL 100.487257 176.626017 \nL 100.487257 165.345505 \nz\n\" style=\"fill-opacity:0.9;stroke:#000000;stroke-width:0.745833;\"/>\n    <path clip-path=\"url(#p19da3b1852)\" d=\"M 102.544273 165.345505 \nL 102.544273 176.626017 \nL 104.58626 176.626017 \nL 104.58626 165.345505 \nz\n\" style=\"fill-opacity:0.9;stroke:#000000;stroke-width:0.745833;\"/>\n    <path clip-path=\"url(#p19da3b1852)\" d=\"M 106.643276 165.345505 \nL 106.643276 176.626017 \nL 108.685263 176.626017 \nL 108.685263 165.345505 \nz\n\" style=\"fill-opacity:0.9;stroke:#000000;stroke-width:0.745833;\"/>\n    <path clip-path=\"url(#p19da3b1852)\" d=\"M 110.742279 175.316022 \nL 110.742279 164.981617 \nL 112.784266 164.981617 \nL 112.784266 175.316022 \nz\n\" style=\"fill:#ffffff;fill-opacity:0.9;stroke:#000000;stroke-width:0.745833;\"/>\n    <path clip-path=\"url(#p19da3b1852)\" d=\"M 114.841282 161.924962 \nL 114.841282 167.383275 \nL 116.883269 167.383275 \nL 116.883269 161.924962 \nz\n\" style=\"fill-opacity:0.9;stroke:#000000;stroke-width:0.745833;\"/>\n    <path clip-path=\"url(#p19da3b1852)\" d=\"M 118.940285 163.016625 \nL 118.940285 179.973782 \nL 120.982272 179.973782 \nL 120.982272 163.016625 \nz\n\" style=\"fill-opacity:0.9;stroke:#000000;stroke-width:0.745833;\"/>\n    <path clip-path=\"url(#p19da3b1852)\" d=\"M 123.039288 174.442692 \nL 123.039288 167.310497 \nL 125.081274 167.310497 \nL 125.081274 174.442692 \nz\n\" style=\"fill:#ffffff;fill-opacity:0.9;stroke:#000000;stroke-width:0.745833;\"/>\n    <path clip-path=\"url(#p19da3b1852)\" d=\"M 127.138291 188.415972 \nL 127.138291 188.270417 \nL 129.180277 188.270417 \nL 129.180277 188.415972 \nz\n\" style=\"fill:#ffffff;fill-opacity:0.9;stroke:#000000;stroke-width:0.745833;\"/>\n    <path clip-path=\"url(#p19da3b1852)\" d=\"M 131.237294 188.415972 \nL 131.237294 188.270417 \nL 133.27928 188.270417 \nL 133.27928 188.415972 \nz\n\" style=\"fill:#ffffff;fill-opacity:0.9;stroke:#000000;stroke-width:0.745833;\"/>\n    <path clip-path=\"url(#p19da3b1852)\" d=\"M 135.336297 188.415972 \nL 135.336297 188.270417 \nL 137.378283 188.270417 \nL 137.378283 188.415972 \nz\n\" style=\"fill:#ffffff;fill-opacity:0.9;stroke:#000000;stroke-width:0.745833;\"/>\n    <path clip-path=\"url(#p19da3b1852)\" d=\"M 139.4353 188.415972 \nL 139.4353 188.270417 \nL 141.477286 188.270417 \nL 141.477286 188.415972 \nz\n\" style=\"fill:#ffffff;fill-opacity:0.9;stroke:#000000;stroke-width:0.745833;\"/>\n    <path clip-path=\"url(#p19da3b1852)\" d=\"M 143.534303 187.688197 \nL 143.534303 202.243697 \nL 145.576289 202.243697 \nL 145.576289 187.688197 \nz\n\" style=\"fill-opacity:0.9;stroke:#000000;stroke-width:0.745833;\"/>\n    <path clip-path=\"url(#p19da3b1852)\" d=\"M 147.633305 272.473983 \nL 147.633305 247.729633 \nL 149.675292 247.729633 \nL 149.675292 272.473983 \nz\n\" style=\"fill:#ffffff;fill-opacity:0.9;stroke:#000000;stroke-width:0.745833;\"/>\n    <path clip-path=\"url(#p19da3b1852)\" d=\"M 151.732308 251.805173 \nL 151.732308 240.087996 \nL 153.774295 240.087996 \nL 153.774295 251.805173 \nz\n\" style=\"fill:#ffffff;fill-opacity:0.9;stroke:#000000;stroke-width:0.745833;\"/>\n    <path clip-path=\"url(#p19da3b1852)\" d=\"M 155.831311 227.279156 \nL 155.831311 243.071873 \nL 157.873298 243.071873 \nL 157.873298 227.279156 \nz\n\" style=\"fill-opacity:0.9;stroke:#000000;stroke-width:0.745833;\"/>\n    <path clip-path=\"url(#p19da3b1852)\" d=\"M 159.930314 227.279156 \nL 159.930314 243.071873 \nL 161.972301 243.071873 \nL 161.972301 227.279156 \nz\n\" style=\"fill-opacity:0.9;stroke:#000000;stroke-width:0.745833;\"/>\n    <path clip-path=\"url(#p19da3b1852)\" d=\"M 164.029317 227.279156 \nL 164.029317 243.071873 \nL 166.071304 243.071873 \nL 166.071304 227.279156 \nz\n\" style=\"fill-opacity:0.9;stroke:#000000;stroke-width:0.745833;\"/>\n    <path clip-path=\"url(#p19da3b1852)\" d=\"M 168.12832 245.982973 \nL 168.12832 246.128528 \nL 170.170307 246.128528 \nL 170.170307 245.982973 \nz\n\" style=\"fill-opacity:0.9;stroke:#000000;stroke-width:0.745833;\"/>\n    <path clip-path=\"url(#p19da3b1852)\" d=\"M 172.227323 244.891311 \nL 172.227323 242.416876 \nL 174.26931 242.416876 \nL 174.26931 244.891311 \nz\n\" style=\"fill:#ffffff;fill-opacity:0.9;stroke:#000000;stroke-width:0.745833;\"/>\n    <path clip-path=\"url(#p19da3b1852)\" d=\"M 176.326326 241.397991 \nL 176.326326 254.279608 \nL 178.368313 254.279608 \nL 178.368313 241.397991 \nz\n\" style=\"fill-opacity:0.9;stroke:#000000;stroke-width:0.745833;\"/>\n    <path clip-path=\"url(#p19da3b1852)\" d=\"M 180.425329 252.096283 \nL 180.425329 245.109643 \nL 182.467316 245.109643 \nL 182.467316 252.096283 \nz\n\" style=\"fill:#ffffff;fill-opacity:0.9;stroke:#000000;stroke-width:0.745833;\"/>\n    <path clip-path=\"url(#p19da3b1852)\" d=\"M 184.524332 237.395229 \nL 184.524332 226.405826 \nL 186.566318 226.405826 \nL 186.566318 237.395229 \nz\n\" style=\"fill:#ffffff;fill-opacity:0.9;stroke:#000000;stroke-width:0.745833;\"/>\n    <path clip-path=\"url(#p19da3b1852)\" d=\"M 188.623335 237.395229 \nL 188.623335 226.405826 \nL 190.665321 226.405826 \nL 190.665321 237.395229 \nz\n\" style=\"fill:#ffffff;fill-opacity:0.9;stroke:#000000;stroke-width:0.745833;\"/>\n    <path clip-path=\"url(#p19da3b1852)\" d=\"M 192.722338 237.395229 \nL 192.722338 226.405826 \nL 194.764324 226.405826 \nL 194.764324 237.395229 \nz\n\" style=\"fill:#ffffff;fill-opacity:0.9;stroke:#000000;stroke-width:0.745833;\"/>\n    <path clip-path=\"url(#p19da3b1852)\" d=\"M 196.821341 229.244149 \nL 196.821341 226.114716 \nL 198.863327 226.114716 \nL 198.863327 229.244149 \nz\n\" style=\"fill:#ffffff;fill-opacity:0.9;stroke:#000000;stroke-width:0.745833;\"/>\n    <path clip-path=\"url(#p19da3b1852)\" d=\"M 200.920344 234.556906 \nL 200.920344 239.869663 \nL 202.96233 239.869663 \nL 202.96233 234.556906 \nz\n\" style=\"fill-opacity:0.9;stroke:#000000;stroke-width:0.745833;\"/>\n    <path clip-path=\"url(#p19da3b1852)\" d=\"M 205.019346 232.228026 \nL 205.019346 226.915269 \nL 207.061333 226.915269 \nL 207.061333 232.228026 \nz\n\" style=\"fill:#ffffff;fill-opacity:0.9;stroke:#000000;stroke-width:0.745833;\"/>\n    <path clip-path=\"url(#p19da3b1852)\" d=\"M 209.118349 224.295279 \nL 209.118349 205.591462 \nL 211.160336 205.591462 \nL 211.160336 224.295279 \nz\n\" style=\"fill:#ffffff;fill-opacity:0.9;stroke:#000000;stroke-width:0.745833;\"/>\n    <path clip-path=\"url(#p19da3b1852)\" d=\"M 213.217352 208.720894 \nL 213.217352 198.895932 \nL 215.259339 198.895932 \nL 215.259339 208.720894 \nz\n\" style=\"fill:#ffffff;fill-opacity:0.9;stroke:#000000;stroke-width:0.745833;\"/>\n    <path clip-path=\"url(#p19da3b1852)\" d=\"M 217.316355 208.720894 \nL 217.316355 198.895932 \nL 219.358342 198.895932 \nL 219.358342 208.720894 \nz\n\" style=\"fill:#ffffff;fill-opacity:0.9;stroke:#000000;stroke-width:0.745833;\"/>\n    <path clip-path=\"url(#p19da3b1852)\" d=\"M 221.415358 208.720894 \nL 221.415358 198.895932 \nL 223.457345 198.895932 \nL 223.457345 208.720894 \nz\n\" style=\"fill:#ffffff;fill-opacity:0.9;stroke:#000000;stroke-width:0.745833;\"/>\n    <path clip-path=\"url(#p19da3b1852)\" d=\"M 225.514361 217.599749 \nL 225.514361 210.467554 \nL 227.556348 210.467554 \nL 227.556348 217.599749 \nz\n\" style=\"fill:#ffffff;fill-opacity:0.9;stroke:#000000;stroke-width:0.745833;\"/>\n    <path clip-path=\"url(#p19da3b1852)\" d=\"M 229.613364 216.726419 \nL 229.613364 231.645806 \nL 231.655351 231.645806 \nL 231.655351 216.726419 \nz\n\" style=\"fill-opacity:0.9;stroke:#000000;stroke-width:0.745833;\"/>\n    <path clip-path=\"url(#p19da3b1852)\" d=\"M 233.712367 224.877499 \nL 233.712367 259.883476 \nL 235.754354 259.883476 \nL 235.754354 224.877499 \nz\n\" style=\"fill-opacity:0.9;stroke:#000000;stroke-width:0.745833;\"/>\n    <path clip-path=\"url(#p19da3b1852)\" d=\"M 237.81137 270.145103 \nL 237.81137 276.91341 \nL 239.853357 276.91341 \nL 239.853357 270.145103 \nz\n\" style=\"fill-opacity:0.9;stroke:#000000;stroke-width:0.745833;\"/>\n    <path clip-path=\"url(#p19da3b1852)\" d=\"M 241.910373 266.651783 \nL 241.910373 253.697388 \nL 243.95236 253.697388 \nL 243.95236 266.651783 \nz\n\" style=\"fill:#ffffff;fill-opacity:0.9;stroke:#000000;stroke-width:0.745833;\"/>\n    <path clip-path=\"url(#p19da3b1852)\" d=\"M 246.009376 266.651783 \nL 246.009376 253.697388 \nL 248.051362 253.697388 \nL 248.051362 266.651783 \nz\n\" style=\"fill:#ffffff;fill-opacity:0.9;stroke:#000000;stroke-width:0.745833;\"/>\n    <path clip-path=\"url(#p19da3b1852)\" d=\"M 250.108379 266.651783 \nL 250.108379 253.697388 \nL 252.150365 253.697388 \nL 252.150365 266.651783 \nz\n\" style=\"fill:#ffffff;fill-opacity:0.9;stroke:#000000;stroke-width:0.745833;\"/>\n    <path clip-path=\"url(#p19da3b1852)\" d=\"M 254.207382 266.651783 \nL 254.207382 253.697388 \nL 256.249368 253.697388 \nL 256.249368 266.651783 \nz\n\" style=\"fill:#ffffff;fill-opacity:0.9;stroke:#000000;stroke-width:0.745833;\"/>\n    <path clip-path=\"url(#p19da3b1852)\" d=\"M 258.306385 247.947966 \nL 258.306385 241.325213 \nL 260.348371 241.325213 \nL 260.348371 247.947966 \nz\n\" style=\"fill:#ffffff;fill-opacity:0.9;stroke:#000000;stroke-width:0.745833;\"/>\n    <path clip-path=\"url(#p19da3b1852)\" d=\"M 262.405388 234.265796 \nL 262.405388 216.871974 \nL 264.447374 216.871974 \nL 264.447374 234.265796 \nz\n\" style=\"fill:#ffffff;fill-opacity:0.9;stroke:#000000;stroke-width:0.745833;\"/>\n    <path clip-path=\"url(#p19da3b1852)\" d=\"M 266.50439 188.488749 \nL 266.50439 170.658262 \nL 268.546377 170.658262 \nL 268.546377 188.488749 \nz\n\" style=\"fill:#ffffff;fill-opacity:0.9;stroke:#000000;stroke-width:0.745833;\"/>\n    <path clip-path=\"url(#p19da3b1852)\" d=\"M 270.603393 171.31326 \nL 270.603393 166.07328 \nL 272.64538 166.07328 \nL 272.64538 171.31326 \nz\n\" style=\"fill:#ffffff;fill-opacity:0.9;stroke:#000000;stroke-width:0.745833;\"/>\n    <path clip-path=\"url(#p19da3b1852)\" d=\"M 274.702396 171.31326 \nL 274.702396 166.07328 \nL 276.744383 166.07328 \nL 276.744383 171.31326 \nz\n\" style=\"fill:#ffffff;fill-opacity:0.9;stroke:#000000;stroke-width:0.745833;\"/>\n    <path clip-path=\"url(#p19da3b1852)\" d=\"M 278.801399 171.31326 \nL 278.801399 166.07328 \nL 280.843386 166.07328 \nL 280.843386 171.31326 \nz\n\" style=\"fill:#ffffff;fill-opacity:0.9;stroke:#000000;stroke-width:0.745833;\"/>\n    <path clip-path=\"url(#p19da3b1852)\" d=\"M 282.900402 160.54219 \nL 282.900402 161.051632 \nL 284.942389 161.051632 \nL 284.942389 160.54219 \nz\n\" style=\"fill-opacity:0.9;stroke:#000000;stroke-width:0.745833;\"/>\n    <path clip-path=\"url(#p19da3b1852)\" d=\"M 286.999405 165.636615 \nL 286.999405 171.02215 \nL 289.041392 171.02215 \nL 289.041392 165.636615 \nz\n\" style=\"fill-opacity:0.9;stroke:#000000;stroke-width:0.745833;\"/>\n    <path clip-path=\"url(#p19da3b1852)\" d=\"M 291.098408 177.208237 \nL 291.098408 168.11105 \nL 293.140395 168.11105 \nL 293.140395 177.208237 \nz\n\" style=\"fill:#ffffff;fill-opacity:0.9;stroke:#000000;stroke-width:0.745833;\"/>\n    <path clip-path=\"url(#p19da3b1852)\" d=\"M 295.197411 164.544952 \nL 295.197411 155.738875 \nL 297.239398 155.738875 \nL 297.239398 164.544952 \nz\n\" style=\"fill:#ffffff;fill-opacity:0.9;stroke:#000000;stroke-width:0.745833;\"/>\n    <path clip-path=\"url(#p19da3b1852)\" d=\"M 299.296414 155.666097 \nL 299.296414 173.714917 \nL 301.338401 173.714917 \nL 301.338401 155.666097 \nz\n\" style=\"fill-opacity:0.9;stroke:#000000;stroke-width:0.745833;\"/>\n    <path clip-path=\"url(#p19da3b1852)\" d=\"M 303.395417 155.666097 \nL 303.395417 173.714917 \nL 305.437404 173.714917 \nL 305.437404 155.666097 \nz\n\" style=\"fill-opacity:0.9;stroke:#000000;stroke-width:0.745833;\"/>\n    <path clip-path=\"url(#p19da3b1852)\" d=\"M 307.49442 155.666097 \nL 307.49442 173.714917 \nL 309.536406 173.714917 \nL 309.536406 155.666097 \nz\n\" style=\"fill-opacity:0.9;stroke:#000000;stroke-width:0.745833;\"/>\n    <path clip-path=\"url(#p19da3b1852)\" d=\"M 311.593423 173.93325 \nL 311.593423 180.992667 \nL 313.635409 180.992667 \nL 313.635409 173.93325 \nz\n\" style=\"fill-opacity:0.9;stroke:#000000;stroke-width:0.745833;\"/>\n    <path clip-path=\"url(#p19da3b1852)\" d=\"M 315.692426 172.18659 \nL 315.692426 156.684982 \nL 317.734412 156.684982 \nL 317.734412 172.18659 \nz\n\" style=\"fill:#ffffff;fill-opacity:0.9;stroke:#000000;stroke-width:0.745833;\"/>\n    <path clip-path=\"url(#p19da3b1852)\" d=\"M 319.791429 161.561075 \nL 319.791429 142.638925 \nL 321.833415 142.638925 \nL 321.833415 161.561075 \nz\n\" style=\"fill:#ffffff;fill-opacity:0.9;stroke:#000000;stroke-width:0.745833;\"/>\n    <path clip-path=\"url(#p19da3b1852)\" d=\"M 323.890432 135.943395 \nL 323.890432 131.7223 \nL 325.932418 131.7223 \nL 325.932418 135.943395 \nz\n\" style=\"fill:#ffffff;fill-opacity:0.9;stroke:#000000;stroke-width:0.745833;\"/>\n    <path clip-path=\"url(#p19da3b1852)\" d=\"M 327.989434 133.614515 \nL 327.989434 131.7223 \nL 330.031421 131.7223 \nL 330.031421 133.614515 \nz\n\" style=\"fill:#ffffff;fill-opacity:0.9;stroke:#000000;stroke-width:0.745833;\"/>\n    <path clip-path=\"url(#p19da3b1852)\" d=\"M 332.088437 133.614515 \nL 332.088437 131.7223 \nL 334.130424 131.7223 \nL 334.130424 133.614515 \nz\n\" style=\"fill:#ffffff;fill-opacity:0.9;stroke:#000000;stroke-width:0.745833;\"/>\n    <path clip-path=\"url(#p19da3b1852)\" d=\"M 336.18744 133.614515 \nL 336.18744 131.7223 \nL 338.229427 131.7223 \nL 338.229427 133.614515 \nz\n\" style=\"fill:#ffffff;fill-opacity:0.9;stroke:#000000;stroke-width:0.745833;\"/>\n    <path clip-path=\"url(#p19da3b1852)\" d=\"M 340.286443 135.50673 \nL 340.286443 114.619588 \nL 342.32843 114.619588 \nL 342.32843 135.50673 \nz\n\" style=\"fill:#ffffff;fill-opacity:0.9;stroke:#000000;stroke-width:0.745833;\"/>\n    <path clip-path=\"url(#p19da3b1852)\" d=\"M 344.385446 117.821798 \nL 344.385446 122.479558 \nL 346.427433 122.479558 \nL 346.427433 117.821798 \nz\n\" style=\"fill-opacity:0.9;stroke:#000000;stroke-width:0.745833;\"/>\n    <path clip-path=\"url(#p19da3b1852)\" d=\"M 348.484449 120.732898 \nL 348.484449 112.727373 \nL 350.526436 112.727373 \nL 350.526436 120.732898 \nz\n\" style=\"fill:#ffffff;fill-opacity:0.9;stroke:#000000;stroke-width:0.745833;\"/>\n    <path clip-path=\"url(#p19da3b1852)\" d=\"M 352.583452 106.686841 \nL 352.583452 114.328478 \nL 354.625439 114.328478 \nL 354.625439 106.686841 \nz\n\" style=\"fill-opacity:0.9;stroke:#000000;stroke-width:0.745833;\"/>\n    <path clip-path=\"url(#p19da3b1852)\" d=\"M 356.682455 103.120743 \nL 356.682455 98.535761 \nL 358.724442 98.535761 \nL 358.724442 103.120743 \nz\n\" style=\"fill:#ffffff;fill-opacity:0.9;stroke:#000000;stroke-width:0.745833;\"/>\n    <path clip-path=\"url(#p19da3b1852)\" d=\"M 360.781458 103.120743 \nL 360.781458 98.535761 \nL 362.823445 98.535761 \nL 362.823445 103.120743 \nz\n\" style=\"fill:#ffffff;fill-opacity:0.9;stroke:#000000;stroke-width:0.745833;\"/>\n    <path clip-path=\"url(#p19da3b1852)\" d=\"M 364.880461 103.120743 \nL 364.880461 98.535761 \nL 366.922447 98.535761 \nL 366.922447 103.120743 \nz\n\" style=\"fill:#ffffff;fill-opacity:0.9;stroke:#000000;stroke-width:0.745833;\"/>\n    <path clip-path=\"url(#p19da3b1852)\" d=\"M 368.979464 101.082973 \nL 368.979464 95.479106 \nL 371.02145 95.479106 \nL 371.02145 101.082973 \nz\n\" style=\"fill:#ffffff;fill-opacity:0.9;stroke:#000000;stroke-width:0.745833;\"/>\n    <path clip-path=\"url(#p19da3b1852)\" d=\"M 373.078467 103.047966 \nL 373.078467 94.169111 \nL 375.120453 94.169111 \nL 375.120453 103.047966 \nz\n\" style=\"fill:#ffffff;fill-opacity:0.9;stroke:#000000;stroke-width:0.745833;\"/>\n    <path clip-path=\"url(#p19da3b1852)\" d=\"M 377.17747 96.643546 \nL 377.17747 80.850829 \nL 379.219456 80.850829 \nL 379.219456 96.643546 \nz\n\" style=\"fill:#ffffff;fill-opacity:0.9;stroke:#000000;stroke-width:0.745833;\"/>\n    <path clip-path=\"url(#p19da3b1852)\" d=\"M 381.276473 80.923606 \nL 381.276473 64.475892 \nL 383.318459 64.475892 \nL 383.318459 80.923606 \nz\n\" style=\"fill:#ffffff;fill-opacity:0.9;stroke:#000000;stroke-width:0.745833;\"/>\n    <path clip-path=\"url(#p19da3b1852)\" d=\"M 385.375476 61.855902 \nL 385.375476 64.112004 \nL 387.417462 64.112004 \nL 387.417462 61.855902 \nz\n\" style=\"fill-opacity:0.9;stroke:#000000;stroke-width:0.745833;\"/>\n    <path clip-path=\"url(#p19da3b1852)\" d=\"M 389.474478 61.855902 \nL 389.474478 64.112004 \nL 391.516465 64.112004 \nL 391.516465 61.855902 \nz\n\" style=\"fill-opacity:0.9;stroke:#000000;stroke-width:0.745833;\"/>\n    <path clip-path=\"url(#p19da3b1852)\" d=\"M 393.573481 61.855902 \nL 393.573481 64.112004 \nL 395.615468 64.112004 \nL 395.615468 61.855902 \nz\n\" style=\"fill-opacity:0.9;stroke:#000000;stroke-width:0.745833;\"/>\n    <path clip-path=\"url(#p19da3b1852)\" d=\"M 397.672484 62.583677 \nL 397.672484 52.904269 \nL 399.714471 52.904269 \nL 399.714471 62.583677 \nz\n\" style=\"fill:#ffffff;fill-opacity:0.9;stroke:#000000;stroke-width:0.745833;\"/>\n    <path clip-path=\"url(#p19da3b1852)\" d=\"M 401.771487 57.052587 \nL 401.771487 56.761477 \nL 403.813474 56.761477 \nL 403.813474 57.052587 \nz\n\" style=\"fill:#ffffff;fill-opacity:0.9;stroke:#000000;stroke-width:0.745833;\"/>\n    <path clip-path=\"url(#p19da3b1852)\" d=\"M 405.87049 57.489252 \nL 405.87049 76.411401 \nL 407.912477 76.411401 \nL 407.912477 57.489252 \nz\n\" style=\"fill-opacity:0.9;stroke:#000000;stroke-width:0.745833;\"/>\n    <path clip-path=\"url(#p19da3b1852)\" d=\"M 409.969493 79.468056 \nL 409.969493 57.853139 \nL 412.01148 57.853139 \nL 412.01148 79.468056 \nz\n\" style=\"fill:#ffffff;fill-opacity:0.9;stroke:#000000;stroke-width:0.745833;\"/>\n    <path clip-path=\"url(#p19da3b1852)\" d=\"M 414.068496 79.468056 \nL 414.068496 57.853139 \nL 416.110483 57.853139 \nL 416.110483 79.468056 \nz\n\" style=\"fill:#ffffff;fill-opacity:0.9;stroke:#000000;stroke-width:0.745833;\"/>\n    <path clip-path=\"url(#p19da3b1852)\" d=\"M 418.167499 79.468056 \nL 418.167499 57.853139 \nL 420.209486 57.853139 \nL 420.209486 79.468056 \nz\n\" style=\"fill:#ffffff;fill-opacity:0.9;stroke:#000000;stroke-width:0.745833;\"/>\n    <path clip-path=\"url(#p19da3b1852)\" d=\"M 422.266502 79.468056 \nL 422.266502 57.853139 \nL 424.308489 57.853139 \nL 424.308489 79.468056 \nz\n\" style=\"fill:#ffffff;fill-opacity:0.9;stroke:#000000;stroke-width:0.745833;\"/>\n    <path clip-path=\"url(#p19da3b1852)\" d=\"M 426.365505 59.308689 \nL 426.365505 54.578152 \nL 428.407491 54.578152 \nL 428.407491 59.308689 \nz\n\" style=\"fill:#ffffff;fill-opacity:0.9;stroke:#000000;stroke-width:0.745833;\"/>\n    <path clip-path=\"url(#p19da3b1852)\" d=\"M 430.464508 60.473129 \nL 430.464508 47.809844 \nL 432.506494 47.809844 \nL 432.506494 60.473129 \nz\n\" style=\"fill:#ffffff;fill-opacity:0.9;stroke:#000000;stroke-width:0.745833;\"/>\n    <path clip-path=\"url(#p19da3b1852)\" d=\"M 434.563511 43.297639 \nL 434.563511 54.505374 \nL 436.605497 54.505374 \nL 436.605497 43.297639 \nz\n\" style=\"fill-opacity:0.9;stroke:#000000;stroke-width:0.745833;\"/>\n    <path clip-path=\"url(#p19da3b1852)\" d=\"M 438.662514 44.462079 \nL 438.662514 32.381015 \nL 440.7045 32.381015 \nL 440.7045 44.462079 \nz\n\" style=\"fill:#ffffff;fill-opacity:0.9;stroke:#000000;stroke-width:0.745833;\"/>\n   </g>\n   <g id=\"LineCollection_1\">\n    <path clip-path=\"url(#p19da3b1852)\" d=\"M 70.773243 133.396183 \nL 70.773243 133.032295 \n\" style=\"fill:none;stroke:#000000;stroke-width:0.745833;\"/>\n    <path clip-path=\"url(#p19da3b1852)\" d=\"M 74.872246 133.396183 \nL 74.872246 133.032295 \n\" style=\"fill:none;stroke:#000000;stroke-width:0.745833;\"/>\n    <path clip-path=\"url(#p19da3b1852)\" d=\"M 78.971249 133.396183 \nL 78.971249 133.032295 \n\" style=\"fill:none;stroke:#000000;stroke-width:0.745833;\"/>\n    <path clip-path=\"url(#p19da3b1852)\" d=\"M 83.070252 157.63109 \nL 83.070252 147.73335 \n\" style=\"fill:none;stroke:#000000;stroke-width:0.745833;\"/>\n    <path clip-path=\"url(#p19da3b1852)\" d=\"M 87.169255 153.191662 \nL 87.169255 145.913913 \n\" style=\"fill:none;stroke:#000000;stroke-width:0.745833;\"/>\n    <path clip-path=\"url(#p19da3b1852)\" d=\"M 91.268258 162.143295 \nL 91.268258 156.612205 \n\" style=\"fill:none;stroke:#000000;stroke-width:0.745833;\"/>\n    <path clip-path=\"url(#p19da3b1852)\" d=\"M 95.367261 170.803817 \nL 95.367261 167.674385 \n\" style=\"fill:none;stroke:#000000;stroke-width:0.745833;\"/>\n    <path clip-path=\"url(#p19da3b1852)\" d=\"M 99.466264 178.88212 \nL 99.466264 176.626017 \n\" style=\"fill:none;stroke:#000000;stroke-width:0.745833;\"/>\n    <path clip-path=\"url(#p19da3b1852)\" d=\"M 103.565266 178.88212 \nL 103.565266 176.626017 \n\" style=\"fill:none;stroke:#000000;stroke-width:0.745833;\"/>\n    <path clip-path=\"url(#p19da3b1852)\" d=\"M 107.664269 178.88212 \nL 107.664269 176.626017 \n\" style=\"fill:none;stroke:#000000;stroke-width:0.745833;\"/>\n    <path clip-path=\"url(#p19da3b1852)\" d=\"M 111.763272 175.67991 \nL 111.763272 175.316022 \n\" style=\"fill:none;stroke:#000000;stroke-width:0.745833;\"/>\n    <path clip-path=\"url(#p19da3b1852)\" d=\"M 115.862275 180.264892 \nL 115.862275 167.383275 \n\" style=\"fill:none;stroke:#000000;stroke-width:0.745833;\"/>\n    <path clip-path=\"url(#p19da3b1852)\" d=\"M 119.961278 180.483225 \nL 119.961278 179.973782 \n\" style=\"fill:none;stroke:#000000;stroke-width:0.745833;\"/>\n    <path clip-path=\"url(#p19da3b1852)\" d=\"M 124.060281 179.609895 \nL 124.060281 174.442692 \n\" style=\"fill:none;stroke:#000000;stroke-width:0.745833;\"/>\n    <path clip-path=\"url(#p19da3b1852)\" d=\"M 128.159284 196.712607 \nL 128.159284 188.415972 \n\" style=\"fill:none;stroke:#000000;stroke-width:0.745833;\"/>\n    <path clip-path=\"url(#p19da3b1852)\" d=\"M 132.258287 196.712607 \nL 132.258287 188.415972 \n\" style=\"fill:none;stroke:#000000;stroke-width:0.745833;\"/>\n    <path clip-path=\"url(#p19da3b1852)\" d=\"M 136.35729 196.712607 \nL 136.35729 188.415972 \n\" style=\"fill:none;stroke:#000000;stroke-width:0.745833;\"/>\n    <path clip-path=\"url(#p19da3b1852)\" d=\"M 140.456293 196.712607 \nL 140.456293 188.415972 \n\" style=\"fill:none;stroke:#000000;stroke-width:0.745833;\"/>\n    <path clip-path=\"url(#p19da3b1852)\" d=\"M 144.555296 202.607584 \nL 144.555296 202.243697 \n\" style=\"fill:none;stroke:#000000;stroke-width:0.745833;\"/>\n    <path clip-path=\"url(#p19da3b1852)\" d=\"M 148.654299 275.821748 \nL 148.654299 272.473983 \n\" style=\"fill:none;stroke:#000000;stroke-width:0.745833;\"/>\n    <path clip-path=\"url(#p19da3b1852)\" d=\"M 152.753302 257.045153 \nL 152.753302 251.805173 \n\" style=\"fill:none;stroke:#000000;stroke-width:0.745833;\"/>\n    <path clip-path=\"url(#p19da3b1852)\" d=\"M 156.852305 248.384631 \nL 156.852305 243.071873 \n\" style=\"fill:none;stroke:#000000;stroke-width:0.745833;\"/>\n    <path clip-path=\"url(#p19da3b1852)\" d=\"M 160.951308 248.384631 \nL 160.951308 243.071873 \n\" style=\"fill:none;stroke:#000000;stroke-width:0.745833;\"/>\n    <path clip-path=\"url(#p19da3b1852)\" d=\"M 165.05031 248.384631 \nL 165.05031 243.071873 \n\" style=\"fill:none;stroke:#000000;stroke-width:0.745833;\"/>\n    <path clip-path=\"url(#p19da3b1852)\" d=\"M 169.149313 249.330738 \nL 169.149313 246.128528 \n\" style=\"fill:none;stroke:#000000;stroke-width:0.745833;\"/>\n    <path clip-path=\"url(#p19da3b1852)\" d=\"M 173.248316 244.964088 \nL 173.248316 244.891311 \n\" style=\"fill:none;stroke:#000000;stroke-width:0.745833;\"/>\n    <path clip-path=\"url(#p19da3b1852)\" d=\"M 177.347319 256.535711 \nL 177.347319 254.279608 \n\" style=\"fill:none;stroke:#000000;stroke-width:0.745833;\"/>\n    <path clip-path=\"url(#p19da3b1852)\" d=\"M 181.446322 253.915721 \nL 181.446322 252.096283 \n\" style=\"fill:none;stroke:#000000;stroke-width:0.745833;\"/>\n    <path clip-path=\"url(#p19da3b1852)\" d=\"M 185.545325 239.724108 \nL 185.545325 237.395229 \n\" style=\"fill:none;stroke:#000000;stroke-width:0.745833;\"/>\n    <path clip-path=\"url(#p19da3b1852)\" d=\"M 189.644328 239.724108 \nL 189.644328 237.395229 \n\" style=\"fill:none;stroke:#000000;stroke-width:0.745833;\"/>\n    <path clip-path=\"url(#p19da3b1852)\" d=\"M 193.743331 239.724108 \nL 193.743331 237.395229 \n\" style=\"fill:none;stroke:#000000;stroke-width:0.745833;\"/>\n    <path clip-path=\"url(#p19da3b1852)\" d=\"M 197.842334 234.265796 \nL 197.842334 229.244149 \n\" style=\"fill:none;stroke:#000000;stroke-width:0.745833;\"/>\n    <path clip-path=\"url(#p19da3b1852)\" d=\"M 201.941337 242.052988 \nL 201.941337 239.869663 \n\" style=\"fill:none;stroke:#000000;stroke-width:0.745833;\"/>\n    <path clip-path=\"url(#p19da3b1852)\" d=\"M 206.04034 243.435761 \nL 206.04034 232.228026 \n\" style=\"fill:none;stroke:#000000;stroke-width:0.745833;\"/>\n    <path clip-path=\"url(#p19da3b1852)\" d=\"M 210.139343 224.877499 \nL 210.139343 224.295279 \n\" style=\"fill:none;stroke:#000000;stroke-width:0.745833;\"/>\n    <path clip-path=\"url(#p19da3b1852)\" d=\"M 214.238346 218.691411 \nL 214.238346 208.720894 \n\" style=\"fill:none;stroke:#000000;stroke-width:0.745833;\"/>\n    <path clip-path=\"url(#p19da3b1852)\" d=\"M 218.337349 218.691411 \nL 218.337349 208.720894 \n\" style=\"fill:none;stroke:#000000;stroke-width:0.745833;\"/>\n    <path clip-path=\"url(#p19da3b1852)\" d=\"M 222.436352 218.691411 \nL 222.436352 208.720894 \n\" style=\"fill:none;stroke:#000000;stroke-width:0.745833;\"/>\n    <path clip-path=\"url(#p19da3b1852)\" d=\"M 226.535354 231.209141 \nL 226.535354 217.599749 \n\" style=\"fill:none;stroke:#000000;stroke-width:0.745833;\"/>\n    <path clip-path=\"url(#p19da3b1852)\" d=\"M 230.634357 233.829131 \nL 230.634357 231.645806 \n\" style=\"fill:none;stroke:#000000;stroke-width:0.745833;\"/>\n    <path clip-path=\"url(#p19da3b1852)\" d=\"M 234.73336 262.430688 \nL 234.73336 259.883476 \n\" style=\"fill:none;stroke:#000000;stroke-width:0.745833;\"/>\n    <path clip-path=\"url(#p19da3b1852)\" d=\"M 238.832363 283.827273 \nL 238.832363 276.91341 \n\" style=\"fill:none;stroke:#000000;stroke-width:0.745833;\"/>\n    <path clip-path=\"url(#p19da3b1852)\" d=\"M 242.931366 273.274535 \nL 242.931366 266.651783 \n\" style=\"fill:none;stroke:#000000;stroke-width:0.745833;\"/>\n    <path clip-path=\"url(#p19da3b1852)\" d=\"M 247.030369 273.274535 \nL 247.030369 266.651783 \n\" style=\"fill:none;stroke:#000000;stroke-width:0.745833;\"/>\n    <path clip-path=\"url(#p19da3b1852)\" d=\"M 251.129372 273.274535 \nL 251.129372 266.651783 \n\" style=\"fill:none;stroke:#000000;stroke-width:0.745833;\"/>\n    <path clip-path=\"url(#p19da3b1852)\" d=\"M 255.228375 273.274535 \nL 255.228375 266.651783 \n\" style=\"fill:none;stroke:#000000;stroke-width:0.745833;\"/>\n    <path clip-path=\"url(#p19da3b1852)\" d=\"M 259.327378 251.514063 \nL 259.327378 247.947966 \n\" style=\"fill:none;stroke:#000000;stroke-width:0.745833;\"/>\n    <path clip-path=\"url(#p19da3b1852)\" d=\"M 263.426381 237.613561 \nL 263.426381 234.265796 \n\" style=\"fill:none;stroke:#000000;stroke-width:0.745833;\"/>\n    <path clip-path=\"url(#p19da3b1852)\" d=\"M 267.525384 190.308187 \nL 267.525384 188.488749 \n\" style=\"fill:none;stroke:#000000;stroke-width:0.745833;\"/>\n    <path clip-path=\"url(#p19da3b1852)\" d=\"M 271.624387 182.375439 \nL 271.624387 171.31326 \n\" style=\"fill:none;stroke:#000000;stroke-width:0.745833;\"/>\n    <path clip-path=\"url(#p19da3b1852)\" d=\"M 275.72339 182.375439 \nL 275.72339 171.31326 \n\" style=\"fill:none;stroke:#000000;stroke-width:0.745833;\"/>\n    <path clip-path=\"url(#p19da3b1852)\" d=\"M 279.822393 182.375439 \nL 279.822393 171.31326 \n\" style=\"fill:none;stroke:#000000;stroke-width:0.745833;\"/>\n    <path clip-path=\"url(#p19da3b1852)\" d=\"M 283.921396 170.949372 \nL 283.921396 161.051632 \n\" style=\"fill:none;stroke:#000000;stroke-width:0.745833;\"/>\n    <path clip-path=\"url(#p19da3b1852)\" d=\"M 288.020398 173.860472 \nL 288.020398 171.02215 \n\" style=\"fill:none;stroke:#000000;stroke-width:0.745833;\"/>\n    <path clip-path=\"url(#p19da3b1852)\" d=\"M 292.119401 190.817629 \nL 292.119401 177.208237 \n\" style=\"fill:none;stroke:#000000;stroke-width:0.745833;\"/>\n    <path clip-path=\"url(#p19da3b1852)\" d=\"M 296.218404 182.084329 \nL 296.218404 164.544952 \n\" style=\"fill:none;stroke:#000000;stroke-width:0.745833;\"/>\n    <path clip-path=\"url(#p19da3b1852)\" d=\"M 300.317407 174.297137 \nL 300.317407 173.714917 \n\" style=\"fill:none;stroke:#000000;stroke-width:0.745833;\"/>\n    <path clip-path=\"url(#p19da3b1852)\" d=\"M 304.41641 174.297137 \nL 304.41641 173.714917 \n\" style=\"fill:none;stroke:#000000;stroke-width:0.745833;\"/>\n    <path clip-path=\"url(#p19da3b1852)\" d=\"M 308.515413 174.297137 \nL 308.515413 173.714917 \n\" style=\"fill:none;stroke:#000000;stroke-width:0.745833;\"/>\n    <path clip-path=\"url(#p19da3b1852)\" d=\"M 312.614416 181.938774 \nL 312.614416 180.992667 \n\" style=\"fill:none;stroke:#000000;stroke-width:0.745833;\"/>\n    <path clip-path=\"url(#p19da3b1852)\" d=\"M 316.713419 173.714917 \nL 316.713419 172.18659 \n\" style=\"fill:none;stroke:#000000;stroke-width:0.745833;\"/>\n    <path clip-path=\"url(#p19da3b1852)\" d=\"M 320.812422 165.054395 \nL 320.812422 161.561075 \n\" style=\"fill:none;stroke:#000000;stroke-width:0.745833;\"/>\n    <path clip-path=\"url(#p19da3b1852)\" d=\"M 324.911425 144.312808 \nL 324.911425 135.943395 \n\" style=\"fill:none;stroke:#000000;stroke-width:0.745833;\"/>\n    <path clip-path=\"url(#p19da3b1852)\" d=\"M 329.010428 137.398945 \nL 329.010428 133.614515 \n\" style=\"fill:none;stroke:#000000;stroke-width:0.745833;\"/>\n    <path clip-path=\"url(#p19da3b1852)\" d=\"M 333.109431 137.398945 \nL 333.109431 133.614515 \n\" style=\"fill:none;stroke:#000000;stroke-width:0.745833;\"/>\n    <path clip-path=\"url(#p19da3b1852)\" d=\"M 337.208434 137.398945 \nL 337.208434 133.614515 \n\" style=\"fill:none;stroke:#000000;stroke-width:0.745833;\"/>\n    <path clip-path=\"url(#p19da3b1852)\" d=\"M 341.307437 138.490608 \nL 341.307437 135.50673 \n\" style=\"fill:none;stroke:#000000;stroke-width:0.745833;\"/>\n    <path clip-path=\"url(#p19da3b1852)\" d=\"M 345.40644 134.487845 \nL 345.40644 122.479558 \n\" style=\"fill:none;stroke:#000000;stroke-width:0.745833;\"/>\n    <path clip-path=\"url(#p19da3b1852)\" d=\"M 349.505442 121.315118 \nL 349.505442 120.732898 \n\" style=\"fill:none;stroke:#000000;stroke-width:0.745833;\"/>\n    <path clip-path=\"url(#p19da3b1852)\" d=\"M 353.604445 129.611753 \nL 353.604445 114.328478 \n\" style=\"fill:none;stroke:#000000;stroke-width:0.745833;\"/>\n    <path clip-path=\"url(#p19da3b1852)\" d=\"M 357.703448 111.999598 \nL 357.703448 103.120743 \n\" style=\"fill:none;stroke:#000000;stroke-width:0.745833;\"/>\n    <path clip-path=\"url(#p19da3b1852)\" d=\"M 361.802451 111.999598 \nL 361.802451 103.120743 \n\" style=\"fill:none;stroke:#000000;stroke-width:0.745833;\"/>\n    <path clip-path=\"url(#p19da3b1852)\" d=\"M 365.901454 111.999598 \nL 365.901454 103.120743 \n\" style=\"fill:none;stroke:#000000;stroke-width:0.745833;\"/>\n    <path clip-path=\"url(#p19da3b1852)\" d=\"M 370.000457 108.142391 \nL 370.000457 101.082973 \n\" style=\"fill:none;stroke:#000000;stroke-width:0.745833;\"/>\n    <path clip-path=\"url(#p19da3b1852)\" d=\"M 374.09946 104.503516 \nL 374.09946 103.047966 \n\" style=\"fill:none;stroke:#000000;stroke-width:0.745833;\"/>\n    <path clip-path=\"url(#p19da3b1852)\" d=\"M 378.198463 100.355198 \nL 378.198463 96.643546 \n\" style=\"fill:none;stroke:#000000;stroke-width:0.745833;\"/>\n    <path clip-path=\"url(#p19da3b1852)\" d=\"M 382.297466 83.325264 \nL 382.297466 80.923606 \n\" style=\"fill:none;stroke:#000000;stroke-width:0.745833;\"/>\n    <path clip-path=\"url(#p19da3b1852)\" d=\"M 386.396469 75.610849 \nL 386.396469 64.112004 \n\" style=\"fill:none;stroke:#000000;stroke-width:0.745833;\"/>\n    <path clip-path=\"url(#p19da3b1852)\" d=\"M 390.495472 75.610849 \nL 390.495472 64.112004 \n\" style=\"fill:none;stroke:#000000;stroke-width:0.745833;\"/>\n    <path clip-path=\"url(#p19da3b1852)\" d=\"M 394.594475 75.610849 \nL 394.594475 64.112004 \n\" style=\"fill:none;stroke:#000000;stroke-width:0.745833;\"/>\n    <path clip-path=\"url(#p19da3b1852)\" d=\"M 398.693478 66.804771 \nL 398.693478 62.583677 \n\" style=\"fill:none;stroke:#000000;stroke-width:0.745833;\"/>\n    <path clip-path=\"url(#p19da3b1852)\" d=\"M 402.792481 58.653692 \nL 402.792481 57.052587 \n\" style=\"fill:none;stroke:#000000;stroke-width:0.745833;\"/>\n    <path clip-path=\"url(#p19da3b1852)\" d=\"M 406.891484 78.376394 \nL 406.891484 76.411401 \n\" style=\"fill:none;stroke:#000000;stroke-width:0.745833;\"/>\n    <path clip-path=\"url(#p19da3b1852)\" d=\"M 410.990486 83.034154 \nL 410.990486 79.468056 \n\" style=\"fill:none;stroke:#000000;stroke-width:0.745833;\"/>\n    <path clip-path=\"url(#p19da3b1852)\" d=\"M 415.089489 83.034154 \nL 415.089489 79.468056 \n\" style=\"fill:none;stroke:#000000;stroke-width:0.745833;\"/>\n    <path clip-path=\"url(#p19da3b1852)\" d=\"M 419.188492 83.034154 \nL 419.188492 79.468056 \n\" style=\"fill:none;stroke:#000000;stroke-width:0.745833;\"/>\n    <path clip-path=\"url(#p19da3b1852)\" d=\"M 423.287495 83.034154 \nL 423.287495 79.468056 \n\" style=\"fill:none;stroke:#000000;stroke-width:0.745833;\"/>\n    <path clip-path=\"url(#p19da3b1852)\" d=\"M 427.386498 63.093119 \nL 427.386498 59.308689 \n\" style=\"fill:none;stroke:#000000;stroke-width:0.745833;\"/>\n    <path clip-path=\"url(#p19da3b1852)\" d=\"M 431.485501 61.128127 \nL 431.485501 60.473129 \n\" style=\"fill:none;stroke:#000000;stroke-width:0.745833;\"/>\n    <path clip-path=\"url(#p19da3b1852)\" d=\"M 435.584504 55.160372 \nL 435.584504 54.505374 \n\" style=\"fill:none;stroke:#000000;stroke-width:0.745833;\"/>\n    <path clip-path=\"url(#p19da3b1852)\" d=\"M 439.683507 47.591512 \nL 439.683507 44.462079 \n\" style=\"fill:none;stroke:#000000;stroke-width:0.745833;\"/>\n    <path clip-path=\"url(#p19da3b1852)\" d=\"M 70.773243 122.261226 \nL 70.773243 122.479558 \n\" style=\"fill:none;stroke:#000000;stroke-width:0.745833;\"/>\n    <path clip-path=\"url(#p19da3b1852)\" d=\"M 74.872246 122.261226 \nL 74.872246 122.479558 \n\" style=\"fill:none;stroke:#000000;stroke-width:0.745833;\"/>\n    <path clip-path=\"url(#p19da3b1852)\" d=\"M 78.971249 122.261226 \nL 78.971249 122.479558 \n\" style=\"fill:none;stroke:#000000;stroke-width:0.745833;\"/>\n    <path clip-path=\"url(#p19da3b1852)\" d=\"M 83.070252 145.040583 \nL 83.070252 145.186138 \n\" style=\"fill:none;stroke:#000000;stroke-width:0.745833;\"/>\n    <path clip-path=\"url(#p19da3b1852)\" d=\"M 87.169255 138.345053 \nL 87.169255 139.29116 \n\" style=\"fill:none;stroke:#000000;stroke-width:0.745833;\"/>\n    <path clip-path=\"url(#p19da3b1852)\" d=\"M 91.268258 147.878905 \nL 91.268258 150.862783 \n\" style=\"fill:none;stroke:#000000;stroke-width:0.745833;\"/>\n    <path clip-path=\"url(#p19da3b1852)\" d=\"M 95.367261 151.954445 \nL 95.367261 161.561075 \n\" style=\"fill:none;stroke:#000000;stroke-width:0.745833;\"/>\n    <path clip-path=\"url(#p19da3b1852)\" d=\"M 99.466264 160.687745 \nL 99.466264 165.345505 \n\" style=\"fill:none;stroke:#000000;stroke-width:0.745833;\"/>\n    <path clip-path=\"url(#p19da3b1852)\" d=\"M 103.565266 160.687745 \nL 103.565266 165.345505 \n\" style=\"fill:none;stroke:#000000;stroke-width:0.745833;\"/>\n    <path clip-path=\"url(#p19da3b1852)\" d=\"M 107.664269 160.687745 \nL 107.664269 165.345505 \n\" style=\"fill:none;stroke:#000000;stroke-width:0.745833;\"/>\n    <path clip-path=\"url(#p19da3b1852)\" d=\"M 111.763272 160.687745 \nL 111.763272 164.981617 \n\" style=\"fill:none;stroke:#000000;stroke-width:0.745833;\"/>\n    <path clip-path=\"url(#p19da3b1852)\" d=\"M 115.862275 160.978855 \nL 115.862275 161.924962 \n\" style=\"fill:none;stroke:#000000;stroke-width:0.745833;\"/>\n    <path clip-path=\"url(#p19da3b1852)\" d=\"M 119.961278 157.33998 \nL 119.961278 163.016625 \n\" style=\"fill:none;stroke:#000000;stroke-width:0.745833;\"/>\n    <path clip-path=\"url(#p19da3b1852)\" d=\"M 124.060281 160.906077 \nL 124.060281 167.310497 \n\" style=\"fill:none;stroke:#000000;stroke-width:0.745833;\"/>\n    <path clip-path=\"url(#p19da3b1852)\" d=\"M 128.159284 182.084329 \nL 128.159284 188.270417 \n\" style=\"fill:none;stroke:#000000;stroke-width:0.745833;\"/>\n    <path clip-path=\"url(#p19da3b1852)\" d=\"M 132.258287 182.084329 \nL 132.258287 188.270417 \n\" style=\"fill:none;stroke:#000000;stroke-width:0.745833;\"/>\n    <path clip-path=\"url(#p19da3b1852)\" d=\"M 136.35729 182.084329 \nL 136.35729 188.270417 \n\" style=\"fill:none;stroke:#000000;stroke-width:0.745833;\"/>\n    <path clip-path=\"url(#p19da3b1852)\" d=\"M 140.456293 182.084329 \nL 140.456293 188.270417 \n\" style=\"fill:none;stroke:#000000;stroke-width:0.745833;\"/>\n    <path clip-path=\"url(#p19da3b1852)\" d=\"M 144.555296 173.205475 \nL 144.555296 187.688197 \n\" style=\"fill:none;stroke:#000000;stroke-width:0.745833;\"/>\n    <path clip-path=\"url(#p19da3b1852)\" d=\"M 148.654299 232.228026 \nL 148.654299 247.729633 \n\" style=\"fill:none;stroke:#000000;stroke-width:0.745833;\"/>\n    <path clip-path=\"url(#p19da3b1852)\" d=\"M 152.753302 224.149724 \nL 152.753302 240.087996 \n\" style=\"fill:none;stroke:#000000;stroke-width:0.745833;\"/>\n    <path clip-path=\"url(#p19da3b1852)\" d=\"M 156.852305 226.769714 \nL 156.852305 227.279156 \n\" style=\"fill:none;stroke:#000000;stroke-width:0.745833;\"/>\n    <path clip-path=\"url(#p19da3b1852)\" d=\"M 160.951308 226.769714 \nL 160.951308 227.279156 \n\" style=\"fill:none;stroke:#000000;stroke-width:0.745833;\"/>\n    <path clip-path=\"url(#p19da3b1852)\" d=\"M 165.05031 226.769714 \nL 165.05031 227.279156 \n\" style=\"fill:none;stroke:#000000;stroke-width:0.745833;\"/>\n    <path clip-path=\"url(#p19da3b1852)\" d=\"M 169.149313 230.481366 \nL 169.149313 245.982973 \n\" style=\"fill:none;stroke:#000000;stroke-width:0.745833;\"/>\n    <path clip-path=\"url(#p19da3b1852)\" d=\"M 173.248316 234.993571 \nL 173.248316 242.416876 \n\" style=\"fill:none;stroke:#000000;stroke-width:0.745833;\"/>\n    <path clip-path=\"url(#p19da3b1852)\" d=\"M 177.347319 236.740231 \nL 177.347319 241.397991 \n\" style=\"fill:none;stroke:#000000;stroke-width:0.745833;\"/>\n    <path clip-path=\"url(#p19da3b1852)\" d=\"M 181.446322 240.670216 \nL 181.446322 245.109643 \n\" style=\"fill:none;stroke:#000000;stroke-width:0.745833;\"/>\n    <path clip-path=\"url(#p19da3b1852)\" d=\"M 185.545325 226.405826 \nL 185.545325 226.405826 \n\" style=\"fill:none;stroke:#000000;stroke-width:0.745833;\"/>\n    <path clip-path=\"url(#p19da3b1852)\" d=\"M 189.644328 226.405826 \nL 189.644328 226.405826 \n\" style=\"fill:none;stroke:#000000;stroke-width:0.745833;\"/>\n    <path clip-path=\"url(#p19da3b1852)\" d=\"M 193.743331 226.405826 \nL 193.743331 226.405826 \n\" style=\"fill:none;stroke:#000000;stroke-width:0.745833;\"/>\n    <path clip-path=\"url(#p19da3b1852)\" d=\"M 197.842334 222.766951 \nL 197.842334 226.114716 \n\" style=\"fill:none;stroke:#000000;stroke-width:0.745833;\"/>\n    <path clip-path=\"url(#p19da3b1852)\" d=\"M 201.941337 231.136364 \nL 201.941337 234.556906 \n\" style=\"fill:none;stroke:#000000;stroke-width:0.745833;\"/>\n    <path clip-path=\"url(#p19da3b1852)\" d=\"M 206.04034 221.602511 \nL 206.04034 226.915269 \n\" style=\"fill:none;stroke:#000000;stroke-width:0.745833;\"/>\n    <path clip-path=\"url(#p19da3b1852)\" d=\"M 210.139343 199.405374 \nL 210.139343 205.591462 \n\" style=\"fill:none;stroke:#000000;stroke-width:0.745833;\"/>\n    <path clip-path=\"url(#p19da3b1852)\" d=\"M 214.238346 198.386489 \nL 214.238346 198.895932 \n\" style=\"fill:none;stroke:#000000;stroke-width:0.745833;\"/>\n    <path clip-path=\"url(#p19da3b1852)\" d=\"M 218.337349 198.386489 \nL 218.337349 198.895932 \n\" style=\"fill:none;stroke:#000000;stroke-width:0.745833;\"/>\n    <path clip-path=\"url(#p19da3b1852)\" d=\"M 222.436352 198.386489 \nL 222.436352 198.895932 \n\" style=\"fill:none;stroke:#000000;stroke-width:0.745833;\"/>\n    <path clip-path=\"url(#p19da3b1852)\" d=\"M 226.535354 206.610347 \nL 226.535354 210.467554 \n\" style=\"fill:none;stroke:#000000;stroke-width:0.745833;\"/>\n    <path clip-path=\"url(#p19da3b1852)\" d=\"M 230.634357 210.831441 \nL 230.634357 216.726419 \n\" style=\"fill:none;stroke:#000000;stroke-width:0.745833;\"/>\n    <path clip-path=\"url(#p19da3b1852)\" d=\"M 234.73336 222.766951 \nL 234.73336 224.877499 \n\" style=\"fill:none;stroke:#000000;stroke-width:0.745833;\"/>\n    <path clip-path=\"url(#p19da3b1852)\" d=\"M 238.832363 263.740683 \nL 238.832363 270.145103 \n\" style=\"fill:none;stroke:#000000;stroke-width:0.745833;\"/>\n    <path clip-path=\"url(#p19da3b1852)\" d=\"M 242.931366 253.624611 \nL 242.931366 253.697388 \n\" style=\"fill:none;stroke:#000000;stroke-width:0.745833;\"/>\n    <path clip-path=\"url(#p19da3b1852)\" d=\"M 247.030369 253.624611 \nL 247.030369 253.697388 \n\" style=\"fill:none;stroke:#000000;stroke-width:0.745833;\"/>\n    <path clip-path=\"url(#p19da3b1852)\" d=\"M 251.129372 253.624611 \nL 251.129372 253.697388 \n\" style=\"fill:none;stroke:#000000;stroke-width:0.745833;\"/>\n    <path clip-path=\"url(#p19da3b1852)\" d=\"M 255.228375 253.624611 \nL 255.228375 253.697388 \n\" style=\"fill:none;stroke:#000000;stroke-width:0.745833;\"/>\n    <path clip-path=\"url(#p19da3b1852)\" d=\"M 259.327378 238.778001 \nL 259.327378 241.325213 \n\" style=\"fill:none;stroke:#000000;stroke-width:0.745833;\"/>\n    <path clip-path=\"url(#p19da3b1852)\" d=\"M 263.426381 213.451431 \nL 263.426381 216.871974 \n\" style=\"fill:none;stroke:#000000;stroke-width:0.745833;\"/>\n    <path clip-path=\"url(#p19da3b1852)\" d=\"M 267.525384 159.37775 \nL 267.525384 170.658262 \n\" style=\"fill:none;stroke:#000000;stroke-width:0.745833;\"/>\n    <path clip-path=\"url(#p19da3b1852)\" d=\"M 271.624387 161.924962 \nL 271.624387 166.07328 \n\" style=\"fill:none;stroke:#000000;stroke-width:0.745833;\"/>\n    <path clip-path=\"url(#p19da3b1852)\" d=\"M 275.72339 161.924962 \nL 275.72339 166.07328 \n\" style=\"fill:none;stroke:#000000;stroke-width:0.745833;\"/>\n    <path clip-path=\"url(#p19da3b1852)\" d=\"M 279.822393 161.924962 \nL 279.822393 166.07328 \n\" style=\"fill:none;stroke:#000000;stroke-width:0.745833;\"/>\n    <path clip-path=\"url(#p19da3b1852)\" d=\"M 283.921396 157.121647 \nL 283.921396 160.54219 \n\" style=\"fill:none;stroke:#000000;stroke-width:0.745833;\"/>\n    <path clip-path=\"url(#p19da3b1852)\" d=\"M 288.020398 163.671622 \nL 288.020398 165.636615 \n\" style=\"fill:none;stroke:#000000;stroke-width:0.745833;\"/>\n    <path clip-path=\"url(#p19da3b1852)\" d=\"M 292.119401 163.089402 \nL 292.119401 168.11105 \n\" style=\"fill:none;stroke:#000000;stroke-width:0.745833;\"/>\n    <path clip-path=\"url(#p19da3b1852)\" d=\"M 296.218404 155.666097 \nL 296.218404 155.738875 \n\" style=\"fill:none;stroke:#000000;stroke-width:0.745833;\"/>\n    <path clip-path=\"url(#p19da3b1852)\" d=\"M 300.317407 152.68222 \nL 300.317407 155.666097 \n\" style=\"fill:none;stroke:#000000;stroke-width:0.745833;\"/>\n    <path clip-path=\"url(#p19da3b1852)\" d=\"M 304.41641 152.68222 \nL 304.41641 155.666097 \n\" style=\"fill:none;stroke:#000000;stroke-width:0.745833;\"/>\n    <path clip-path=\"url(#p19da3b1852)\" d=\"M 308.515413 152.68222 \nL 308.515413 155.666097 \n\" style=\"fill:none;stroke:#000000;stroke-width:0.745833;\"/>\n    <path clip-path=\"url(#p19da3b1852)\" d=\"M 312.614416 164.03551 \nL 312.614416 173.93325 \n\" style=\"fill:none;stroke:#000000;stroke-width:0.745833;\"/>\n    <path clip-path=\"url(#p19da3b1852)\" d=\"M 316.713419 154.71999 \nL 316.713419 156.684982 \n\" style=\"fill:none;stroke:#000000;stroke-width:0.745833;\"/>\n    <path clip-path=\"url(#p19da3b1852)\" d=\"M 320.812422 134.34229 \nL 320.812422 142.638925 \n\" style=\"fill:none;stroke:#000000;stroke-width:0.745833;\"/>\n    <path clip-path=\"url(#p19da3b1852)\" d=\"M 324.911425 130.55786 \nL 324.911425 131.7223 \n\" style=\"fill:none;stroke:#000000;stroke-width:0.745833;\"/>\n    <path clip-path=\"url(#p19da3b1852)\" d=\"M 329.010428 119.932346 \nL 329.010428 131.7223 \n\" style=\"fill:none;stroke:#000000;stroke-width:0.745833;\"/>\n    <path clip-path=\"url(#p19da3b1852)\" d=\"M 333.109431 119.932346 \nL 333.109431 131.7223 \n\" style=\"fill:none;stroke:#000000;stroke-width:0.745833;\"/>\n    <path clip-path=\"url(#p19da3b1852)\" d=\"M 337.208434 119.932346 \nL 337.208434 131.7223 \n\" style=\"fill:none;stroke:#000000;stroke-width:0.745833;\"/>\n    <path clip-path=\"url(#p19da3b1852)\" d=\"M 341.307437 111.999598 \nL 341.307437 114.619588 \n\" style=\"fill:none;stroke:#000000;stroke-width:0.745833;\"/>\n    <path clip-path=\"url(#p19da3b1852)\" d=\"M 345.40644 113.164038 \nL 345.40644 117.821798 \n\" style=\"fill:none;stroke:#000000;stroke-width:0.745833;\"/>\n    <path clip-path=\"url(#p19da3b1852)\" d=\"M 349.505442 99.918533 \nL 349.505442 112.727373 \n\" style=\"fill:none;stroke:#000000;stroke-width:0.745833;\"/>\n    <path clip-path=\"url(#p19da3b1852)\" d=\"M 353.604445 105.012958 \nL 353.604445 106.686841 \n\" style=\"fill:none;stroke:#000000;stroke-width:0.745833;\"/>\n    <path clip-path=\"url(#p19da3b1852)\" d=\"M 357.703448 94.460221 \nL 357.703448 98.535761 \n\" style=\"fill:none;stroke:#000000;stroke-width:0.745833;\"/>\n    <path clip-path=\"url(#p19da3b1852)\" d=\"M 361.802451 94.460221 \nL 361.802451 98.535761 \n\" style=\"fill:none;stroke:#000000;stroke-width:0.745833;\"/>\n    <path clip-path=\"url(#p19da3b1852)\" d=\"M 365.901454 94.460221 \nL 365.901454 98.535761 \n\" style=\"fill:none;stroke:#000000;stroke-width:0.745833;\"/>\n    <path clip-path=\"url(#p19da3b1852)\" d=\"M 370.000457 92.495229 \nL 370.000457 95.479106 \n\" style=\"fill:none;stroke:#000000;stroke-width:0.745833;\"/>\n    <path clip-path=\"url(#p19da3b1852)\" d=\"M 374.09946 91.476344 \nL 374.09946 94.169111 \n\" style=\"fill:none;stroke:#000000;stroke-width:0.745833;\"/>\n    <path clip-path=\"url(#p19da3b1852)\" d=\"M 378.198463 80.195831 \nL 378.198463 80.850829 \n\" style=\"fill:none;stroke:#000000;stroke-width:0.745833;\"/>\n    <path clip-path=\"url(#p19da3b1852)\" d=\"M 382.297466 62.438122 \nL 382.297466 64.475892 \n\" style=\"fill:none;stroke:#000000;stroke-width:0.745833;\"/>\n    <path clip-path=\"url(#p19da3b1852)\" d=\"M 386.396469 61.055349 \nL 386.396469 61.855902 \n\" style=\"fill:none;stroke:#000000;stroke-width:0.745833;\"/>\n    <path clip-path=\"url(#p19da3b1852)\" d=\"M 390.495472 61.055349 \nL 390.495472 61.855902 \n\" style=\"fill:none;stroke:#000000;stroke-width:0.745833;\"/>\n    <path clip-path=\"url(#p19da3b1852)\" d=\"M 394.594475 61.055349 \nL 394.594475 61.855902 \n\" style=\"fill:none;stroke:#000000;stroke-width:0.745833;\"/>\n    <path clip-path=\"url(#p19da3b1852)\" d=\"M 398.693478 52.322049 \nL 398.693478 52.904269 \n\" style=\"fill:none;stroke:#000000;stroke-width:0.745833;\"/>\n    <path clip-path=\"url(#p19da3b1852)\" d=\"M 402.792481 48.173732 \nL 402.792481 56.761477 \n\" style=\"fill:none;stroke:#000000;stroke-width:0.745833;\"/>\n    <path clip-path=\"url(#p19da3b1852)\" d=\"M 406.891484 57.270919 \nL 406.891484 57.489252 \n\" style=\"fill:none;stroke:#000000;stroke-width:0.745833;\"/>\n    <path clip-path=\"url(#p19da3b1852)\" d=\"M 410.990486 55.888147 \nL 410.990486 57.853139 \n\" style=\"fill:none;stroke:#000000;stroke-width:0.745833;\"/>\n    <path clip-path=\"url(#p19da3b1852)\" d=\"M 415.089489 55.888147 \nL 415.089489 57.853139 \n\" style=\"fill:none;stroke:#000000;stroke-width:0.745833;\"/>\n    <path clip-path=\"url(#p19da3b1852)\" d=\"M 419.188492 55.888147 \nL 419.188492 57.853139 \n\" style=\"fill:none;stroke:#000000;stroke-width:0.745833;\"/>\n    <path clip-path=\"url(#p19da3b1852)\" d=\"M 423.287495 55.888147 \nL 423.287495 57.853139 \n\" style=\"fill:none;stroke:#000000;stroke-width:0.745833;\"/>\n    <path clip-path=\"url(#p19da3b1852)\" d=\"M 427.386498 52.758714 \nL 427.386498 54.578152 \n\" style=\"fill:none;stroke:#000000;stroke-width:0.745833;\"/>\n    <path clip-path=\"url(#p19da3b1852)\" d=\"M 431.485501 44.680412 \nL 431.485501 47.809844 \n\" style=\"fill:none;stroke:#000000;stroke-width:0.745833;\"/>\n    <path clip-path=\"url(#p19da3b1852)\" d=\"M 435.584504 39.949874 \nL 435.584504 43.297639 \n\" style=\"fill:none;stroke:#000000;stroke-width:0.745833;\"/>\n    <path clip-path=\"url(#p19da3b1852)\" d=\"M 439.683507 20.372727 \nL 439.683507 32.381015 \n\" style=\"fill:none;stroke:#000000;stroke-width:0.745833;\"/>\n   </g>\n   <g id=\"patch_3\">\n    <path d=\"M 47.868375 297 \nL 47.868375 7.2 \n\" style=\"fill:none;stroke:#000000;stroke-linecap:square;stroke-linejoin:miter;stroke-width:1.5;\"/>\n   </g>\n   <g id=\"patch_4\">\n    <path d=\"M 462.588375 297 \nL 462.588375 7.2 \n\" style=\"fill:none;stroke:#000000;stroke-linecap:square;stroke-linejoin:miter;stroke-width:1.5;\"/>\n   </g>\n   <g id=\"patch_5\">\n    <path d=\"M 47.868375 297 \nL 462.588375 297 \n\" style=\"fill:none;stroke:#000000;stroke-linecap:square;stroke-linejoin:miter;stroke-width:1.5;\"/>\n   </g>\n   <g id=\"patch_6\">\n    <path d=\"M 47.868375 7.2 \nL 462.588375 7.2 \n\" style=\"fill:none;stroke:#000000;stroke-linecap:square;stroke-linejoin:miter;stroke-width:1.5;\"/>\n   </g>\n  </g>\n </g>\n <defs>\n  <clipPath id=\"p19da3b1852\">\n   <rect height=\"289.8\" width=\"414.72\" x=\"47.868375\" y=\"7.2\"/>\n  </clipPath>\n </defs>\n</svg>\n",
      "image/png": "[encoded data removed]"
     },
     "metadata": {}
    }
   ],
   "source": [
    "# TODO\n",
    "import mplfinance as mpf \n",
    "mpf.plot(IBM_data_full['2016-01':'2016-03'],type='candle') "
   ]
  },
  {
   "cell_type": "markdown",
   "metadata": {},
   "source": [
    "读取AMZN_2006-01-01_to_2018-01-01.csv，其中包含了Amazon的股票数据。\n",
    "请以Date作为索引，'IBM'和'AMZN'作为列索引，构建一个Dataframe，其中的数据为两家公司每天的股票收盘价。"
   ]
  },
  {
   "cell_type": "code",
   "execution_count": 31,
   "metadata": {},
   "outputs": [],
   "source": [
    "AMZN_file = 'AMZN_2006-01-01_to_2018-01-01.csv'\n",
    "IBM_file = 'IBM_2006-01-01_to_2018-01-01.csv'\n",
    "\n",
    "AMZN_data = pd.read_csv(AMZN_file)\n",
    "IBM_data = pd.read_csv(IBM_file)\n",
    "\n",
    "# TODO\n"
   ]
  },
  {
   "cell_type": "code",
   "execution_count": 32,
   "metadata": {},
   "outputs": [
    {
     "output_type": "execute_result",
     "data": {
      "text/plain": [
       "               AMZN     IBM\n",
       "2006-01-03    47.58   82.06\n",
       "2006-01-04    47.25   81.95\n",
       "2006-01-05    47.65   82.50\n",
       "2006-01-06    47.87   84.95\n",
       "2006-01-09    47.08   83.73\n",
       "...             ...     ...\n",
       "2017-12-22  1168.36  152.50\n",
       "2017-12-26  1176.76  152.83\n",
       "2017-12-27  1182.26  153.13\n",
       "2017-12-28  1186.10  154.04\n",
       "2017-12-29  1169.47  153.42\n",
       "\n",
       "[3020 rows x 2 columns]"
      ],
      "text/html": "<div>\n<style scoped>\n    .dataframe tbody tr th:only-of-type {\n        vertical-align: middle;\n    }\n\n    .dataframe tbody tr th {\n        vertical-align: top;\n    }\n\n    .dataframe thead th {\n        text-align: right;\n    }\n</style>\n<table border=\"1\" class=\"dataframe\">\n  <thead>\n    <tr style=\"text-align: right;\">\n      <th></th>\n      <th>AMZN</th>\n      <th>IBM</th>\n    </tr>\n  </thead>\n  <tbody>\n    <tr>\n      <th>2006-01-03</th>\n      <td>47.58</td>\n      <td>82.06</td>\n    </tr>\n    <tr>\n      <th>2006-01-04</th>\n      <td>47.25</td>\n      <td>81.95</td>\n    </tr>\n    <tr>\n      <th>2006-01-05</th>\n      <td>47.65</td>\n      <td>82.50</td>\n    </tr>\n    <tr>\n      <th>2006-01-06</th>\n      <td>47.87</td>\n      <td>84.95</td>\n    </tr>\n    <tr>\n      <th>2006-01-09</th>\n      <td>47.08</td>\n      <td>83.73</td>\n    </tr>\n    <tr>\n      <th>...</th>\n      <td>...</td>\n      <td>...</td>\n    </tr>\n    <tr>\n      <th>2017-12-22</th>\n      <td>1168.36</td>\n      <td>152.50</td>\n    </tr>\n    <tr>\n      <th>2017-12-26</th>\n      <td>1176.76</td>\n      <td>152.83</td>\n    </tr>\n    <tr>\n      <th>2017-12-27</th>\n      <td>1182.26</td>\n      <td>153.13</td>\n    </tr>\n    <tr>\n      <th>2017-12-28</th>\n      <td>1186.10</td>\n      <td>154.04</td>\n    </tr>\n    <tr>\n      <th>2017-12-29</th>\n      <td>1169.47</td>\n      <td>153.42</td>\n    </tr>\n  </tbody>\n</table>\n<p>3020 rows × 2 columns</p>\n</div>"
     },
     "metadata": {},
     "execution_count": 32
    }
   ],
   "source": [
    "pd.DataFrame({'AMZN':AMZN_data.set_index('Date').Close,'IBM':IBM_data.set_index('Date').Close})"
   ]
  },
  {
   "cell_type": "markdown",
   "metadata": {},
   "source": [
    "### Exercise 3 选做部分 "
   ]
  },
  {
   "cell_type": "markdown",
   "metadata": {},
   "source": [
    "#### 选做题 1\n",
    "用NumPy实现k-means并加入距离函数的优化，比较不同距离函数得到的结果。\n",
    "\n",
    "可采用的距离函数：欧氏距离，曼哈顿距离等。\n",
    "聚类数据可以用上次作业的mnist，或者其他。"
   ]
  },
  {
   "cell_type": "code",
   "execution_count": null,
   "metadata": {},
   "outputs": [],
   "source": []
  },
  {
   "cell_type": "markdown",
   "metadata": {},
   "source": [
    "#### 选做题 2\n",
    "用匈牙利算法或KM算法（或网络流）实现最优匹配下的聚类错误率计算。\n",
    "\n",
    "举个简单的例子，假设现在有25张猫的照片和75张狗的照片，这100张照片经过聚类后被分成两类A和B，A中有20张猫18张狗，B中有5张猫57张狗，那么类别A应该对应猫还是狗才能实现最优匹配（错误率最低）？\n",
    "\n",
    "延续上一次作业的mnist数据集PCA降维聚类结果（用kmeans聚为10类），实现类别的最优匹配后，计算错误率。（可以辅以图表显示）"
   ]
  },
  {
   "cell_type": "code",
   "execution_count": null,
   "metadata": {},
   "outputs": [],
   "source": []
  }
 ],
 "metadata": {
  "kernelspec": {
   "display_name": "Python 3",
   "language": "python",
   "name": "python3"
  },
  "language_info": {
   "codemirror_mode": {
    "name": "ipython",
    "version": 3
   },
   "file_extension": ".py",
   "mimetype": "text/x-python",
   "name": "python",
   "nbconvert_exporter": "python",
   "pygments_lexer": "ipython3",
   "version": "3.8.5"
  }
 },
 "nbformat": 4,
 "nbformat_minor": 4
}